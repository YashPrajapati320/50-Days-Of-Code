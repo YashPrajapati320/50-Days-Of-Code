{
 "cells": [
  {
   "cell_type": "markdown",
   "metadata": {},
   "source": [
    "# Collections.namedtuple()"
   ]
  },
  {
   "cell_type": "code",
   "execution_count": 1,
   "metadata": {},
   "outputs": [],
   "source": [
    "#Input\n",
    "\n",
    "#TESTCASE 01\n",
    "\n",
    "#5\n",
    "#ID         MARKS      NAME       CLASS     \n",
    "#1          97         Raymond    7         \n",
    "#2          50         Steven     4         \n",
    "#3          91         Adrian     9         \n",
    "#4          72         Stewart    5         \n",
    "#5          80         Peter      6   \n",
    "\n",
    "#TESTCASE 02\n",
    "\n",
    "#5\n",
    "#MARKS      CLASS      NAME       ID        \n",
    "#92         2          Calum      1         \n",
    "#82         5          Scott      2         \n",
    "#94         2          Jason      3         \n",
    "#55         8          Glenn      4         \n",
    "#82         2          Fergus     5\n",
    "\n",
    "#Output\n",
    "\n",
    "#TESTCASE 01\n",
    "\n",
    "#78.00\n",
    "\n",
    "#TESTCASE 02\n",
    "\n",
    "#81.00"
   ]
  },
  {
   "cell_type": "code",
   "execution_count": null,
   "metadata": {},
   "outputs": [],
   "source": [
    "from collections import namedtuple\n",
    "\n",
    "N = int(input())\n",
    "fields = input().split()\n",
    "\n",
    "total = 0\n",
    "for i in range(N):\n",
    "    students = namedtuple('student',fields)\n",
    "    field1, field2, field3,field4 = input().split()\n",
    "    student = students(field1,field2,field3,field4)\n",
    "    total += int(student.MARKS)\n",
    "print('{:.2f}'.format(total/N))"
   ]
  }
 ],
 "metadata": {
  "kernelspec": {
   "display_name": "Python 3",
   "language": "python",
   "name": "python3"
  },
  "language_info": {
   "codemirror_mode": {
    "name": "ipython",
    "version": 3
   },
   "file_extension": ".py",
   "mimetype": "text/x-python",
   "name": "python",
   "nbconvert_exporter": "python",
   "pygments_lexer": "ipython3",
   "version": "3.7.4"
  }
 },
 "nbformat": 4,
 "nbformat_minor": 2
}
