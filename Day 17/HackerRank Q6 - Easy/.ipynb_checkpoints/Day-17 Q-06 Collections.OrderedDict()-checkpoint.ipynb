{
 "cells": [
  {
   "cell_type": "markdown",
   "metadata": {},
   "source": [
    "# Collections.OrderedDict()"
   ]
  },
  {
   "cell_type": "code",
   "execution_count": 1,
   "metadata": {},
   "outputs": [],
   "source": [
    "#Input\n",
    "\n",
    "#9\n",
    "#BANANA FRIES 12\n",
    "#POTATO CHIPS 30\n",
    "#APPLE JUICE 10\n",
    "#CANDY 5\n",
    "#APPLE JUICE 10\n",
    "#CANDY 5\n",
    "#CANDY 5\n",
    "#CANDY 5\n",
    "#POTATO CHIPS 30\n",
    "\n",
    "#Output\n",
    "\n",
    "#BANANA FRIES 12\n",
    "#POTATO CHIPS 60\n",
    "#APPLE JUICE 20\n",
    "#CANDY 20"
   ]
  },
  {
   "cell_type": "code",
   "execution_count": null,
   "metadata": {},
   "outputs": [],
   "source": [
    "from collections import OrderedDict\n",
    "d = OrderedDict()\n",
    "for _ in range(int(input())):\n",
    "    item, space, quantity = input().rpartition(' ')\n",
    "    d[item] = d.get(item, 0) + int(quantity)\n",
    "for item, quantity in d.items():\n",
    "    print(item, quantity)"
   ]
  }
 ],
 "metadata": {
  "kernelspec": {
   "display_name": "Python 3",
   "language": "python",
   "name": "python3"
  },
  "language_info": {
   "codemirror_mode": {
    "name": "ipython",
    "version": 3
   },
   "file_extension": ".py",
   "mimetype": "text/x-python",
   "name": "python",
   "nbconvert_exporter": "python",
   "pygments_lexer": "ipython3",
   "version": "3.7.4"
  }
 },
 "nbformat": 4,
 "nbformat_minor": 2
}
