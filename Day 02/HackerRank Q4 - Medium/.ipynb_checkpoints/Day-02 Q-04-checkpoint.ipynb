{
 "cells": [
  {
   "cell_type": "markdown",
   "metadata": {},
   "source": [
    "#  Time to Words"
   ]
  },
  {
   "cell_type": "markdown",
   "metadata": {},
   "source": [
    "1. Input:\n",
    "5\n",
    "47\n",
    "\n",
    "2. Ouput: thirteen minutes to six"
   ]
  },
  {
   "cell_type": "code",
   "execution_count": 30,
   "metadata": {},
   "outputs": [],
   "source": [
    "def timeInWords(h, m):\n",
    "    nums = [\"zero\", \"one\", \"two\", \"three\", \"four\", \n",
    "            \"five\", \"six\", \"seven\", \"eight\", \"nine\", \n",
    "            \"ten\", \"eleven\", \"twelve\", \"thirteen\", \n",
    "            \"fourteen\", \"fifteen\", \"sixteen\",  \n",
    "            \"seventeen\", \"eighteen\", \"nineteen\",  \n",
    "            \"twenty\", \"twenty one\", \"twenty two\",  \n",
    "            \"twenty three\", \"twenty four\",  \n",
    "            \"twenty five\", \"twenty six\", \"twenty seven\", \n",
    "            \"twenty eight\", \"twenty nine\"]\n",
    "    \n",
    "    if m == 0:\n",
    "        return \"{} o' clock\".format(nums[h])\n",
    "    elif 1<=m<30 and m != 15:\n",
    "        if 1<=m<10:\n",
    "            return \"{} minute past {}\".format(nums[m],nums[h])\n",
    "        return \"{} minutes past {}\".format(nums[m],nums[h])\n",
    "    elif m == 15:\n",
    "        return \"quarter past {}\".format(nums[h])\n",
    "    elif m == 30:\n",
    "        return \"half past {}\".format(nums[h])\n",
    "    elif 30 < m and m != 45:\n",
    "        return \"{} minutes to {}\".format(nums[60-m],nums[h+1])\n",
    "    elif m == 45:\n",
    "        return \"quarter to {}\".format(nums[h+1])"
   ]
  },
  {
   "cell_type": "code",
   "execution_count": 31,
   "metadata": {},
   "outputs": [
    {
     "data": {
      "text/plain": [
       "'one minute past one'"
      ]
     },
     "execution_count": 31,
     "metadata": {},
     "output_type": "execute_result"
    }
   ],
   "source": [
    "timeInWords(1,1)"
   ]
  },
  {
   "cell_type": "code",
   "execution_count": null,
   "metadata": {},
   "outputs": [],
   "source": []
  }
 ],
 "metadata": {
  "kernelspec": {
   "display_name": "Python 3",
   "language": "python",
   "name": "python3"
  },
  "language_info": {
   "codemirror_mode": {
    "name": "ipython",
    "version": 3
   },
   "file_extension": ".py",
   "mimetype": "text/x-python",
   "name": "python",
   "nbconvert_exporter": "python",
   "pygments_lexer": "ipython3",
   "version": "3.7.4"
  }
 },
 "nbformat": 4,
 "nbformat_minor": 2
}
