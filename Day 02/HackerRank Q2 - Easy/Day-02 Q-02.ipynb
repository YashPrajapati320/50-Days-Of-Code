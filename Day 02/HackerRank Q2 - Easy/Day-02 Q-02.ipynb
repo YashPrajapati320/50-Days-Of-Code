{
 "cells": [
  {
   "cell_type": "markdown",
   "metadata": {},
   "source": [
    "# Eye and Identity"
   ]
  },
  {
   "cell_type": "markdown",
   "metadata": {},
   "source": [
    "1. Input: 3 3\n",
    "\n",
    "2. Ouptut: [[1. 0. 0.][0. 1. 0.][0. 0. 1.]]"
   ]
  },
  {
   "cell_type": "code",
   "execution_count": 8,
   "metadata": {},
   "outputs": [
    {
     "name": "stdout",
     "output_type": "stream",
     "text": [
      "5 5\n",
      "[[ 1.  0.  0.  0.  0.]\n",
      " [ 0.  1.  0.  0.  0.]\n",
      " [ 0.  0.  1.  0.  0.]\n",
      " [ 0.  0.  0.  1.  0.]\n",
      " [ 0.  0.  0.  0.  1.]]\n"
     ]
    }
   ],
   "source": [
    "import numpy as np\n",
    "np.set_printoptions(sign=' ') #extra spaces between elements\n",
    "print(np.eye(*map(int , input().split())))\n",
    "\n",
    "#numpy.eye(8, 7, k = 1)    # 8 X 7 Dimensional array with first upper diagonal 1.\n",
    "#Output\n",
    "#[[ 0.  1.  0.  0.  0.  0.  0.]\n",
    "# [ 0.  0.  1.  0.  0.  0.  0.]\n",
    "# [ 0.  0.  0.  1.  0.  0.  0.]\n",
    "# [ 0.  0.  0.  0.  1.  0.  0.]\n",
    "# [ 0.  0.  0.  0.  0.  1.  0.]\n",
    "# [ 0.  0.  0.  0.  0.  0.  1.]\n",
    "# [ 0.  0.  0.  0.  0.  0.  0.]\n",
    "# [ 0.  0.  0.  0.  0.  0.  0.]]"
   ]
  },
  {
   "cell_type": "code",
   "execution_count": null,
   "metadata": {},
   "outputs": [],
   "source": []
  }
 ],
 "metadata": {
  "kernelspec": {
   "display_name": "Python 3",
   "language": "python",
   "name": "python3"
  },
  "language_info": {
   "codemirror_mode": {
    "name": "ipython",
    "version": 3
   },
   "file_extension": ".py",
   "mimetype": "text/x-python",
   "name": "python",
   "nbconvert_exporter": "python",
   "pygments_lexer": "ipython3",
   "version": "3.7.4"
  }
 },
 "nbformat": 4,
 "nbformat_minor": 2
}
