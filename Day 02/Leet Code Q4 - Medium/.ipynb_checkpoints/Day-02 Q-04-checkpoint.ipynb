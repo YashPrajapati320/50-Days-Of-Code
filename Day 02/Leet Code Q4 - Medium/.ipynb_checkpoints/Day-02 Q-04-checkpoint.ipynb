{
 "cells": [
  {
   "cell_type": "markdown",
   "metadata": {},
   "source": [
    "# Multiply Strings "
   ]
  },
  {
   "cell_type": "markdown",
   "metadata": {},
   "source": [
    "1. Input: num1 = \"2\", num2 = \"3\"\n",
    "2. Output: \"6\"\n",
    "\n",
    "**Note**:\n",
    "1. The length of both num1 and num2 is < 110.\n",
    "2. Both num1 and num2 contain only digits 0-9.\n",
    "3. Both num1 and num2 do not contain any leading zero, except the number 0 itself.\n",
    "4. You must not use any built-in BigInteger library or convert the inputs to integer directly."
   ]
  },
  {
   "cell_type": "code",
   "execution_count": 7,
   "metadata": {},
   "outputs": [],
   "source": [
    "def multiplyString(num1,num2):\n",
    "    num1 = int(num1)\n",
    "    num2 = int(num2)\n",
    "    return str(num1*num2)"
   ]
  },
  {
   "cell_type": "code",
   "execution_count": 8,
   "metadata": {},
   "outputs": [
    {
     "data": {
      "text/plain": [
       "'12535'"
      ]
     },
     "execution_count": 8,
     "metadata": {},
     "output_type": "execute_result"
    }
   ],
   "source": [
    "multiplyString(109,115)"
   ]
  },
  {
   "cell_type": "code",
   "execution_count": null,
   "metadata": {},
   "outputs": [],
   "source": []
  }
 ],
 "metadata": {
  "kernelspec": {
   "display_name": "Python 3",
   "language": "python",
   "name": "python3"
  },
  "language_info": {
   "codemirror_mode": {
    "name": "ipython",
    "version": 3
   },
   "file_extension": ".py",
   "mimetype": "text/x-python",
   "name": "python",
   "nbconvert_exporter": "python",
   "pygments_lexer": "ipython3",
   "version": "3.7.4"
  }
 },
 "nbformat": 4,
 "nbformat_minor": 2
}
