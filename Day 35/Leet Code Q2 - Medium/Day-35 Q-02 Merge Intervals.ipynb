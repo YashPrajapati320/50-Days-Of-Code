{
 "cells": [
  {
   "cell_type": "markdown",
   "metadata": {},
   "source": [
    "# Merge Intervals"
   ]
  },
  {
   "cell_type": "code",
   "execution_count": 1,
   "metadata": {},
   "outputs": [],
   "source": [
    "#Example 1:\n",
    "\n",
    "#Input: intervals = [[1,3],[2,6],[8,10],[15,18]]\n",
    "#Output: [[1,6],[8,10],[15,18]]\n",
    "#Explanation: Since intervals [1,3] and [2,6] overlaps, merge them into [1,6].\n",
    "\n",
    "#Example 2:\n",
    "\n",
    "#Input: intervals = [[1,4],[4,5]]\n",
    "#Output: [[1,5]]\n",
    "#Explanation: Intervals [1,4] and [4,5] are considered overlapping."
   ]
  },
  {
   "cell_type": "code",
   "execution_count": 114,
   "metadata": {},
   "outputs": [],
   "source": [
    "def merge(intervals):\n",
    "    if len(intervals) <= 1: return intervals\n",
    "    num = 0\n",
    "    result = []\n",
    "    while num<len(intervals)-1:\n",
    "        #print(intervals[num-1][0],intervals[num-1][1])\n",
    "        #print(set(range(intervals[num-1][0],intervals[num-1][1]+1)))\n",
    "        #print(intervals[num][0],intervals[num][1])\n",
    "        #print(set(range(intervals[num][0],intervals[num][1]+1)))\n",
    "        if set(range(intervals[num][0],intervals[num][1]+1)).intersection(range(intervals[num+1][0],intervals[num+1][1]+1)):\n",
    "            #print('True')\n",
    "            result.append([min(intervals[num][0],intervals[num+1][0]),max(intervals[num][1],intervals[num+1][1])])\n",
    "            print('result',result)\n",
    "            intervals.pop(num)\n",
    "            intervals.pop(num)\n",
    "            print(intervals)\n",
    "            print(num,len(intervals))\n",
    "        else:\n",
    "            result.append(intervals[num])\n",
    "            result.append(intervals[num+1])\n",
    "            #print(result)\n",
    "            intervals.pop(num)\n",
    "            intervals.pop(num)\n",
    "    return result"
   ]
  },
  {
   "cell_type": "code",
   "execution_count": 115,
   "metadata": {},
   "outputs": [
    {
     "name": "stdout",
     "output_type": "stream",
     "text": [
      "result [[1, 6]]\n",
      "[[8, 10], [15, 18]]\n",
      "0 2\n"
     ]
    },
    {
     "data": {
      "text/plain": [
       "[[1, 6], [8, 10], [15, 18]]"
      ]
     },
     "execution_count": 115,
     "metadata": {},
     "output_type": "execute_result"
    }
   ],
   "source": [
    "merge([[1,3],[2,6],[8,10],[15,18]])"
   ]
  },
  {
   "cell_type": "code",
   "execution_count": 116,
   "metadata": {},
   "outputs": [
    {
     "name": "stdout",
     "output_type": "stream",
     "text": [
      "result [[1, 5]]\n",
      "[]\n",
      "0 0\n"
     ]
    },
    {
     "data": {
      "text/plain": [
       "[[1, 5]]"
      ]
     },
     "execution_count": 116,
     "metadata": {},
     "output_type": "execute_result"
    }
   ],
   "source": [
    "merge([[1,4],[4,5]])"
   ]
  },
  {
   "cell_type": "code",
   "execution_count": 117,
   "metadata": {},
   "outputs": [
    {
     "data": {
      "text/plain": [
       "[[1, 4], [5, 6]]"
      ]
     },
     "execution_count": 117,
     "metadata": {},
     "output_type": "execute_result"
    }
   ],
   "source": [
    "merge([[1,4],[5,6]])"
   ]
  },
  {
   "cell_type": "code",
   "execution_count": 118,
   "metadata": {},
   "outputs": [
    {
     "data": {
      "text/plain": [
       "[[1, 3]]"
      ]
     },
     "execution_count": 118,
     "metadata": {},
     "output_type": "execute_result"
    }
   ],
   "source": [
    "merge([[1,3]])"
   ]
  },
  {
   "cell_type": "code",
   "execution_count": 119,
   "metadata": {},
   "outputs": [
    {
     "name": "stdout",
     "output_type": "stream",
     "text": [
      "result [[0, 4]]\n",
      "[]\n",
      "0 0\n"
     ]
    },
    {
     "data": {
      "text/plain": [
       "[[0, 4]]"
      ]
     },
     "execution_count": 119,
     "metadata": {},
     "output_type": "execute_result"
    }
   ],
   "source": [
    "merge([[1,4],[0,4]])"
   ]
  },
  {
   "cell_type": "code",
   "execution_count": 120,
   "metadata": {},
   "outputs": [
    {
     "name": "stdout",
     "output_type": "stream",
     "text": [
      "result [[0, 4]]\n",
      "[[3, 5]]\n",
      "0 1\n"
     ]
    },
    {
     "data": {
      "text/plain": [
       "[[0, 4]]"
      ]
     },
     "execution_count": 120,
     "metadata": {},
     "output_type": "execute_result"
    }
   ],
   "source": [
    "merge([[1,4],[0,2],[3,5]])"
   ]
  },
  {
   "cell_type": "code",
   "execution_count": null,
   "metadata": {},
   "outputs": [],
   "source": []
  }
 ],
 "metadata": {
  "kernelspec": {
   "display_name": "Python 3",
   "language": "python",
   "name": "python3"
  },
  "language_info": {
   "codemirror_mode": {
    "name": "ipython",
    "version": 3
   },
   "file_extension": ".py",
   "mimetype": "text/x-python",
   "name": "python",
   "nbconvert_exporter": "python",
   "pygments_lexer": "ipython3",
   "version": "3.7.4"
  }
 },
 "nbformat": 4,
 "nbformat_minor": 2
}
