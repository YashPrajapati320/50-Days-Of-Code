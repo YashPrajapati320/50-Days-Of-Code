{
 "cells": [
  {
   "cell_type": "markdown",
   "metadata": {},
   "source": [
    "# Find All Anagrams in a String"
   ]
  },
  {
   "cell_type": "code",
   "execution_count": 1,
   "metadata": {},
   "outputs": [],
   "source": [
    "#Example 1:\n",
    "\n",
    "#Input:\n",
    "#s: \"cbaebabacd\" p: \"abc\"\n",
    "\n",
    "#Output:\n",
    "#[0, 6]\n",
    "\n",
    "#Explanation:\n",
    "#The substring with start index = 0 is \"cba\", which is an anagram of \"abc\".\n",
    "#The substring with start index = 6 is \"bac\", which is an anagram of \"abc\".\n",
    "\n",
    "#Example 2:\n",
    "\n",
    "#Input:\n",
    "#s: \"abab\" p: \"ab\"\n",
    "\n",
    "#Output:\n",
    "#[0, 1, 2]\n",
    "\n",
    "#Explanation:\n",
    "#The substring with start index = 0 is \"ab\", which is an anagram of \"ab\".\n",
    "#The substring with start index = 1 is \"ba\", which is an anagram of \"ab\".\n",
    "#The substring with start index = 2 is \"ab\", which is an anagram of \"ab\"."
   ]
  },
  {
   "cell_type": "code",
   "execution_count": 33,
   "metadata": {},
   "outputs": [],
   "source": [
    "from itertools import permutations\n",
    "import collections\n",
    "class Solution:    \n",
    "    def findAnagrams(s,p):\n",
    "        n = len(s)\n",
    "        m = len(p)\n",
    "        \n",
    "        p = collections.Counter(p)                    # Convert list of anagram letters to a Counter (hashtable)\n",
    "        ans = []\n",
    "           \n",
    "        window = None\n",
    "        for i in range(0,n-m+1):\n",
    "            if i == 0: \n",
    "                window = collections.Counter(s[:m])   # Initialize window with beginning of s => length = length of anagram letters\n",
    "            else:    \n",
    "                window[s[i-1]] -= 1       # Move window to right: 1. remove character on the left\n",
    "                window[s[i+m-1]] += 1     #                       2. add character on the right\n",
    "            if len(window - p) == 0:      # Check if window is anagram (direct comparison of counters does not work with 0 entries)\n",
    "                ans.append(i)\n",
    "                \n",
    "        return ans"
   ]
  },
  {
   "cell_type": "code",
   "execution_count": 34,
   "metadata": {},
   "outputs": [
    {
     "data": {
      "text/plain": [
       "[0, 1, 2]"
      ]
     },
     "execution_count": 34,
     "metadata": {},
     "output_type": "execute_result"
    }
   ],
   "source": [
    "Solution.findAnagrams('abab','ab')"
   ]
  },
  {
   "cell_type": "code",
   "execution_count": null,
   "metadata": {},
   "outputs": [],
   "source": []
  },
  {
   "cell_type": "code",
   "execution_count": null,
   "metadata": {},
   "outputs": [],
   "source": []
  }
 ],
 "metadata": {
  "kernelspec": {
   "display_name": "Python 3",
   "language": "python",
   "name": "python3"
  },
  "language_info": {
   "codemirror_mode": {
    "name": "ipython",
    "version": 3
   },
   "file_extension": ".py",
   "mimetype": "text/x-python",
   "name": "python",
   "nbconvert_exporter": "python",
   "pygments_lexer": "ipython3",
   "version": "3.7.4"
  }
 },
 "nbformat": 4,
 "nbformat_minor": 2
}
