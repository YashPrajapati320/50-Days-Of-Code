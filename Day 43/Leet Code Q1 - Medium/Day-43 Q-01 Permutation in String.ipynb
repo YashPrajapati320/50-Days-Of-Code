{
 "cells": [
  {
   "cell_type": "markdown",
   "metadata": {},
   "source": [
    "# Permutation in String"
   ]
  },
  {
   "cell_type": "code",
   "execution_count": 1,
   "metadata": {},
   "outputs": [],
   "source": [
    "#Example 1:\n",
    "\n",
    "#Input: s1 = \"ab\" s2 = \"eidbaooo\"\n",
    "#Output: True\n",
    "#Explanation: s2 contains one permutation of s1 (\"ba\").\n",
    "\n",
    "#Example 2:\n",
    "\n",
    "#Input:s1= \"ab\" s2 = \"eidboaoo\"\n",
    "#Output: False"
   ]
  },
  {
   "cell_type": "code",
   "execution_count": 10,
   "metadata": {},
   "outputs": [],
   "source": [
    "from itertools import permutations\n",
    "def checkInclusion(s1,s2):\n",
    "    for i in permutations(s1):\n",
    "        if ''.join(i) in s2:\n",
    "            print(''.join(i))\n",
    "            print(True)"
   ]
  },
  {
   "cell_type": "code",
   "execution_count": 11,
   "metadata": {},
   "outputs": [
    {
     "name": "stdout",
     "output_type": "stream",
     "text": [
      "ba\n",
      "True\n"
     ]
    }
   ],
   "source": [
    "checkInclusion('ab','eidbaooo')"
   ]
  },
  {
   "cell_type": "code",
   "execution_count": null,
   "metadata": {},
   "outputs": [],
   "source": [
    "# For Long Strings\n",
    "from collections import Counter\n",
    "class Solution:\n",
    "    def abc(s1,s2):\n",
    "        d1 = Counter(s1)\n",
    "        k = len(s1)\n",
    "        for i in range(len(s2)):  # ---- O(n)\n",
    "            sub = s2[i:i+k]  # ------ O(k)\n",
    "            d2 = Counter(sub) # --- O(k)\n",
    "            if d1 == d2:\n",
    "                return True\n",
    "        return False"
   ]
  }
 ],
 "metadata": {
  "kernelspec": {
   "display_name": "Python 3",
   "language": "python",
   "name": "python3"
  },
  "language_info": {
   "codemirror_mode": {
    "name": "ipython",
    "version": 3
   },
   "file_extension": ".py",
   "mimetype": "text/x-python",
   "name": "python",
   "nbconvert_exporter": "python",
   "pygments_lexer": "ipython3",
   "version": "3.7.4"
  }
 },
 "nbformat": 4,
 "nbformat_minor": 2
}
