{
 "cells": [
  {
   "cell_type": "markdown",
   "metadata": {},
   "source": [
    "# String to Integer"
   ]
  },
  {
   "cell_type": "markdown",
   "metadata": {},
   "source": [
    "1. Example 1:\n",
    "\n",
    "\n",
    "Input: \"42\"\n",
    "\n",
    "\n",
    "Output: 42\n",
    "\n",
    "\n",
    "2. Example 2:\n",
    "\n",
    "\n",
    "Input: \"   -42\"\n",
    "\n",
    "\n",
    "Output: -42\n",
    "\n",
    "\n",
    "Explanation: The first non-whitespace character is '-', which is the minus sign.\n",
    "             Then take as many numerical digits as possible, which gets 42.\n",
    "             \n",
    "             \n",
    "3. Example 3:\n",
    "\n",
    "\n",
    "Input: \"4193 with words\"\n",
    "\n",
    "\n",
    "Output: 4193\n",
    "\n",
    "\n",
    "Explanation: Conversion stops at digit '3' as the next character is not a numerical digit.\n",
    "\n",
    "\n",
    "4. Example 4:\n",
    "\n",
    "\n",
    "Input: \"words and 987\"\n",
    "\n",
    "\n",
    "Output: 0\n",
    "\n",
    "\n",
    "Explanation: The first non-whitespace character is 'w', which is not a numerical \n",
    "             digit or a +/- sign. Therefore no valid conversion could be performed.\n",
    "\n",
    "\n",
    "5. Example 5:\n",
    "\n",
    "\n",
    "Input: \"-91283472332\"\n",
    "\n",
    "\n",
    "Output: -2147483648\n",
    "\n",
    "\n",
    "Explanation: The number \"-91283472332\" is out of the range of a 32-bit signed integer.\n",
    "             Thefore INT_MIN (−231) is returned."
   ]
  },
  {
   "cell_type": "code",
   "execution_count": 8,
   "metadata": {},
   "outputs": [],
   "source": [
    "class Solution:\n",
    "    def myAtoi(self, str: str) -> int:\n",
    "        str = str.strip()\n",
    "        if not str: \n",
    "            return 0\n",
    "        i = 0\n",
    "        negative = False\n",
    "        if str[0] == '+':\n",
    "            i += 1\n",
    "        elif str[0] == '-':\n",
    "            negative = True\n",
    "            i += 1\n",
    "        value = 0\n",
    "        while i < len(str) and str[i].isdigit():\n",
    "            value *= 10\n",
    "            value += (ord(str[i]) - ord('0'))\n",
    "            i += 1\n",
    "        if negative: \n",
    "            value = -value\n",
    "        value = max(-2**31, value)\n",
    "        value = min(2**31 - 1, value)\n",
    "        return value"
   ]
  },
  {
   "cell_type": "code",
   "execution_count": null,
   "metadata": {},
   "outputs": [],
   "source": []
  },
  {
   "cell_type": "code",
   "execution_count": null,
   "metadata": {},
   "outputs": [],
   "source": []
  }
 ],
 "metadata": {
  "kernelspec": {
   "display_name": "Python 3",
   "language": "python",
   "name": "python3"
  },
  "language_info": {
   "codemirror_mode": {
    "name": "ipython",
    "version": 3
   },
   "file_extension": ".py",
   "mimetype": "text/x-python",
   "name": "python",
   "nbconvert_exporter": "python",
   "pygments_lexer": "ipython3",
   "version": "3.7.4"
  }
 },
 "nbformat": 4,
 "nbformat_minor": 2
}
