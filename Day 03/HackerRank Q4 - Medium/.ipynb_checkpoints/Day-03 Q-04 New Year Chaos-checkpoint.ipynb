{
 "cells": [
  {
   "cell_type": "markdown",
   "metadata": {},
   "source": [
    "# New Year Chaos"
   ]
  },
  {
   "cell_type": "markdown",
   "metadata": {},
   "source": [
    "1. Input:\n",
    "\n",
    "The first line contains an integer , the number of test cases.\n",
    "\n",
    "Each of the next  pairs of lines are as follows:\n",
    "- The first line contains an integer , the number of people in the queue\n",
    "- The second line has  space-separated integers describing the final state of the queue.\n",
    "\n",
    "\n",
    "2. Output:\n",
    "\n",
    "Print an integer denoting the minimum number of bribes needed to get the queue into its final state. Print Too chaotic if the state is invalid, i.e. it requires a person to have bribed more than 2 people.\n"
   ]
  },
  {
   "cell_type": "code",
   "execution_count": 66,
   "metadata": {},
   "outputs": [],
   "source": [
    "def minimumBribes(Q):\n",
    "    moves = 0\n",
    "    Q = [P-1 for P in Q]\n",
    "    for i,P in enumerate(Q):\n",
    "        if P - i > 2:\n",
    "            print(\"Too chaotic\")\n",
    "            return\n",
    "        for j in range(max(P-1,0),i):\n",
    "            if Q[j] > P:\n",
    "                moves += 1\n",
    "    print(moves)"
   ]
  },
  {
   "cell_type": "code",
   "execution_count": 65,
   "metadata": {},
   "outputs": [
    {
     "name": "stdout",
     "output_type": "stream",
     "text": [
      "[1, 4, 0, 2, 3]\n",
      "Too chaotic\n"
     ]
    }
   ],
   "source": [
    "minimumBribes([2,5,1,3,4])"
   ]
  },
  {
   "cell_type": "code",
   "execution_count": 68,
   "metadata": {},
   "outputs": [
    {
     "name": "stdout",
     "output_type": "stream",
     "text": [
      "2\n",
      "5\n",
      "2 1 5 3 4\n",
      "3\n",
      "5\n",
      "2 5 1 3 4\n",
      "Too chaotic\n"
     ]
    }
   ],
   "source": [
    "t = int(input())\n",
    "for t_itr in range(t):\n",
    "    n = int(input())\n",
    "    q = list(map(int, input().rstrip().split()))\n",
    "    minimumBribes(q)"
   ]
  },
  {
   "cell_type": "code",
   "execution_count": null,
   "metadata": {},
   "outputs": [],
   "source": []
  }
 ],
 "metadata": {
  "kernelspec": {
   "display_name": "Python 3",
   "language": "python",
   "name": "python3"
  },
  "language_info": {
   "codemirror_mode": {
    "name": "ipython",
    "version": 3
   },
   "file_extension": ".py",
   "mimetype": "text/x-python",
   "name": "python",
   "nbconvert_exporter": "python",
   "pygments_lexer": "ipython3",
   "version": "3.7.4"
  }
 },
 "nbformat": 4,
 "nbformat_minor": 2
}
