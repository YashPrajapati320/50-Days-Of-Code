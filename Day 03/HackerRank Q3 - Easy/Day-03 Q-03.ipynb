{
 "cells": [
  {
   "cell_type": "markdown",
   "metadata": {},
   "source": [
    "# Counting Valleys"
   ]
  },
  {
   "cell_type": "markdown",
   "metadata": {},
   "source": [
    "1. **Input:**\n",
    "\n",
    "The first line contains an integer , the number of steps in Gary's hike.\n",
    "The second line contains a single string , of  characters that describe his path.\n",
    "\n",
    "2. **Output Format:**\n",
    "\n",
    "Print a single integer that denotes the number of valleys Gary walked through during his hike."
   ]
  },
  {
   "cell_type": "code",
   "execution_count": 20,
   "metadata": {},
   "outputs": [],
   "source": [
    "def countingValleys(n, steps):\n",
    "    seaLevel = valley = 0\n",
    "\n",
    "    for step in range(0,len(steps)):\n",
    "        if steps[step] == 'U':\n",
    "            seaLevel += 1\n",
    "            print(seaLevel)\n",
    "        else:\n",
    "            seaLevel -= 1\n",
    "            print(seaLevel)\n",
    "        \n",
    "        if steps[step] == 'U' and seaLevel == 0:\n",
    "            valley += 1\n",
    "    \n",
    "    return valley"
   ]
  },
  {
   "cell_type": "code",
   "execution_count": 23,
   "metadata": {},
   "outputs": [
    {
     "name": "stdout",
     "output_type": "stream",
     "text": [
      "1\n",
      "0\n",
      "-1\n",
      "-2\n",
      "-1\n",
      "-2\n",
      "-1\n",
      "0\n"
     ]
    },
    {
     "data": {
      "text/plain": [
       "1"
      ]
     },
     "execution_count": 23,
     "metadata": {},
     "output_type": "execute_result"
    }
   ],
   "source": [
    "n = 8\n",
    "s = [\"U\",\"D\",\"D\",\"D\",\"U\",\"D\",\"U\",\"U\"]\n",
    "countingValleys(n,s)"
   ]
  },
  {
   "cell_type": "code",
   "execution_count": null,
   "metadata": {},
   "outputs": [],
   "source": []
  }
 ],
 "metadata": {
  "kernelspec": {
   "display_name": "Python 3",
   "language": "python",
   "name": "python3"
  },
  "language_info": {
   "codemirror_mode": {
    "name": "ipython",
    "version": 3
   },
   "file_extension": ".py",
   "mimetype": "text/x-python",
   "name": "python",
   "nbconvert_exporter": "python",
   "pygments_lexer": "ipython3",
   "version": "3.7.4"
  }
 },
 "nbformat": 4,
 "nbformat_minor": 2
}
