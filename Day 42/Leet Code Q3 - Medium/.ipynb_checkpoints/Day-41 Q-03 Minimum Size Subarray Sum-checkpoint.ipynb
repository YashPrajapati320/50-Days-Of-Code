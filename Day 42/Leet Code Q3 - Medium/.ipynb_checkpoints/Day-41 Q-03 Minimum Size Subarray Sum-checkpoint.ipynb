{
 "cells": [
  {
   "cell_type": "markdown",
   "metadata": {},
   "source": [
    "# Minimum Size Subarray Sum"
   ]
  },
  {
   "cell_type": "code",
   "execution_count": 1,
   "metadata": {},
   "outputs": [],
   "source": [
    "#Example: \n",
    "\n",
    "#Input: s = 7, nums = [2,3,1,2,4,3]\n",
    "#Output: 2\n",
    "#Explanation: the subarray [4,3] has the minimal length under the problem constraint."
   ]
  },
  {
   "cell_type": "code",
   "execution_count": 52,
   "metadata": {},
   "outputs": [],
   "source": [
    "from itertools import combinations\n",
    "def minSubArrayMin(s,nums):\n",
    "    if not nums:\n",
    "        return 0\n",
    "    l = len(nums)\n",
    "    if not l:\n",
    "        return 0\n",
    "    for i in range(1, len(nums)+1):\n",
    "        for j in range(len(nums)-i+1):\n",
    "            #print(nums[j:j+i])\n",
    "            if sum(nums[j:j+i]) >= s:\n",
    "                return len(nums[j:j+i])\n",
    "    return 0"
   ]
  },
  {
   "cell_type": "code",
   "execution_count": 53,
   "metadata": {},
   "outputs": [
    {
     "data": {
      "text/plain": [
       "2"
      ]
     },
     "execution_count": 53,
     "metadata": {},
     "output_type": "execute_result"
    }
   ],
   "source": [
    "minSubArrayMin(7,[2,3,1,2,4,3])"
   ]
  },
  {
   "cell_type": "code",
   "execution_count": 54,
   "metadata": {},
   "outputs": [
    {
     "data": {
      "text/plain": [
       "2"
      ]
     },
     "execution_count": 54,
     "metadata": {},
     "output_type": "execute_result"
    }
   ],
   "source": [
    "minSubArrayMin(20,[2,16,14,15])"
   ]
  },
  {
   "cell_type": "code",
   "execution_count": 55,
   "metadata": {},
   "outputs": [
    {
     "data": {
      "text/plain": [
       "8"
      ]
     },
     "execution_count": 55,
     "metadata": {},
     "output_type": "execute_result"
    }
   ],
   "source": [
    "minSubArrayMin(213,[12,28,83,4,25,26,25,2,25,25,25,12])"
   ]
  },
  {
   "cell_type": "code",
   "execution_count": 56,
   "metadata": {},
   "outputs": [
    {
     "data": {
      "text/plain": [
       "0"
      ]
     },
     "execution_count": 56,
     "metadata": {},
     "output_type": "execute_result"
    }
   ],
   "source": [
    "minSubArrayMin(3,[1,1])"
   ]
  },
  {
   "cell_type": "code",
   "execution_count": 58,
   "metadata": {},
   "outputs": [],
   "source": [
    "# For Large Arrays\n",
    "class Solution:\n",
    "    def minSubArrayLen(s, nums):\n",
    "        if not nums: return 0\n",
    "        \n",
    "        l = 9999999\n",
    "        sum = 0\n",
    "        step = False\n",
    "        ini = 0\n",
    "        for i in range(0, len(nums)):  \n",
    "            sum += nums[i]    \n",
    "            while sum >= s and ini <= i:\n",
    "                l = min(l, i - ini + 1)\n",
    "                if l == 1: return 1\n",
    "                sum -= nums[ini]\n",
    "                ini += 1\n",
    "                step = True\n",
    "                \n",
    "            if step:\n",
    "                sum -= nums[ini]\n",
    "                ini += 1\n",
    "            \n",
    "        return l if l != 9999999 else 0"
   ]
  },
  {
   "cell_type": "code",
   "execution_count": 59,
   "metadata": {},
   "outputs": [
    {
     "data": {
      "text/plain": [
       "0"
      ]
     },
     "execution_count": 59,
     "metadata": {},
     "output_type": "execute_result"
    }
   ],
   "source": [
    "Solution.minSubArrayLen(3,[1,1])"
   ]
  },
  {
   "cell_type": "code",
   "execution_count": null,
   "metadata": {},
   "outputs": [],
   "source": []
  }
 ],
 "metadata": {
  "kernelspec": {
   "display_name": "Python 3",
   "language": "python",
   "name": "python3"
  },
  "language_info": {
   "codemirror_mode": {
    "name": "ipython",
    "version": 3
   },
   "file_extension": ".py",
   "mimetype": "text/x-python",
   "name": "python",
   "nbconvert_exporter": "python",
   "pygments_lexer": "ipython3",
   "version": "3.7.4"
  }
 },
 "nbformat": 4,
 "nbformat_minor": 2
}
