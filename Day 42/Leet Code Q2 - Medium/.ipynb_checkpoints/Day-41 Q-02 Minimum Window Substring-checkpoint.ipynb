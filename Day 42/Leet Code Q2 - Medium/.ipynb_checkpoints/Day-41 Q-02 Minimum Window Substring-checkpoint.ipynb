{
 "cells": [
  {
   "cell_type": "markdown",
   "metadata": {},
   "source": [
    "# Minimum Window Substring"
   ]
  },
  {
   "cell_type": "code",
   "execution_count": 1,
   "metadata": {},
   "outputs": [],
   "source": [
    "#Example:\n",
    "\n",
    "#Input: S = \"ADOBECODEBANC\", T = \"ABC\"\n",
    "#Output: \"BANC\""
   ]
  },
  {
   "cell_type": "code",
   "execution_count": 107,
   "metadata": {},
   "outputs": [],
   "source": [
    "from itertools import combinations\n",
    "from itertools import chain\n",
    "def minWindow(s,t):\n",
    "    need, missing = collections.Counter(t), len(t)\n",
    "    i = I = J = 0\n",
    "    for j, c in enumerate(s, 1):\n",
    "        missing -= need[c] > 0\n",
    "        need[c] -= 1\n",
    "        if not missing:\n",
    "            while i < j and need[s[i]] < 0:\n",
    "                need[s[i]] += 1\n",
    "                i += 1\n",
    "            if not J or j - i <= J - I:\n",
    "                I, J = i, j\n",
    "    return s[I:J]"
   ]
  },
  {
   "cell_type": "code",
   "execution_count": 108,
   "metadata": {},
   "outputs": [
    {
     "data": {
      "text/plain": [
       "'BANC'"
      ]
     },
     "execution_count": 108,
     "metadata": {},
     "output_type": "execute_result"
    }
   ],
   "source": [
    "minWindow(\"ADOBECODEBANC\",\"ABC\")"
   ]
  },
  {
   "cell_type": "code",
   "execution_count": null,
   "metadata": {},
   "outputs": [],
   "source": []
  }
 ],
 "metadata": {
  "kernelspec": {
   "display_name": "Python 3",
   "language": "python",
   "name": "python3"
  },
  "language_info": {
   "codemirror_mode": {
    "name": "ipython",
    "version": 3
   },
   "file_extension": ".py",
   "mimetype": "text/x-python",
   "name": "python",
   "nbconvert_exporter": "python",
   "pygments_lexer": "ipython3",
   "version": "3.7.4"
  }
 },
 "nbformat": 4,
 "nbformat_minor": 2
}
