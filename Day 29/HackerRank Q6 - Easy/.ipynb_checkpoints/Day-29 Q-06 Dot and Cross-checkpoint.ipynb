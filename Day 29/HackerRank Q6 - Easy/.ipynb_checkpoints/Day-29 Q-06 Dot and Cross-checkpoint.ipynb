{
 "cells": [
  {
   "cell_type": "markdown",
   "metadata": {},
   "source": [
    "# Dot and Cross"
   ]
  },
  {
   "cell_type": "code",
   "execution_count": 1,
   "metadata": {},
   "outputs": [],
   "source": [
    "#Sample Input\n",
    "\n",
    "#2\n",
    "#1 2\n",
    "#3 4\n",
    "#1 2\n",
    "#3 4\n",
    "\n",
    "#Sample Output\n",
    "\n",
    "#[[ 7 10]\n",
    "# [15 22]]"
   ]
  },
  {
   "cell_type": "code",
   "execution_count": 4,
   "metadata": {},
   "outputs": [
    {
     "name": "stdout",
     "output_type": "stream",
     "text": [
      "2\n",
      "1 2\n",
      "3 4\n",
      "1 \n",
      "1 2\n",
      "[list([1, 1, 2, 1, 2]) list([1, 1, 1, 1, 2, 1, 2, 1, 2, 1, 2])]\n"
     ]
    }
   ],
   "source": [
    "import numpy\n",
    "n=int(input())\n",
    "arr1,arr2=[(numpy.array([list(map(int,input().split())) for _ in range(n)])) for _ in range(2)]\n",
    "print (numpy.dot(arr1,arr2))"
   ]
  },
  {
   "cell_type": "code",
   "execution_count": null,
   "metadata": {},
   "outputs": [],
   "source": []
  }
 ],
 "metadata": {
  "kernelspec": {
   "display_name": "Python 3",
   "language": "python",
   "name": "python3"
  },
  "language_info": {
   "codemirror_mode": {
    "name": "ipython",
    "version": 3
   },
   "file_extension": ".py",
   "mimetype": "text/x-python",
   "name": "python",
   "nbconvert_exporter": "python",
   "pygments_lexer": "ipython3",
   "version": "3.7.4"
  }
 },
 "nbformat": 4,
 "nbformat_minor": 2
}
