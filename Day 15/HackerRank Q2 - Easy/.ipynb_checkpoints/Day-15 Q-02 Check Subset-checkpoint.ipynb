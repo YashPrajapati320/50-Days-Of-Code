{
 "cells": [
  {
   "cell_type": "markdown",
   "metadata": {},
   "source": [
    "# Check Subset"
   ]
  },
  {
   "cell_type": "code",
   "execution_count": 1,
   "metadata": {},
   "outputs": [],
   "source": [
    "#Input\n",
    "\n",
    "#3\n",
    "#5\n",
    "#1 2 3 5 6\n",
    "#9\n",
    "#9 8 5 6 3 2 1 4 7\n",
    "#1\n",
    "#2\n",
    "#5\n",
    "#3 6 5 4 1\n",
    "#7\n",
    "#1 2 3 5 6 8 9\n",
    "#3\n",
    "#9 8 2\n",
    "\n",
    "#Output\n",
    "\n",
    "#True \n",
    "#False\n",
    "#False\n",
    "\n",
    "#Explanation\n",
    "\n",
    "#Test Case 01 Explanation\n",
    "\n",
    "#Set A = {1 2 3 5 6}\n",
    "#Set  B= {9 8 5 6 3 2 1 4 7}\n",
    "#All the elements of set A are elements of set B.\n",
    "#Hence, set A is a subset of set B."
   ]
  },
  {
   "cell_type": "code",
   "execution_count": 3,
   "metadata": {},
   "outputs": [
    {
     "name": "stdout",
     "output_type": "stream",
     "text": [
      "3\n",
      "5\n",
      "1 2 3 5 6\n",
      "9\n",
      "9 8 5 6 3 2 1 4 7\n",
      "1\n",
      "2\n",
      "5\n",
      "3 6 5 4 1\n",
      "7\n",
      "1 2 3 5 6 8 9\n",
      "3\n",
      "9 8 2\n",
      "False\n"
     ]
    }
   ],
   "source": [
    "for _ in range(int(input())):\n",
    "    x, a, z, b = input(), set(input().split()), input(), set(input().split())\n",
    "    print(a.issubset(b))"
   ]
  },
  {
   "cell_type": "code",
   "execution_count": null,
   "metadata": {},
   "outputs": [],
   "source": []
  }
 ],
 "metadata": {
  "kernelspec": {
   "display_name": "Python 3",
   "language": "python",
   "name": "python3"
  },
  "language_info": {
   "codemirror_mode": {
    "name": "ipython",
    "version": 3
   },
   "file_extension": ".py",
   "mimetype": "text/x-python",
   "name": "python",
   "nbconvert_exporter": "python",
   "pygments_lexer": "ipython3",
   "version": "3.7.4"
  }
 },
 "nbformat": 4,
 "nbformat_minor": 2
}
