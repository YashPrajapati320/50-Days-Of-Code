{
 "cells": [
  {
   "cell_type": "markdown",
   "metadata": {},
   "source": [
    "# Detect HTML Tags, Attributes and Attribute Values"
   ]
  },
  {
   "cell_type": "code",
   "execution_count": 1,
   "metadata": {},
   "outputs": [],
   "source": [
    "#Sample Input\n",
    "\n",
    "#9\n",
    "#<head>\n",
    "#<title>HTML</title>\n",
    "#</head>\n",
    "#<object type=\"application/x-flash\" \n",
    "#  data=\"your-file.swf\" \n",
    "#  width=\"0\" height=\"0\">\n",
    "#  <!-- <param name=\"movie\" value=\"your-file.swf\" /> -->\n",
    "#  <param name=\"quality\" value=\"high\"/>\n",
    "#</object>\n",
    "\n",
    "#Sample Output\n",
    "\n",
    "#head\n",
    "#title\n",
    "#object\n",
    "#-> type > application/x-flash\n",
    "#-> data > your-file.swf\n",
    "#-> width > 0\n",
    "#-> height > 0\n",
    "#param\n",
    "#-> name > quality\n",
    "#-> value > high"
   ]
  },
  {
   "cell_type": "code",
   "execution_count": null,
   "metadata": {},
   "outputs": [],
   "source": [
    "from html.parser import HTMLParser\n",
    "class MyHTMLParser(HTMLParser):\n",
    "    def handle_starttag(self, tag, attrs):\n",
    "        print(tag)\n",
    "        [print('-> {} > {}'.format(*attr)) for attr in attrs]\n",
    "        \n",
    "html = '\\n'.join([input() for _ in range(int(input()))])\n",
    "parser = MyHTMLParser()\n",
    "parser.feed(html)\n",
    "parser.close()"
   ]
  }
 ],
 "metadata": {
  "kernelspec": {
   "display_name": "Python 3",
   "language": "python",
   "name": "python3"
  },
  "language_info": {
   "codemirror_mode": {
    "name": "ipython",
    "version": 3
   },
   "file_extension": ".py",
   "mimetype": "text/x-python",
   "name": "python",
   "nbconvert_exporter": "python",
   "pygments_lexer": "ipython3",
   "version": "3.7.4"
  }
 },
 "nbformat": 4,
 "nbformat_minor": 2
}
