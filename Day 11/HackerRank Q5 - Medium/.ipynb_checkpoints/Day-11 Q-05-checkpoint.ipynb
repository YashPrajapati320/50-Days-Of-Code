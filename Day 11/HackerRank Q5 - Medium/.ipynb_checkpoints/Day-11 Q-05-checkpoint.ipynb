{
 "cells": [
  {
   "cell_type": "markdown",
   "metadata": {},
   "source": [
    "# Iterables and Iterators"
   ]
  },
  {
   "cell_type": "raw",
   "metadata": {},
   "source": [
    "Sample Input\n",
    "\n",
    "4 \n",
    "a a c d\n",
    "2\n",
    "\n",
    "Sample Output\n",
    "\n",
    "0.8333"
   ]
  },
  {
   "cell_type": "code",
   "execution_count": 1,
   "metadata": {},
   "outputs": [
    {
     "name": "stdout",
     "output_type": "stream",
     "text": [
      "4\n",
      "a a c d\n",
      "2\n",
      "0.8333333333333334\n"
     ]
    }
   ],
   "source": [
    "from itertools import combinations\n",
    "\n",
    "_,s,n = input(),input().split(),int(input())\n",
    "t = list(combinations(s,n))\n",
    "f = [i for i in t if 'a' in i]\n",
    "print(len(f)/len(t))"
   ]
  },
  {
   "cell_type": "code",
   "execution_count": null,
   "metadata": {},
   "outputs": [],
   "source": []
  }
 ],
 "metadata": {
  "kernelspec": {
   "display_name": "Python 3",
   "language": "python",
   "name": "python3"
  },
  "language_info": {
   "codemirror_mode": {
    "name": "ipython",
    "version": 3
   },
   "file_extension": ".py",
   "mimetype": "text/x-python",
   "name": "python",
   "nbconvert_exporter": "python",
   "pygments_lexer": "ipython3",
   "version": "3.7.4"
  }
 },
 "nbformat": 4,
 "nbformat_minor": 2
}
