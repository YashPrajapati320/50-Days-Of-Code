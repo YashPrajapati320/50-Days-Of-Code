{
 "cells": [
  {
   "cell_type": "markdown",
   "metadata": {},
   "source": [
    "# Best Time To Buy And Sell Stock"
   ]
  },
  {
   "cell_type": "raw",
   "metadata": {},
   "source": [
    "Example 1:\n",
    "\n",
    "Input: [7,1,5,3,6,4]\n",
    "Output: 5\n",
    "Explanation: Buy on day 2 (price = 1) and sell on day 5 (price = 6), profit = 6-1 = 5.\n",
    "             Not 7-1 = 6, as selling price needs to be larger than buying price.\n",
    "Example 2:\n",
    "\n",
    "Input: [7,6,4,3,1]\n",
    "Output: 0\n",
    "Explanation: In this case, no transaction is done, i.e. max profit = 0."
   ]
  },
  {
   "cell_type": "code",
   "execution_count": 95,
   "metadata": {},
   "outputs": [],
   "source": [
    "from itertools import combinations \n",
    "from collections import OrderedDict\n",
    "import numpy\n",
    "def maxProfit(prices):\n",
    "    if prices == []:\n",
    "        return 0\n",
    "    else:\n",
    "        array = []\n",
    "        for i in combinations(prices,2):\n",
    "            array.append(list(i))\n",
    "        print(array) \n",
    "        print(len(array))\n",
    "        profit = []\n",
    "        for i in range(0,len(array)):\n",
    "            profit.append(array[i][1] - array[i][0])\n",
    "        print(profit)\n",
    "        print(max(profit))\n",
    "        print(array[7])\n",
    "        print(profit.index(max(profit)))\n",
    "        if max(profit)<0 or len(profit) == 0:\n",
    "            return 0\n",
    "        else:\n",
    "            return max(profit)"
   ]
  },
  {
   "cell_type": "code",
   "execution_count": 96,
   "metadata": {},
   "outputs": [
    {
     "name": "stdout",
     "output_type": "stream",
     "text": [
      "[[7, 1], [7, 5], [7, 3], [7, 6], [7, 4], [1, 5], [1, 3], [1, 6], [1, 4], [5, 3], [5, 6], [5, 4], [3, 6], [3, 4], [6, 4]]\n",
      "15\n",
      "[-6, -2, -4, -1, -3, 4, 2, 5, 3, -2, 1, -1, 3, 1, -2]\n",
      "5\n",
      "[1, 6]\n",
      "7\n"
     ]
    },
    {
     "data": {
      "text/plain": [
       "5"
      ]
     },
     "execution_count": 96,
     "metadata": {},
     "output_type": "execute_result"
    }
   ],
   "source": [
    "maxProfit([7,1,5,3,6,4])"
   ]
  },
  {
   "cell_type": "code",
   "execution_count": 97,
   "metadata": {},
   "outputs": [
    {
     "name": "stdout",
     "output_type": "stream",
     "text": [
      "[[7, 6], [7, 4], [7, 3], [7, 1], [6, 4], [6, 3], [6, 1], [4, 3], [4, 1], [3, 1]]\n",
      "10\n",
      "[-1, -3, -4, -6, -2, -3, -5, -1, -3, -2]\n",
      "-1\n",
      "[4, 3]\n",
      "0\n"
     ]
    },
    {
     "data": {
      "text/plain": [
       "0"
      ]
     },
     "execution_count": 97,
     "metadata": {},
     "output_type": "execute_result"
    }
   ],
   "source": [
    "maxProfit([7,6,4,3,1])"
   ]
  },
  {
   "cell_type": "code",
   "execution_count": 98,
   "metadata": {},
   "outputs": [
    {
     "data": {
      "text/plain": [
       "0"
      ]
     },
     "execution_count": 98,
     "metadata": {},
     "output_type": "execute_result"
    }
   ],
   "source": [
    "maxProfit([])"
   ]
  },
  {
   "cell_type": "raw",
   "metadata": {},
   "source": [
    "For Small Array The above solution will work properly.\n",
    "However for extremely large array the above solution will not work as the time will exceed"
   ]
  },
  {
   "cell_type": "code",
   "execution_count": 109,
   "metadata": {},
   "outputs": [],
   "source": [
    "import sys\n",
    "def stock(prices):\n",
    "    if len(prices)==0:\n",
    "        return 0\n",
    "    else:\n",
    "        mini = sys.maxsize - 1\n",
    "        gain = 0\n",
    "        for i in prices:\n",
    "            print(i,mini,gain)\n",
    "            mini = min(mini,i)\n",
    "            gain = max(gain,i-mini)\n",
    "        return gain"
   ]
  },
  {
   "cell_type": "code",
   "execution_count": 110,
   "metadata": {},
   "outputs": [
    {
     "name": "stdout",
     "output_type": "stream",
     "text": [
      "7 9223372036854775806 0\n",
      "6 7 0\n",
      "4 6 0\n",
      "3 4 0\n",
      "1 3 0\n"
     ]
    },
    {
     "data": {
      "text/plain": [
       "0"
      ]
     },
     "execution_count": 110,
     "metadata": {},
     "output_type": "execute_result"
    }
   ],
   "source": [
    "stock([7,6,4,3,1])"
   ]
  },
  {
   "cell_type": "code",
   "execution_count": 111,
   "metadata": {},
   "outputs": [
    {
     "name": "stdout",
     "output_type": "stream",
     "text": [
      "7 9223372036854775806 0\n",
      "1 7 0\n",
      "5 1 0\n",
      "3 1 4\n",
      "6 1 4\n",
      "4 1 5\n"
     ]
    },
    {
     "data": {
      "text/plain": [
       "5"
      ]
     },
     "execution_count": 111,
     "metadata": {},
     "output_type": "execute_result"
    }
   ],
   "source": [
    "stock([7,1,5,3,6,4])"
   ]
  },
  {
   "cell_type": "raw",
   "metadata": {},
   "source": [
    "Complexity analysis:\n",
    "\n",
    "1.Time complexity: O(n)\n",
    "where n is the length of the Prices List, the algorithm only needs to iterate through the prices list once.\n",
    "\n",
    "2.Space complexity:O(1)\n",
    "The algorithm only keeps updating two variables, min_prices and max_profit."
   ]
  },
  {
   "cell_type": "code",
   "execution_count": null,
   "metadata": {},
   "outputs": [],
   "source": []
  }
 ],
 "metadata": {
  "kernelspec": {
   "display_name": "Python 3",
   "language": "python",
   "name": "python3"
  },
  "language_info": {
   "codemirror_mode": {
    "name": "ipython",
    "version": 3
   },
   "file_extension": ".py",
   "mimetype": "text/x-python",
   "name": "python",
   "nbconvert_exporter": "python",
   "pygments_lexer": "ipython3",
   "version": "3.7.4"
  }
 },
 "nbformat": 4,
 "nbformat_minor": 2
}
