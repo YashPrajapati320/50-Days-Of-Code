{
 "cells": [
  {
   "cell_type": "markdown",
   "metadata": {},
   "source": [
    "# Maximize It"
   ]
  },
  {
   "cell_type": "raw",
   "metadata": {},
   "source": [
    "Sample Input\n",
    "\n",
    "3 1000\n",
    "2 5 4\n",
    "3 7 8 9 \n",
    "5 5 7 8 9 10 \n",
    "\n",
    "Sample Output\n",
    "\n",
    "206"
   ]
  },
  {
   "cell_type": "code",
   "execution_count": 4,
   "metadata": {},
   "outputs": [
    {
     "name": "stdout",
     "output_type": "stream",
     "text": [
      "3 1000\n",
      "2 5 4\n",
      "3 7 8 9\n",
      "5 5 7 8 9 10\n",
      "(5, 7, 5)\n",
      "(5, 7, 7)\n",
      "(5, 7, 8)\n",
      "(5, 7, 9)\n",
      "(5, 7, 10)\n",
      "(5, 8, 5)\n",
      "(5, 8, 7)\n",
      "(5, 8, 8)\n",
      "(5, 8, 9)\n",
      "(5, 8, 10)\n",
      "(5, 9, 5)\n",
      "(5, 9, 7)\n",
      "(5, 9, 8)\n",
      "(5, 9, 9)\n",
      "(5, 9, 10)\n",
      "(4, 7, 5)\n",
      "(4, 7, 7)\n",
      "(4, 7, 8)\n",
      "(4, 7, 9)\n",
      "(4, 7, 10)\n",
      "(4, 8, 5)\n",
      "(4, 8, 7)\n",
      "(4, 8, 8)\n",
      "(4, 8, 9)\n",
      "(4, 8, 10)\n",
      "(4, 9, 5)\n",
      "(4, 9, 7)\n",
      "(4, 9, 8)\n",
      "(4, 9, 9)\n",
      "(4, 9, 10)\n",
      "206\n"
     ]
    }
   ],
   "source": [
    "K, M = [int(x) for x in input().split()]\n",
    "arrayN = []\n",
    "for _i_ in range(K):\n",
    "    arrayN.append([int(x) for x in input().split()][1:])\n",
    "    \n",
    "from itertools import product\n",
    "possible_combination = list(product(*arrayN))\n",
    "\n",
    "def func(nums):\n",
    "    print(nums)\n",
    "    return sum(x*x for x in nums) % M\n",
    "\n",
    "print(max(list(map(func, possible_combination))))"
   ]
  },
  {
   "cell_type": "code",
   "execution_count": null,
   "metadata": {},
   "outputs": [],
   "source": []
  }
 ],
 "metadata": {
  "kernelspec": {
   "display_name": "Python 3",
   "language": "python",
   "name": "python3"
  },
  "language_info": {
   "codemirror_mode": {
    "name": "ipython",
    "version": 3
   },
   "file_extension": ".py",
   "mimetype": "text/x-python",
   "name": "python",
   "nbconvert_exporter": "python",
   "pygments_lexer": "ipython3",
   "version": "3.7.4"
  }
 },
 "nbformat": 4,
 "nbformat_minor": 2
}
