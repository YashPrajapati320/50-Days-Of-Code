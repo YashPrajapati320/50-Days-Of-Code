{
 "cells": [
  {
   "cell_type": "markdown",
   "metadata": {},
   "source": [
    "# Search in 2D Matrix"
   ]
  },
  {
   "cell_type": "code",
   "execution_count": 1,
   "metadata": {},
   "outputs": [],
   "source": [
    "#Example 1:\n",
    "\n",
    "#Input:\n",
    "#matrix = [\n",
    "#  [1,   3,  5,  7],\n",
    "#  [10, 11, 16, 20],\n",
    "#  [23, 30, 34, 50]\n",
    "#]\n",
    "#target = 3\n",
    "#Output: true\n",
    "\n",
    "#Example 2:\n",
    "\n",
    "#Input:\n",
    "#matrix = [\n",
    "#  [1,   3,  5,  7],\n",
    "#  [10, 11, 16, 20],\n",
    "#  [23, 30, 34, 50]\n",
    "#]\n",
    "#target = 13\n",
    "#Output: false"
   ]
  },
  {
   "cell_type": "code",
   "execution_count": 17,
   "metadata": {},
   "outputs": [],
   "source": [
    "def searchMatrix(matrix,target):\n",
    "    if len(matrix) == 0:\n",
    "        return False\n",
    "    row, col = 0, len(matrix[0]) - 1\n",
    "        \n",
    "    while row < len(matrix) and col >= 0:\n",
    "        if matrix[row][col] == target: return True\n",
    "        elif matrix[row][col] < target: row += 1\n",
    "        elif matrix[row][col] > target: col -= 1\n",
    "        \n",
    "    return False"
   ]
  },
  {
   "cell_type": "code",
   "execution_count": 18,
   "metadata": {},
   "outputs": [
    {
     "data": {
      "text/plain": [
       "True"
      ]
     },
     "execution_count": 18,
     "metadata": {},
     "output_type": "execute_result"
    }
   ],
   "source": [
    "searchMatrix([[1,3,5,7],[10,11,16,20],[23,30,34,50]],3)"
   ]
  },
  {
   "cell_type": "code",
   "execution_count": 19,
   "metadata": {},
   "outputs": [
    {
     "data": {
      "text/plain": [
       "False"
      ]
     },
     "execution_count": 19,
     "metadata": {},
     "output_type": "execute_result"
    }
   ],
   "source": [
    "searchMatrix([[1,3,5,7],[10,11,16,20],[23,30,34,50]],13)"
   ]
  },
  {
   "cell_type": "code",
   "execution_count": 21,
   "metadata": {},
   "outputs": [
    {
     "data": {
      "text/plain": [
       "False"
      ]
     },
     "execution_count": 21,
     "metadata": {},
     "output_type": "execute_result"
    }
   ],
   "source": [
    "searchMatrix([[]],1)"
   ]
  },
  {
   "cell_type": "code",
   "execution_count": null,
   "metadata": {},
   "outputs": [],
   "source": []
  }
 ],
 "metadata": {
  "kernelspec": {
   "display_name": "Python 3",
   "language": "python",
   "name": "python3"
  },
  "language_info": {
   "codemirror_mode": {
    "name": "ipython",
    "version": 3
   },
   "file_extension": ".py",
   "mimetype": "text/x-python",
   "name": "python",
   "nbconvert_exporter": "python",
   "pygments_lexer": "ipython3",
   "version": "3.7.4"
  }
 },
 "nbformat": 4,
 "nbformat_minor": 2
}
