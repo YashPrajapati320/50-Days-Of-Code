{
 "cells": [
  {
   "cell_type": "markdown",
   "metadata": {},
   "source": [
    "# Trapping Rain Water"
   ]
  },
  {
   "cell_type": "code",
   "execution_count": 1,
   "metadata": {},
   "outputs": [],
   "source": [
    "#Given n non-negative integers representing an elevation map where the width of each bar is 1, \n",
    "#compute how much water it is able to trap after raining.\n",
    "\n",
    "\n",
    "#The above elevation map is represented by array [0,1,0,2,1,0,1,3,2,1,2,1]. \n",
    "#In this case, 6 units of rain water (blue section) are being trapped. Thanks Marcos for contributing this image!\n",
    "\n",
    "#Example:\n",
    "\n",
    "#Input: [0,1,0,2,1,0,1,3,2,1,2,1]\n",
    "#Output: 6"
   ]
  },
  {
   "cell_type": "code",
   "execution_count": 15,
   "metadata": {},
   "outputs": [],
   "source": [
    "def trap(nums):\n",
    "    waterLevel = []\n",
    "    left = 0\n",
    "    for h in nums:\n",
    "        left = max(left, h) \n",
    "        waterLevel += [left]\n",
    "    print(nums)\n",
    "    print(waterLevel)\n",
    "    right = 0\n",
    "    print(reversed(list(nums)))\n",
    "    for i, h in reversed(list(enumerate(nums))):\n",
    "        right = max(right, h)\n",
    "        waterLevel[i] = min(waterLevel[i], right) - h # drain to the right height\n",
    "    print(waterLevel)\n",
    "    return sum(waterLevel)"
   ]
  },
  {
   "cell_type": "code",
   "execution_count": 16,
   "metadata": {},
   "outputs": [
    {
     "name": "stdout",
     "output_type": "stream",
     "text": [
      "[0, 1, 0, 2, 1, 0, 1, 3, 2, 1, 2, 1]\n",
      "[0, 1, 1, 2, 2, 2, 2, 3, 3, 3, 3, 3]\n",
      "<list_reverseiterator object at 0x0000023F0C06DBC8>\n",
      "[0, 0, 1, 0, 1, 2, 1, 0, 0, 1, 0, 0]\n"
     ]
    },
    {
     "data": {
      "text/plain": [
       "6"
      ]
     },
     "execution_count": 16,
     "metadata": {},
     "output_type": "execute_result"
    }
   ],
   "source": [
    "trap([0,1,0,2,1,0,1,3,2,1,2,1])"
   ]
  },
  {
   "cell_type": "code",
   "execution_count": 17,
   "metadata": {},
   "outputs": [
    {
     "name": "stdout",
     "output_type": "stream",
     "text": [
      "11 1\n",
      "10 2\n",
      "9 1\n",
      "8 2\n",
      "7 3\n",
      "6 1\n",
      "5 0\n",
      "4 1\n",
      "3 2\n",
      "2 0\n",
      "1 1\n",
      "0 0\n"
     ]
    }
   ],
   "source": [
    "nums = [0,1,0,2,1,0,1,3,2,1,2,1]\n",
    "for i, h in reversed(list(enumerate(nums))):\n",
    "    print(i,h)"
   ]
  },
  {
   "cell_type": "code",
   "execution_count": null,
   "metadata": {},
   "outputs": [],
   "source": []
  }
 ],
 "metadata": {
  "kernelspec": {
   "display_name": "Python 3",
   "language": "python",
   "name": "python3"
  },
  "language_info": {
   "codemirror_mode": {
    "name": "ipython",
    "version": 3
   },
   "file_extension": ".py",
   "mimetype": "text/x-python",
   "name": "python",
   "nbconvert_exporter": "python",
   "pygments_lexer": "ipython3",
   "version": "3.7.4"
  }
 },
 "nbformat": 4,
 "nbformat_minor": 2
}
