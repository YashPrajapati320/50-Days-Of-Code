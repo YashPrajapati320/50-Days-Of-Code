{
 "cells": [
  {
   "cell_type": "markdown",
   "metadata": {},
   "source": [
    "# Edit Distance"
   ]
  },
  {
   "cell_type": "code",
   "execution_count": 1,
   "metadata": {},
   "outputs": [],
   "source": [
    "#Example 1:\n",
    "\n",
    "#Input: word1 = \"horse\", word2 = \"ros\"\n",
    "#Output: 3\n",
    "#Explanation: \n",
    "#horse -> rorse (replace 'h' with 'r')\n",
    "#rorse -> rose (remove 'r')\n",
    "#rose -> ros (remove 'e')\n",
    "\n",
    "#Example 2:\n",
    "\n",
    "#Input: word1 = \"intention\", word2 = \"execution\"\n",
    "#Output: 5\n",
    "#Explanation: \n",
    "#intention -> inention (remove 't')\n",
    "#inention -> enention (replace 'i' with 'e')\n",
    "#enention -> exention (replace 'n' with 'x')\n",
    "#exention -> exection (replace 'n' with 'c')\n",
    "#exection -> execution (insert 'u')"
   ]
  },
  {
   "cell_type": "code",
   "execution_count": 32,
   "metadata": {},
   "outputs": [],
   "source": [
    "class Solution:\n",
    "    def minDistance(word1, word2):\n",
    "        # handle simple cases where either or both of the inputs are empty strings\n",
    "        if not word1 and not word2:\n",
    "            return 0\n",
    "        elif not word1:\n",
    "            return len(word2)\n",
    "        elif not word2:\n",
    "            return len(word1)\n",
    "\n",
    "\t\t# all we need to calculate the current row values are the values from the previous row\n",
    "\t\t# the first row is initialized with numbers 0..len(word2) to cover insertions/deletions \n",
    "\t\t# before the first character (index of word2)\n",
    "        previous_row = list(range(len(word2) + 1))\n",
    "\t\t\n",
    "\t\t# enumerate over characters in the first word\n",
    "        for i1, c1 in enumerate(word1):\n",
    "\t\t\t# in addition to the previous row, we also need to track the [i-1, j-1] value,\n",
    "\t\t\t# which is the top left value in a matrix\n",
    "            top_left = i1\n",
    "\t\t\t\n",
    "\t\t\t# similar to the first row, we initialize the first value in the matrix row with\n",
    "\t\t\t# the index in the first word to assume comparison from that index onward\n",
    "            previous_row[0] = i1\n",
    "\t\t\t\n",
    "            for i2, c2 in enumerate(word2):\n",
    "\t\t\t\t# if the characters match, we take the top left value as this will always be \n",
    "\t\t\t\t# the best operation\n",
    "                if c1 == c2:\n",
    "                    m = top_left\n",
    "                else:\n",
    "\t\t\t\t\t# take the minimum of the [i-1, j-1] (replacement), [i-1, j] (insertion), \n",
    "\t\t\t\t\t# and [i, j-1] (deletion) values and add 1 for the operation\n",
    "                    m = min(previous_row[i2], previous_row[i2 + 1], top_left) + 1\n",
    "\n",
    "\t\t\t\t# update the top left and previous row values\n",
    "                top_left = previous_row[i2+1]\n",
    "                previous_row[i2+1] = m\n",
    "\n",
    "\t\t# return last value in row\n",
    "        return previous_row[-1]"
   ]
  },
  {
   "cell_type": "code",
   "execution_count": 35,
   "metadata": {},
   "outputs": [
    {
     "data": {
      "text/plain": [
       "3"
      ]
     },
     "execution_count": 35,
     "metadata": {},
     "output_type": "execute_result"
    }
   ],
   "source": [
    "Solution.minDistance('horse','ros')"
   ]
  },
  {
   "cell_type": "code",
   "execution_count": 34,
   "metadata": {},
   "outputs": [
    {
     "data": {
      "text/plain": [
       "5"
      ]
     },
     "execution_count": 34,
     "metadata": {},
     "output_type": "execute_result"
    }
   ],
   "source": [
    "Solution.minDistance(\"intention\",'execution')"
   ]
  },
  {
   "cell_type": "code",
   "execution_count": null,
   "metadata": {},
   "outputs": [],
   "source": []
  }
 ],
 "metadata": {
  "kernelspec": {
   "display_name": "Python 3",
   "language": "python",
   "name": "python3"
  },
  "language_info": {
   "codemirror_mode": {
    "name": "ipython",
    "version": 3
   },
   "file_extension": ".py",
   "mimetype": "text/x-python",
   "name": "python",
   "nbconvert_exporter": "python",
   "pygments_lexer": "ipython3",
   "version": "3.7.4"
  }
 },
 "nbformat": 4,
 "nbformat_minor": 2
}
