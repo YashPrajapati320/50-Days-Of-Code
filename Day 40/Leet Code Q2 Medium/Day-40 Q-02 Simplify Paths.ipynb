{
 "cells": [
  {
   "cell_type": "markdown",
   "metadata": {},
   "source": [
    "# Simplify Paths"
   ]
  },
  {
   "cell_type": "code",
   "execution_count": 1,
   "metadata": {},
   "outputs": [],
   "source": [
    "#Example 1:\n",
    "\n",
    "#Input: \"/home/\"\n",
    "#Output: \"/home\"\n",
    "#Explanation: Note that there is no trailing slash after the last directory name.\n",
    "\n",
    "#Example 2:\n",
    "\n",
    "#Input: \"/../\"\n",
    "#Output: \"/\"\n",
    "#Explanation: Going one level up from the root directory is a no-op, as the root level is the highest level you can go.\n",
    "\n",
    "#Example 3:\n",
    "\n",
    "#Input: \"/home//foo/\"\n",
    "#Output: \"/home/foo\"\n",
    "#Explanation: In the canonical path, multiple consecutive slashes are replaced by a single one.\n",
    "\n",
    "#Example 4:\n",
    "\n",
    "#Input: \"/a/./b/../../c/\"\n",
    "#Output: \"/c\"\n",
    "\n",
    "#Example 5:\n",
    "\n",
    "#Input: \"/a/../../b/../c//.//\"\n",
    "#Output: \"/c\"\n",
    "\n",
    "#Example 6:\n",
    "\n",
    "#Input: \"/a//b////c/d//././/..\"\n",
    "#Output: \"/a/b/c\""
   ]
  },
  {
   "cell_type": "code",
   "execution_count": 4,
   "metadata": {},
   "outputs": [],
   "source": [
    "class Solution:\n",
    "    def simplifyPath(path):\n",
    "        stack = []\n",
    "        for token in path.split('/'):\n",
    "            if token in ('', '.'):\n",
    "                pass\n",
    "            elif token == '..':\n",
    "                if stack: stack.pop()\n",
    "            else:\n",
    "                stack.append(token)\n",
    "        return '/' + '/'.join(stack)"
   ]
  },
  {
   "cell_type": "code",
   "execution_count": 5,
   "metadata": {},
   "outputs": [
    {
     "data": {
      "text/plain": [
       "'/a/b/c'"
      ]
     },
     "execution_count": 5,
     "metadata": {},
     "output_type": "execute_result"
    }
   ],
   "source": [
    "Solution.simplifyPath('/a//b////c/d//././/..')"
   ]
  },
  {
   "cell_type": "code",
   "execution_count": null,
   "metadata": {},
   "outputs": [],
   "source": []
  }
 ],
 "metadata": {
  "kernelspec": {
   "display_name": "Python 3",
   "language": "python",
   "name": "python3"
  },
  "language_info": {
   "codemirror_mode": {
    "name": "ipython",
    "version": 3
   },
   "file_extension": ".py",
   "mimetype": "text/x-python",
   "name": "python",
   "nbconvert_exporter": "python",
   "pygments_lexer": "ipython3",
   "version": "3.7.4"
  }
 },
 "nbformat": 4,
 "nbformat_minor": 2
}
