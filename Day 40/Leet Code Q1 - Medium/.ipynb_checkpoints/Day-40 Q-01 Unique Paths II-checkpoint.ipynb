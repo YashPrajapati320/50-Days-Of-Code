{
 "cells": [
  {
   "cell_type": "markdown",
   "metadata": {},
   "source": [
    "# Unique Paths II"
   ]
  },
  {
   "cell_type": "code",
   "execution_count": 1,
   "metadata": {},
   "outputs": [],
   "source": [
    "#Example 1:\n",
    "\n",
    "#Input:\n",
    "#[\n",
    "#  [0,0,0],\n",
    "#  [0,1,0],\n",
    "#  [0,0,0]\n",
    "#]\n",
    "#Output: 2\n",
    "#Explanation:\n",
    "#There is one obstacle in the middle of the 3x3 grid above.\n",
    "#There are two ways to reach the bottom-right corner:\n",
    "#1. Right -> Right -> Down -> Down\n",
    "#2. Down -> Down -> Right -> Right"
   ]
  },
  {
   "cell_type": "code",
   "execution_count": 5,
   "metadata": {},
   "outputs": [],
   "source": [
    "class Solution:\n",
    "    def uniquePathsWithObstacles(obstacleGrid):\n",
    "        if obstacleGrid[-1][-1] == 1 or obstacleGrid[0][0] == 1:\n",
    "            return 0\n",
    "\n",
    "        dp = [[0] * len(obstacleGrid[0]) for i in range(len(obstacleGrid))]          # DP Matrix of size m*n intialized to 0\n",
    "        dp[0][0] = 1\n",
    "\n",
    "        for r in range(len(obstacleGrid)):\n",
    "            for c in range(len(obstacleGrid[0])):\n",
    "                if obstacleGrid[r][c] == 0:\n",
    "                    dp[r][c] += dp[r - 1][c] if r - 1 >= 0 else 0\n",
    "                    dp[r][c] += dp[r][c - 1] if c - 1 >= 0 else 0\n",
    "                    \n",
    "        return dp[-1][-1]"
   ]
  },
  {
   "cell_type": "code",
   "execution_count": 7,
   "metadata": {},
   "outputs": [
    {
     "data": {
      "text/plain": [
       "2"
      ]
     },
     "execution_count": 7,
     "metadata": {},
     "output_type": "execute_result"
    }
   ],
   "source": [
    "Solution.uniquePathsWithObstacles([[0,0,0],[0,1,0],[0,0,0]])"
   ]
  },
  {
   "cell_type": "code",
   "execution_count": null,
   "metadata": {},
   "outputs": [],
   "source": []
  }
 ],
 "metadata": {
  "kernelspec": {
   "display_name": "Python 3",
   "language": "python",
   "name": "python3"
  },
  "language_info": {
   "codemirror_mode": {
    "name": "ipython",
    "version": 3
   },
   "file_extension": ".py",
   "mimetype": "text/x-python",
   "name": "python",
   "nbconvert_exporter": "python",
   "pygments_lexer": "ipython3",
   "version": "3.7.4"
  }
 },
 "nbformat": 4,
 "nbformat_minor": 2
}
