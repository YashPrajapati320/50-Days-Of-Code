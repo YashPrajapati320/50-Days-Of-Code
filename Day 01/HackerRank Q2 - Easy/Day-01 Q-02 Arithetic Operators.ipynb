{
 "cells": [
  {
   "cell_type": "markdown",
   "metadata": {},
   "source": [
    "# Arithetic Operators"
   ]
  },
  {
   "cell_type": "code",
   "execution_count": 1,
   "metadata": {},
   "outputs": [
    {
     "name": "stdout",
     "output_type": "stream",
     "text": [
      "9\n",
      "11\n",
      "Addition is:  20\n",
      "Subtraction is:  -2\n",
      "Multiplication is:  99\n",
      "Integer Division is:  0\n",
      "Float Division is:  0.8181818181818182\n"
     ]
    }
   ],
   "source": [
    "if __name__ == '__main__':\n",
    "    a = int(input())\n",
    "    b = int(input())\n",
    "\n",
    "    print('Addition is: ', a+b)\n",
    "    print('Subtraction is: ', a-b)\n",
    "    print('Multiplication is: ', a*b)\n",
    "    print('Integer Division is: ', a//b)\n",
    "    print('Float Division is: ', a/b)"
   ]
  },
  {
   "cell_type": "code",
   "execution_count": null,
   "metadata": {},
   "outputs": [],
   "source": []
  }
 ],
 "metadata": {
  "kernelspec": {
   "display_name": "Python 3",
   "language": "python",
   "name": "python3"
  },
  "language_info": {
   "codemirror_mode": {
    "name": "ipython",
    "version": 3
   },
   "file_extension": ".py",
   "mimetype": "text/x-python",
   "name": "python",
   "nbconvert_exporter": "python",
   "pygments_lexer": "ipython3",
   "version": "3.7.4"
  }
 },
 "nbformat": 4,
 "nbformat_minor": 2
}
