{
 "cells": [
  {
   "cell_type": "markdown",
   "metadata": {},
   "source": [
    "# Maximum Path Sum"
   ]
  },
  {
   "cell_type": "code",
   "execution_count": 1,
   "metadata": {},
   "outputs": [],
   "source": [
    "#Example:\n",
    "\n",
    "#Input:\n",
    "#[\n",
    "#  [1,3,1],\n",
    "#  [1,5,1],\n",
    "#  [4,2,1]\n",
    "#]\n",
    "#Output: 7\n",
    "#Explanation: Because the path 1→3→1→1→1 minimizes the sum."
   ]
  },
  {
   "cell_type": "code",
   "execution_count": 8,
   "metadata": {},
   "outputs": [],
   "source": [
    "def minPathSum(grid):\n",
    "    # get dimensions\n",
    "    n = len(grid) # no of cells in each col\n",
    "    m = len(grid[0]) # no of cells in each row\n",
    "    print(n,m)\n",
    "    print(grid)\n",
    "    # populate first row using m for no of cells in row\n",
    "    for i in range(1,m):\n",
    "        grid[0][i] = grid[0][i] + grid[0][i-1]\n",
    "    print(grid)\n",
    "        \n",
    "    # populate first col using n for no of cells in col\n",
    "    for j in range(1,n):\n",
    "        grid[j][0] = grid[j-1][0] + grid[j][0]\n",
    "    print(grid)\n",
    "    # populate the rest\n",
    "    for i in range(1,n):\n",
    "        for j in range(1,m):\n",
    "            # get min seen so far plus curr cell value\n",
    "            grid[i][j] = min(grid[i-1][j],grid[i][j-1]) + grid[i][j]\n",
    "        \n",
    "    # return last cell\n",
    "    return grid[-1][-1]"
   ]
  },
  {
   "cell_type": "code",
   "execution_count": 9,
   "metadata": {},
   "outputs": [
    {
     "name": "stdout",
     "output_type": "stream",
     "text": [
      "3 3\n",
      "[[1, 3, 1], [1, 5, 1], [4, 2, 1]]\n",
      "[[1, 4, 5], [1, 5, 1], [4, 2, 1]]\n",
      "[[1, 4, 5], [2, 5, 1], [6, 2, 1]]\n"
     ]
    },
    {
     "data": {
      "text/plain": [
       "7"
      ]
     },
     "execution_count": 9,
     "metadata": {},
     "output_type": "execute_result"
    }
   ],
   "source": [
    "minPathSum([[1,3,1],[1,5,1],[4,2,1]])"
   ]
  },
  {
   "cell_type": "code",
   "execution_count": null,
   "metadata": {},
   "outputs": [],
   "source": []
  }
 ],
 "metadata": {
  "kernelspec": {
   "display_name": "Python 3",
   "language": "python",
   "name": "python3"
  },
  "language_info": {
   "codemirror_mode": {
    "name": "ipython",
    "version": 3
   },
   "file_extension": ".py",
   "mimetype": "text/x-python",
   "name": "python",
   "nbconvert_exporter": "python",
   "pygments_lexer": "ipython3",
   "version": "3.7.4"
  }
 },
 "nbformat": 4,
 "nbformat_minor": 2
}
