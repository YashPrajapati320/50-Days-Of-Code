{
 "cells": [
  {
   "cell_type": "markdown",
   "metadata": {},
   "source": [
    "# Valid Number"
   ]
  },
  {
   "cell_type": "code",
   "execution_count": 3,
   "metadata": {},
   "outputs": [],
   "source": [
    "#Validate if a given string can be interpreted as a decimal number.\n",
    "\n",
    "#Some examples:\n",
    "#\"0\" => true\n",
    "#\" 0.1 \" => true\n",
    "#\"abc\" => false\n",
    "#\"1 a\" => false\n",
    "#\"2e10\" => true\n",
    "#\" -90e3   \" => true\n",
    "#\" 1e\" => false\n",
    "#\"e3\" => false\n",
    "#\" 6e-1\" => true\n",
    "#\" 99e2.5 \" => false\n",
    "#\"53.5e93\" => true\n",
    "#\" --6 \" => false\n",
    "#\"-+3\" => false\n",
    "#\"95a54e53\" => false"
   ]
  },
  {
   "cell_type": "code",
   "execution_count": 6,
   "metadata": {},
   "outputs": [],
   "source": [
    "import re\n",
    "def isNumber(s):\n",
    "    engine = re.compile(r\"^[+-]?((\\d+\\.?\\d*)|(\\d*\\.?\\d+))(e[+-]?\\d+)?$\")\n",
    "    return engine.match(s.strip(\" \")) # i prefer this over putting more things (\\S*) in regex"
   ]
  },
  {
   "cell_type": "code",
   "execution_count": 7,
   "metadata": {},
   "outputs": [
    {
     "data": {
      "text/plain": [
       "<re.Match object; span=(0, 1), match='0'>"
      ]
     },
     "execution_count": 7,
     "metadata": {},
     "output_type": "execute_result"
    }
   ],
   "source": [
    "isNumber('0')"
   ]
  },
  {
   "cell_type": "code",
   "execution_count": null,
   "metadata": {},
   "outputs": [],
   "source": []
  }
 ],
 "metadata": {
  "kernelspec": {
   "display_name": "Python 3",
   "language": "python",
   "name": "python3"
  },
  "language_info": {
   "codemirror_mode": {
    "name": "ipython",
    "version": 3
   },
   "file_extension": ".py",
   "mimetype": "text/x-python",
   "name": "python",
   "nbconvert_exporter": "python",
   "pygments_lexer": "ipython3",
   "version": "3.7.4"
  }
 },
 "nbformat": 4,
 "nbformat_minor": 2
}
