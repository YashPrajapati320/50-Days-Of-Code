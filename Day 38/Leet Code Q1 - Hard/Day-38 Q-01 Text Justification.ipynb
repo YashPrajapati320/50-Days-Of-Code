{
 "cells": [
  {
   "cell_type": "markdown",
   "metadata": {},
   "source": [
    "# Text Justification"
   ]
  },
  {
   "cell_type": "code",
   "execution_count": 2,
   "metadata": {},
   "outputs": [],
   "source": [
    "#Example 1:\n",
    "\n",
    "#Input:\n",
    "#words = [\"This\", \"is\", \"an\", \"example\", \"of\", \"text\", \"justification.\"]\n",
    "#maxWidth = 16\n",
    "#Output:\n",
    "#[\n",
    "#   \"This    is    an\",\n",
    "#   \"example  of text\",\n",
    "#   \"justification.  \"\n",
    "#]\n",
    "\n",
    "#Example 2:\n",
    "\n",
    "#Input:\n",
    "#words = [\"What\",\"must\",\"be\",\"acknowledgment\",\"shall\",\"be\"]\n",
    "#maxWidth = 16\n",
    "#Output:\n",
    "#[\n",
    "#  \"What   must   be\",\n",
    "#  \"acknowledgment  \",\n",
    "#  \"shall be        \"\n",
    "#]\n",
    "#Explanation: Note that the last line is \"shall be    \" instead of \"shall     be\",\n",
    "#             because the last line must be left-justified instead of fully-justified.\n",
    "#             Note that the second line is also left-justified becase it contains only one word.\n",
    "\n",
    "#Example 3:\n",
    "\n",
    "#Input:\n",
    "#words = [\"Science\",\"is\",\"what\",\"we\",\"understand\",\"well\",\"enough\",\"to\",\"explain\",\n",
    "#         \"to\",\"a\",\"computer.\",\"Art\",\"is\",\"everything\",\"else\",\"we\",\"do\"]\n",
    "#maxWidth = 20\n",
    "#Output:\n",
    "#[\n",
    "#  \"Science  is  what we\",\n",
    "#  \"understand      well\",\n",
    "#  \"enough to explain to\",\n",
    "#  \"a  computer.  Art is\",\n",
    "#  \"everything  else  we\",\n",
    "#  \"do                  \"\n",
    "#]"
   ]
  },
  {
   "cell_type": "code",
   "execution_count": 2,
   "metadata": {},
   "outputs": [],
   "source": [
    "class Solution:\n",
    "    def fullJustify(words, maxWidth):\n",
    "        count, cur_words = 0, []\n",
    "        res = []\n",
    "        for word in words:\n",
    "            if count+ len(word) + len(cur_words) > maxWidth:\n",
    "                spaces = maxWidth - count\n",
    "                for i in range(spaces):\n",
    "                    cur_words[i % (len(cur_words)-1 if len(cur_words)>1 else 1)] += ' '\n",
    "                res.append(\"\".join(cur_words))\n",
    "                count, cur_words = 0, []\n",
    "            count+=len(word)\n",
    "            cur_words.append(word)\n",
    "        \n",
    "\t\t# last row\n",
    "        spaces = maxWidth - count - (len(cur_words)-1)\n",
    "        res.append(\" \".join(cur_words)+\" \"*spaces)\n",
    "        return res"
   ]
  },
  {
   "cell_type": "code",
   "execution_count": 4,
   "metadata": {},
   "outputs": [
    {
     "data": {
      "text/plain": [
       "['Science  is  what we',\n",
       " 'understand      well',\n",
       " 'enough to explain to',\n",
       " 'a  computer.  Art is',\n",
       " 'everything  else  we',\n",
       " 'do                  ']"
      ]
     },
     "execution_count": 4,
     "metadata": {},
     "output_type": "execute_result"
    }
   ],
   "source": [
    "Solution.fullJustify([\"Science\",\"is\",\"what\",\"we\",\"understand\",\"well\",\"enough\",\"to\",\"explain\",\"to\",\"a\",\"computer.\",\n",
    "             \"Art\",\"is\",\"everything\",\"else\",\"we\",\"do\"],20)"
   ]
  },
  {
   "cell_type": "code",
   "execution_count": null,
   "metadata": {},
   "outputs": [],
   "source": []
  }
 ],
 "metadata": {
  "kernelspec": {
   "display_name": "Python 3",
   "language": "python",
   "name": "python3"
  },
  "language_info": {
   "codemirror_mode": {
    "name": "ipython",
    "version": 3
   },
   "file_extension": ".py",
   "mimetype": "text/x-python",
   "name": "python",
   "nbconvert_exporter": "python",
   "pygments_lexer": "ipython3",
   "version": "3.7.4"
  }
 },
 "nbformat": 4,
 "nbformat_minor": 2
}
