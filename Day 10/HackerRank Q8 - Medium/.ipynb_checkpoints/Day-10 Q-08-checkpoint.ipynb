{
 "cells": [
  {
   "cell_type": "markdown",
   "metadata": {},
   "source": [
    "# The Minion Game"
   ]
  },
  {
   "cell_type": "raw",
   "metadata": {},
   "source": [
    "Sample Input\n",
    "\n",
    "BANANA\n",
    "\n",
    "Sample Output\n",
    "\n",
    "Stuart 12"
   ]
  },
  {
   "cell_type": "code",
   "execution_count": 20,
   "metadata": {},
   "outputs": [],
   "source": [
    "def minion_game(s):\n",
    "    vowels = 'AEIOU'\n",
    "    kevsc = 0\n",
    "    stusc = 0\n",
    "    for i in range(len(s)):\n",
    "        if s[i] in vowels:\n",
    "            kevsc += (len(s)-i)\n",
    "        else:\n",
    "            stusc += (len(s)-i)\n",
    "\n",
    "    if kevsc > stusc:\n",
    "        print(\"Kevin\", kevsc)\n",
    "    elif kevsc < stusc:\n",
    "        print(\"Stuart\", stusc)\n",
    "    else:\n",
    "        print(\"Draw\")"
   ]
  },
  {
   "cell_type": "code",
   "execution_count": 21,
   "metadata": {},
   "outputs": [
    {
     "name": "stdout",
     "output_type": "stream",
     "text": [
      "Stuart 12\n"
     ]
    }
   ],
   "source": [
    "minion_game('BANANA')"
   ]
  },
  {
   "cell_type": "code",
   "execution_count": 48,
   "metadata": {},
   "outputs": [],
   "source": [
    "from itertools import combinations \n",
    "from collections import OrderedDict\n",
    "def game(string):\n",
    "    vowels = 'AEIOU'\n",
    "    kevsc,stusc = 0,0 \n",
    "    res = [string[i:j] for i, j in combinations(range(len(string) + 1), r = 2)] \n",
    "    res = list(OrderedDict.fromkeys(res)) \n",
    "    kevin,stuart =[],[]\n",
    "    for i in range(len(res)):\n",
    "        if res[i][0] in vowels:\n",
    "            kevin.append(res[i])\n",
    "        else:\n",
    "            stuart.append(res[i])\n",
    "    for i in range(len(kevin)):\n",
    "        kevsc += string.count(kevin[i])\n",
    "    for i in range(len(stuart)):\n",
    "        stusc += string.count(stuart[i])\n",
    "    if kevsc > stusc:\n",
    "        return \"Kevin \"+str(kevsc)\n",
    "    else:\n",
    "        return \"Stuart \"+str(stusc)"
   ]
  },
  {
   "cell_type": "code",
   "execution_count": 49,
   "metadata": {},
   "outputs": [
    {
     "data": {
      "text/plain": [
       "'Stuart 12'"
      ]
     },
     "execution_count": 49,
     "metadata": {},
     "output_type": "execute_result"
    }
   ],
   "source": [
    "game('BANANA')"
   ]
  },
  {
   "cell_type": "code",
   "execution_count": null,
   "metadata": {},
   "outputs": [],
   "source": []
  }
 ],
 "metadata": {
  "kernelspec": {
   "display_name": "Python 3",
   "language": "python",
   "name": "python3"
  },
  "language_info": {
   "codemirror_mode": {
    "name": "ipython",
    "version": 3
   },
   "file_extension": ".py",
   "mimetype": "text/x-python",
   "name": "python",
   "nbconvert_exporter": "python",
   "pygments_lexer": "ipython3",
   "version": "3.7.4"
  }
 },
 "nbformat": 4,
 "nbformat_minor": 2
}
