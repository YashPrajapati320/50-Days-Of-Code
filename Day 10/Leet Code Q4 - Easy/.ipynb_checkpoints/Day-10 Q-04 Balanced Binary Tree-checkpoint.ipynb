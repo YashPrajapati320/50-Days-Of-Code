{
 "cells": [
  {
   "cell_type": "markdown",
   "metadata": {},
   "source": [
    "# Balanced Binary Tree"
   ]
  },
  {
   "cell_type": "raw",
   "metadata": {},
   "source": [
    "Example 1:\n",
    "\n",
    "Given the following tree [3,9,20,null,null,15,7]:\n",
    "\n",
    "    3\n",
    "   / \\\n",
    "  9  20\n",
    "    /  \\\n",
    "   15   7\n",
    "Return true.\n",
    "\n",
    "Example 2:\n",
    "\n",
    "Given the following tree [1,2,2,3,3,null,null,4,4]:\n",
    "\n",
    "       1\n",
    "      / \\\n",
    "     2   2\n",
    "    / \\\n",
    "   3   3\n",
    "  / \\\n",
    " 4   4\n",
    "Return false."
   ]
  },
  {
   "cell_type": "code",
   "execution_count": 2,
   "metadata": {},
   "outputs": [
    {
     "name": "stdout",
     "output_type": "stream",
     "text": [
      "Binary tree : \n",
      "  3\n",
      " / \\\n",
      "6   8\n",
      "\n",
      "Balanced Binary Tree : True\n"
     ]
    }
   ],
   "source": [
    "from binarytree import Node \n",
    "root = Node(3) \n",
    "root.left = Node(6) \n",
    "root.right = Node(8) \n",
    "  \n",
    "# Getting binary tree \n",
    "print('Binary tree :', root) \n",
    "print('Balanced Binary Tree :', root.is_balanced)"
   ]
  },
  {
   "cell_type": "code",
   "execution_count": 12,
   "metadata": {},
   "outputs": [],
   "source": [
    "from binarytree import build\n",
    "def balancedBinary(binaryArray):\n",
    "    print(binaryArray)\n",
    "    binaryTree = build(binaryArray)\n",
    "    print(binaryTree)\n",
    "    print(binaryTree.is_balanced)"
   ]
  },
  {
   "cell_type": "code",
   "execution_count": 13,
   "metadata": {},
   "outputs": [
    {
     "name": "stdout",
     "output_type": "stream",
     "text": [
      "[3, 9, 20, None, None, 15, 7]\n",
      "\n",
      "  3___\n",
      " /    \\\n",
      "9     _20\n",
      "     /   \\\n",
      "    15    7\n",
      "\n",
      "True\n"
     ]
    }
   ],
   "source": [
    "balancedBinary([3,9,20,None,None,15,7])"
   ]
  },
  {
   "cell_type": "code",
   "execution_count": 15,
   "metadata": {},
   "outputs": [
    {
     "name": "stdout",
     "output_type": "stream",
     "text": [
      "[1, 2, 2, 3, 3, None, None, 4, 4]\n",
      "\n",
      "        __1\n",
      "       /   \\\n",
      "    __2     2\n",
      "   /   \\\n",
      "  3     3\n",
      " / \\\n",
      "4   4\n",
      "\n",
      "False\n"
     ]
    }
   ],
   "source": [
    "balancedBinary([1,2,2,3,3,None,None,4,4])"
   ]
  },
  {
   "cell_type": "code",
   "execution_count": null,
   "metadata": {},
   "outputs": [],
   "source": []
  }
 ],
 "metadata": {
  "kernelspec": {
   "display_name": "Python 3",
   "language": "python",
   "name": "python3"
  },
  "language_info": {
   "codemirror_mode": {
    "name": "ipython",
    "version": 3
   },
   "file_extension": ".py",
   "mimetype": "text/x-python",
   "name": "python",
   "nbconvert_exporter": "python",
   "pygments_lexer": "ipython3",
   "version": "3.7.4"
  }
 },
 "nbformat": 4,
 "nbformat_minor": 2
}
