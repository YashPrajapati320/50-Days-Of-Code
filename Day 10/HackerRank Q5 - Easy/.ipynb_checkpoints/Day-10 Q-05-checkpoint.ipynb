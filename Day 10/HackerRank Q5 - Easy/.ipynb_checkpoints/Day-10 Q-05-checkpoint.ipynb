{
 "cells": [
  {
   "cell_type": "markdown",
   "metadata": {},
   "source": [
    "# String Formatting"
   ]
  },
  {
   "cell_type": "raw",
   "metadata": {},
   "source": [
    "Sample Input\n",
    "\n",
    "17\n",
    "\n",
    "Sample Output\n",
    "\n",
    "    1     1     1     1\n",
    "    2     2     2    10\n",
    "    3     3     3    11\n",
    "    4     4     4   100\n",
    "    5     5     5   101\n",
    "    6     6     6   110\n",
    "    7     7     7   111\n",
    "    8    10     8  1000\n",
    "    9    11     9  1001\n",
    "   10    12     A  1010\n",
    "   11    13     B  1011\n",
    "   12    14     C  1100\n",
    "   13    15     D  1101\n",
    "   14    16     E  1110\n",
    "   15    17     F  1111\n",
    "   16    20    10 10000\n",
    "   17    21    11 10001     "
   ]
  },
  {
   "cell_type": "code",
   "execution_count": 8,
   "metadata": {},
   "outputs": [],
   "source": [
    "def stringFormatting(num):\n",
    "    for i in range(1,num+1):\n",
    "        print(str(i) + \" \" + str(oct(i)) + \" \" + str(hex(i)) + \" \" + str(bin(i)))"
   ]
  },
  {
   "cell_type": "code",
   "execution_count": 9,
   "metadata": {},
   "outputs": [
    {
     "name": "stdout",
     "output_type": "stream",
     "text": [
      "1 0o1 0x1 0b1\n",
      "2 0o2 0x2 0b10\n",
      "3 0o3 0x3 0b11\n",
      "4 0o4 0x4 0b100\n",
      "5 0o5 0x5 0b101\n",
      "6 0o6 0x6 0b110\n",
      "7 0o7 0x7 0b111\n",
      "8 0o10 0x8 0b1000\n",
      "9 0o11 0x9 0b1001\n",
      "10 0o12 0xa 0b1010\n",
      "11 0o13 0xb 0b1011\n",
      "12 0o14 0xc 0b1100\n",
      "13 0o15 0xd 0b1101\n",
      "14 0o16 0xe 0b1110\n",
      "15 0o17 0xf 0b1111\n",
      "16 0o20 0x10 0b10000\n",
      "17 0o21 0x11 0b10001\n"
     ]
    }
   ],
   "source": [
    "stringFormatting(17)"
   ]
  },
  {
   "cell_type": "code",
   "execution_count": 13,
   "metadata": {},
   "outputs": [
    {
     "name": "stdout",
     "output_type": "stream",
     "text": [
      "    1     1     1     1\n",
      "    2     2     2    10\n",
      "    3     3     3    11\n",
      "    4     4     4   100\n",
      "    5     5     5   101\n",
      "    6     6     6   110\n",
      "    7     7     7   111\n",
      "    8    10     8  1000\n",
      "    9    11     9  1001\n",
      "   10    12     A  1010\n",
      "   11    13     B  1011\n",
      "   12    14     C  1100\n",
      "   13    15     D  1101\n",
      "   14    16     E  1110\n",
      "   15    17     F  1111\n",
      "   16    20    10 10000\n",
      "   17    21    11 10001\n"
     ]
    }
   ],
   "source": [
    "width = len(\"{0:b}\".format(17))\n",
    "for i in range(1,17+1):\n",
    "    print(\"{0:{width}d} {0:{width}o} {0:{width}X} {0:{width}b}\".format(i, width=width))"
   ]
  },
  {
   "cell_type": "code",
   "execution_count": null,
   "metadata": {},
   "outputs": [],
   "source": []
  }
 ],
 "metadata": {
  "kernelspec": {
   "display_name": "Python 3",
   "language": "python",
   "name": "python3"
  },
  "language_info": {
   "codemirror_mode": {
    "name": "ipython",
    "version": 3
   },
   "file_extension": ".py",
   "mimetype": "text/x-python",
   "name": "python",
   "nbconvert_exporter": "python",
   "pygments_lexer": "ipython3",
   "version": "3.7.4"
  }
 },
 "nbformat": 4,
 "nbformat_minor": 2
}
