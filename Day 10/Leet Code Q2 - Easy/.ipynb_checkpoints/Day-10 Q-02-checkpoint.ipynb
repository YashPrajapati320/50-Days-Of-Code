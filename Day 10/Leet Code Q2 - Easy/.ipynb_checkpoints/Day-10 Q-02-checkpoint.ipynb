{
 "cells": [
  {
   "cell_type": "markdown",
   "metadata": {},
   "source": [
    "# BInary Tree Level Order Traversal II"
   ]
  },
  {
   "cell_type": "raw",
   "metadata": {},
   "source": [
    "For example:\n",
    "Given binary tree [3,9,20,null,null,15,7],\n",
    "    3\n",
    "   / \\\n",
    "  9  20\n",
    "    /  \\\n",
    "   15   7\n",
    "   \n",
    "return its bottom-up level order traversal as:\n",
    "[\n",
    "  [15,7],\n",
    "  [9,20],\n",
    "  [3]\n",
    "]"
   ]
  },
  {
   "cell_type": "code",
   "execution_count": 1,
   "metadata": {},
   "outputs": [
    {
     "name": "stdout",
     "output_type": "stream",
     "text": [
      "Binary tree : \n",
      "  3\n",
      " / \\\n",
      "6   8\n",
      "\n"
     ]
    }
   ],
   "source": [
    "from binarytree import Node \n",
    "root = Node(3) \n",
    "root.left = Node(6) \n",
    "root.right = Node(8) \n",
    "# Getting binary tree \n",
    "print('Binary tree :', root)"
   ]
  },
  {
   "cell_type": "code",
   "execution_count": 2,
   "metadata": {},
   "outputs": [
    {
     "name": "stdout",
     "output_type": "stream",
     "text": [
      "Binary tree from list :\n",
      " \n",
      "    ___3\n",
      "   /    \\\n",
      "  6      8\n",
      " / \\      \\\n",
      "2   11     13\n",
      "\n",
      "\n",
      "List from binary tree : [3, 6, 8, 2, 11, None, 13]\n"
     ]
    }
   ],
   "source": [
    "# Creating binary tree  \n",
    "# from given list \n",
    "from binarytree import build \n",
    "  \n",
    "  \n",
    "# List of nodes \n",
    "nodes =[3, 6, 8, 2, 11, None, 13] \n",
    "  \n",
    "# Builidng the binary tree \n",
    "binary_tree = build(nodes) \n",
    "print('Binary tree from list :\\n', \n",
    "      binary_tree) \n",
    "  \n",
    "# Getting list of nodes from \n",
    "# binarytree \n",
    "print('\\nList from binary tree :',  \n",
    "      binary_tree.values)"
   ]
  },
  {
   "cell_type": "code",
   "execution_count": 13,
   "metadata": {},
   "outputs": [],
   "source": [
    "from binarytree import build \n",
    "def subnodes(nodes):\n",
    "    re = []\n",
    "    for node in nodes:\n",
    "        if node.left:\n",
    "            print(node.left)\n",
    "            re.append(node.left)\n",
    "        if node.right: \n",
    "            print(node.right)\n",
    "            re.append(node.right)\n",
    "    return re\n",
    "\n",
    "def binaryTreeTraverse(binaryArray):\n",
    "    root = build(binaryArray)    \n",
    "#    print(binaryTree)\n",
    "#    height = binaryTree.height\n",
    "#    print(binaryTree.right.right)\n",
    "#    print(list(binaryTree))\n",
    "#    while height > 0: \n",
    "#        print(height)\n",
    "#        expression = \"binaryTree\"+\".right\"*(height)\n",
    "#        print(eval(expression))\n",
    "#        height -= 1\n",
    "    if not root: return []\n",
    "    re = []\n",
    "\n",
    "    nodes = [root]\n",
    "    re.append([root.val])\n",
    "    while True:\n",
    "        tmp = subnodes(nodes)\n",
    "        if not tmp:  # empty\n",
    "            break\n",
    "        re.append([i.val for i in tmp])\n",
    "        nodes = tmp\n",
    "\n",
    "    return re[::-1]"
   ]
  },
  {
   "cell_type": "code",
   "execution_count": 14,
   "metadata": {},
   "outputs": [
    {
     "name": "stdout",
     "output_type": "stream",
     "text": [
      "\n",
      "9\n",
      "\n",
      "\n",
      "  _20\n",
      " /   \\\n",
      "15    7\n",
      "\n",
      "\n",
      "15\n",
      "\n",
      "\n",
      "7\n",
      "\n"
     ]
    },
    {
     "data": {
      "text/plain": [
       "[[15, 7], [9, 20], [3]]"
      ]
     },
     "execution_count": 14,
     "metadata": {},
     "output_type": "execute_result"
    }
   ],
   "source": [
    "binaryTreeTraverse([3,9,20,None,None,15,7])"
   ]
  },
  {
   "cell_type": "code",
   "execution_count": null,
   "metadata": {},
   "outputs": [],
   "source": []
  }
 ],
 "metadata": {
  "kernelspec": {
   "display_name": "Python 3",
   "language": "python",
   "name": "python3"
  }
 },
 "nbformat": 4,
 "nbformat_minor": 2
}
