{
 "cells": [
  {
   "cell_type": "markdown",
   "metadata": {},
   "source": [
    "# Text Alignment"
   ]
  },
  {
   "cell_type": "raw",
   "metadata": {},
   "source": [
    "Sample Input\n",
    "\n",
    "5\n",
    "\n",
    "Sample Output\n",
    "\n",
    "    H    \n",
    "   HHH   \n",
    "  HHHHH  \n",
    " HHHHHHH \n",
    "HHHHHHHHH\n",
    "  HHHHH               HHHHH             \n",
    "  HHHHH               HHHHH             \n",
    "  HHHHH               HHHHH             \n",
    "  HHHHH               HHHHH             \n",
    "  HHHHH               HHHHH             \n",
    "  HHHHH               HHHHH             \n",
    "  HHHHHHHHHHHHHHHHHHHHHHHHH   \n",
    "  HHHHHHHHHHHHHHHHHHHHHHHHH   \n",
    "  HHHHHHHHHHHHHHHHHHHHHHHHH   \n",
    "  HHHHH               HHHHH             \n",
    "  HHHHH               HHHHH             \n",
    "  HHHHH               HHHHH             \n",
    "  HHHHH               HHHHH             \n",
    "  HHHHH               HHHHH             \n",
    "  HHHHH               HHHHH             \n",
    "                    HHHHHHHHH \n",
    "                     HHHHHHH  \n",
    "                      HHHHH   \n",
    "                       HHH    \n",
    "                        H "
   ]
  },
  {
   "cell_type": "code",
   "execution_count": 2,
   "metadata": {},
   "outputs": [
    {
     "name": "stdout",
     "output_type": "stream",
     "text": [
      "6\n",
      "     H     \n",
      "    HHH    \n",
      "   HHHHH   \n",
      "  HHHHHHH  \n",
      " HHHHHHHHH \n",
      "HHHHHHHHHHH\n",
      "   HHHHHH                  HHHHHH               \n",
      "   HHHHHH                  HHHHHH               \n",
      "   HHHHHH                  HHHHHH               \n",
      "   HHHHHH                  HHHHHH               \n",
      "   HHHHHH                  HHHHHH               \n",
      "   HHHHHH                  HHHHHH               \n",
      "   HHHHHH                  HHHHHH               \n",
      "   HHHHHHHHHHHHHHHHHHHHHHHHHHHHHH   \n",
      "   HHHHHHHHHHHHHHHHHHHHHHHHHHHHHH   \n",
      "   HHHHHHHHHHHHHHHHHHHHHHHHHHHHHH   \n",
      "   HHHHHH                  HHHHHH               \n",
      "   HHHHHH                  HHHHHH               \n",
      "   HHHHHH                  HHHHHH               \n",
      "   HHHHHH                  HHHHHH               \n",
      "   HHHHHH                  HHHHHH               \n",
      "   HHHHHH                  HHHHHH               \n",
      "   HHHHHH                  HHHHHH               \n",
      "                        HHHHHHHHHHH \n",
      "                         HHHHHHHHH  \n",
      "                          HHHHHHH   \n",
      "                           HHHHH    \n",
      "                            HHH     \n",
      "                             H      \n"
     ]
    }
   ],
   "source": [
    "#Replace all ______ with rjust, ljust or center. \n",
    "\n",
    "thickness = int(input()) #This must be an odd number\n",
    "c = 'H'\n",
    "\n",
    "#Top Cone\n",
    "for i in range(thickness):\n",
    "    print((c*i).rjust(thickness-1)+c+(c*i).ljust(thickness-1))\n",
    "\n",
    "#Top Pillars\n",
    "for i in range(thickness+1):\n",
    "    print((c*thickness).center(thickness*2)+(c*thickness).center(thickness*6))\n",
    "\n",
    "#Middle Belt\n",
    "for i in range((thickness+1)//2):\n",
    "    print((c*thickness*5).center(thickness*6))    \n",
    "\n",
    "#Bottom Pillars\n",
    "for i in range(thickness+1):\n",
    "    print((c*thickness).center(thickness*2)+(c*thickness).center(thickness*6))    \n",
    "\n",
    "#Bottom Cone\n",
    "for i in range(thickness):\n",
    "    print(((c*(thickness-i-1)).rjust(thickness)+c+(c*(thickness-i-1)).ljust(thickness)).rjust(thickness*6))"
   ]
  },
  {
   "cell_type": "code",
   "execution_count": null,
   "metadata": {},
   "outputs": [],
   "source": []
  }
 ],
 "metadata": {
  "kernelspec": {
   "display_name": "Python 3",
   "language": "python",
   "name": "python3"
  },
  "language_info": {
   "codemirror_mode": {
    "name": "ipython",
    "version": 3
   },
   "file_extension": ".py",
   "mimetype": "text/x-python",
   "name": "python",
   "nbconvert_exporter": "python",
   "pygments_lexer": "ipython3",
   "version": "3.7.4"
  }
 },
 "nbformat": 4,
 "nbformat_minor": 2
}
