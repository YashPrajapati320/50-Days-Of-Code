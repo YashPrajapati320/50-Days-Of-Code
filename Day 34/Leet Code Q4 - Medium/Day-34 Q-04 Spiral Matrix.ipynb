{
 "cells": [
  {
   "cell_type": "markdown",
   "metadata": {},
   "source": [
    "# Spiral Matrix"
   ]
  },
  {
   "cell_type": "code",
   "execution_count": 2,
   "metadata": {},
   "outputs": [],
   "source": [
    "#Example 1:\n",
    "\n",
    "#Input:\n",
    "#[\n",
    "# [ 1, 2, 3 ],\n",
    "# [ 4, 5, 6 ],\n",
    "# [ 7, 8, 9 ]\n",
    "#]\n",
    "#Output: [1,2,3,6,9,8,7,4,5]\n",
    "\n",
    "#Example 2:\n",
    "\n",
    "#Input:\n",
    "#[\n",
    "#  [1, 2, 3, 4],\n",
    "#  [5, 6, 7, 8],\n",
    "#  [9,10,11,12]\n",
    "#]\n",
    "#Output: [1,2,3,4,8,12,11,10,9,5,6,7]"
   ]
  },
  {
   "cell_type": "code",
   "execution_count": 35,
   "metadata": {},
   "outputs": [],
   "source": [
    "from itertools import chain\n",
    "import numpy as np\n",
    "def spiralOrder(matrix):\n",
    "    matrix = np.array(matrix)\n",
    "    result = []\n",
    "    #print(len(matrix))\n",
    "    while len(matrix)>0:\n",
    "        #print(len(matrix))\n",
    "        result.append(matrix[0])\n",
    "        matrix = np.delete(matrix,0,0)\n",
    "        #print(len(matrix))\n",
    "        matrix = np.rot90(matrix)\n",
    "        #print(matrix)\n",
    "    return list(chain.from_iterable(result))"
   ]
  },
  {
   "cell_type": "code",
   "execution_count": 36,
   "metadata": {},
   "outputs": [
    {
     "data": {
      "text/plain": [
       "[0, 1, 2, 3, 7, 11, 15, 14, 13, 12, 8, 4, 5, 6, 10, 9]"
      ]
     },
     "execution_count": 36,
     "metadata": {},
     "output_type": "execute_result"
    }
   ],
   "source": [
    "# right down left up\n",
    "spiralOrder([[0,1,2,3],[4,5,6,7],[8,9,10,11],[12,13,14,15]])"
   ]
  },
  {
   "cell_type": "code",
   "execution_count": 37,
   "metadata": {},
   "outputs": [
    {
     "data": {
      "text/plain": [
       "[0, 1, 3, 2]"
      ]
     },
     "execution_count": 37,
     "metadata": {},
     "output_type": "execute_result"
    }
   ],
   "source": [
    "spiralOrder([[0,1],[2,3]])"
   ]
  },
  {
   "cell_type": "code",
   "execution_count": 39,
   "metadata": {},
   "outputs": [
    {
     "data": {
      "text/plain": [
       "[0]"
      ]
     },
     "execution_count": 39,
     "metadata": {},
     "output_type": "execute_result"
    }
   ],
   "source": [
    "spiralOrder([[0]])"
   ]
  },
  {
   "cell_type": "code",
   "execution_count": 40,
   "metadata": {},
   "outputs": [
    {
     "data": {
      "text/plain": [
       "[]"
      ]
     },
     "execution_count": 40,
     "metadata": {},
     "output_type": "execute_result"
    }
   ],
   "source": [
    "spiralOrder([[]])"
   ]
  },
  {
   "cell_type": "code",
   "execution_count": null,
   "metadata": {},
   "outputs": [],
   "source": []
  }
 ],
 "metadata": {
  "kernelspec": {
   "display_name": "Python 3",
   "language": "python",
   "name": "python3"
  },
  "language_info": {
   "codemirror_mode": {
    "name": "ipython",
    "version": 3
   },
   "file_extension": ".py",
   "mimetype": "text/x-python",
   "name": "python",
   "nbconvert_exporter": "python",
   "pygments_lexer": "ipython3",
   "version": "3.7.4"
  }
 },
 "nbformat": 4,
 "nbformat_minor": 2
}
