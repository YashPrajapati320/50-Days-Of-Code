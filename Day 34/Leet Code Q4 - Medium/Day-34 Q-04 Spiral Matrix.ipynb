{
 "cells": [
  {
   "cell_type": "markdown",
   "metadata": {},
   "source": [
    "# Spiral Matrix"
   ]
  },
  {
   "cell_type": "code",
   "execution_count": 2,
   "metadata": {},
   "outputs": [],
   "source": [
    "#Example 1:\n",
    "\n",
    "#Input:\n",
    "#[\n",
    "# [ 1, 2, 3 ],\n",
    "# [ 4, 5, 6 ],\n",
    "# [ 7, 8, 9 ]\n",
    "#]\n",
    "#Output: [1,2,3,6,9,8,7,4,5]\n",
    "\n",
    "#Example 2:\n",
    "\n",
    "#Input:\n",
    "#[\n",
    "#  [1, 2, 3, 4],\n",
    "#  [5, 6, 7, 8],\n",
    "#  [9,10,11,12]\n",
    "#]\n",
    "#Output: [1,2,3,4,8,12,11,10,9,5,6,7]"
   ]
  },
  {
   "cell_type": "code",
   "execution_count": 12,
   "metadata": {},
   "outputs": [],
   "source": [
    "import numpy as np\n",
    "def spiralOrder(matrix):\n",
    "    matrix = np.array(matrix)\n",
    "    print('Step 1')\n",
    "    print(matrix)\n",
    "    matrix = np.rot90(matrix)\n",
    "    print('Step 2')\n",
    "    print(matrix)\n",
    "    matrix = np.rot90(matrix)\n",
    "    print('Step 3')\n",
    "    print(matrix)\n",
    "    matrix = np.rot90(matrix)\n",
    "    print('Step 4')\n",
    "    print(matrix)\n",
    "    rotation = 0\n",
    "    while rotation <= 3:\n",
    "        matrix = np.array(matrix)\n",
    "        print('Step: ', rotation)"
   ]
  },
  {
   "cell_type": "code",
   "execution_count": 13,
   "metadata": {},
   "outputs": [
    {
     "name": "stdout",
     "output_type": "stream",
     "text": [
      "Step 1\n",
      "[[0 1 2]\n",
      " [3 4 5]\n",
      " [6 7 8]]\n",
      "Step 2\n",
      "[[2 5 8]\n",
      " [1 4 7]\n",
      " [0 3 6]]\n",
      "Step 3\n",
      "[[8 7 6]\n",
      " [5 4 3]\n",
      " [2 1 0]]\n",
      "Step 4\n",
      "[[6 3 0]\n",
      " [7 4 1]\n",
      " [8 5 2]]\n"
     ]
    }
   ],
   "source": [
    "# right down left up\n",
    "spiralOrder([[0,1,2],[3,4,5],[6,7,8]])"
   ]
  },
  {
   "cell_type": "code",
   "execution_count": 5,
   "metadata": {},
   "outputs": [
    {
     "name": "stdout",
     "output_type": "stream",
     "text": [
      "0 1\n",
      "1 2\n",
      "2 3\n",
      "3 4\n",
      "4 5\n",
      "5 6\n",
      "6 7\n",
      "7 8\n",
      "8 9\n"
     ]
    }
   ],
   "source": [
    "spiralOrder([1,2,3,4,5,6,7,8,9])"
   ]
  },
  {
   "cell_type": "code",
   "execution_count": null,
   "metadata": {},
   "outputs": [],
   "source": [
    "right down left up"
   ]
  }
 ],
 "metadata": {
  "kernelspec": {
   "display_name": "Python 3",
   "language": "python",
   "name": "python3"
  },
  "language_info": {
   "codemirror_mode": {
    "name": "ipython",
    "version": 3
   },
   "file_extension": ".py",
   "mimetype": "text/x-python",
   "name": "python",
   "nbconvert_exporter": "python",
   "pygments_lexer": "ipython3",
   "version": "3.7.4"
  }
 },
 "nbformat": 4,
 "nbformat_minor": 2
}
