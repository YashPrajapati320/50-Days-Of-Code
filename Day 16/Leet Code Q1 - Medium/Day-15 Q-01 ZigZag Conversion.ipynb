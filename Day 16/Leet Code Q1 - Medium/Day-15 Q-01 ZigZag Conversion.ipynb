{
 "cells": [
  {
   "cell_type": "markdown",
   "metadata": {},
   "source": [
    "# ZigZag Conversion"
   ]
  },
  {
   "cell_type": "code",
   "execution_count": 2,
   "metadata": {},
   "outputs": [],
   "source": [
    "#The string \"PAYPALISHIRING\" is written in a zigzag pattern on a given number of rows like this: \n",
    "#   (you may want to display this pattern in a fixed font for better legibility)\n",
    "\n",
    "#P   A   H   N\n",
    "#A P L S I I G\n",
    "#Y   I   R"
   ]
  },
  {
   "cell_type": "code",
   "execution_count": 3,
   "metadata": {},
   "outputs": [],
   "source": [
    "#Example 1:\n",
    "\n",
    "#Input: s = \"PAYPALISHIRING\", numRows = 3\n",
    "#Output: \"PAHNAPLSIIGYIR\"\n",
    "#P   A   H   N\n",
    "#A P L S I I G\n",
    "#Y   I   R\n",
    "\n",
    "#Example 2:\n",
    "\n",
    "#Input: s = \"PAYPALISHIRING\", numRows = 4\n",
    "#Output: \"PINALSIGYAHRPI\"\n",
    "#Explanation:\n",
    "\n",
    "#P     I    N\n",
    "#A   L S  I G\n",
    "#Y A   H R\n",
    "#P     I"
   ]
  },
  {
   "cell_type": "code",
   "execution_count": 4,
   "metadata": {},
   "outputs": [],
   "source": [
    "import numpy as np\n",
    "def convert(string,numRows):\n",
    "    stringMatrix = []\n",
    "    stringArray = list(string)\n",
    "    count = numRows\n",
    "    while count:\n",
    "        stringMatrix.append([])\n",
    "        count -= 1\n",
    "    print(stringMatrix)\n",
    "    print(numRows)\n",
    "    stringMatrix = np.column_stack((stringMatrix,np.array(list('PAYPALISHIRING'[:numRows]))))\n",
    "    print(string)\n",
    "    print(stringArray)\n",
    "    print(stringMatrix)"
   ]
  },
  {
   "cell_type": "code",
   "execution_count": 5,
   "metadata": {},
   "outputs": [
    {
     "name": "stdout",
     "output_type": "stream",
     "text": [
      "[[], [], [], []]\n",
      "4\n",
      "PAYPALISHIRING\n",
      "['P', 'A', 'Y', 'P', 'A', 'L', 'I', 'S', 'H', 'I', 'R', 'I', 'N', 'G']\n",
      "[['P']\n",
      " ['A']\n",
      " ['Y']\n",
      " ['P']]\n"
     ]
    }
   ],
   "source": [
    "convert('PAYPALISHIRING',4)"
   ]
  },
  {
   "cell_type": "code",
   "execution_count": 6,
   "metadata": {},
   "outputs": [
    {
     "data": {
      "text/plain": [
       "['P', 'A', 'Y', 'P']"
      ]
     },
     "execution_count": 6,
     "metadata": {},
     "output_type": "execute_result"
    }
   ],
   "source": [
    "num = 4\n",
    "list('PAYPALISHIRING'[:num])"
   ]
  },
  {
   "cell_type": "code",
   "execution_count": 22,
   "metadata": {},
   "outputs": [
    {
     "name": "stdout",
     "output_type": "stream",
     "text": [
      "['PAYPA', 'LISHI', 'RING ']\n",
      "[['PAY', 'PA'], ['LIS', 'HI'], ['RIN', 'G']]\n",
      "['PAY' list(['P', 'A']) 'LIS' list(['H', 'I']) 'RIN' list(['G'])]\n"
     ]
    }
   ],
   "source": [
    "import numpy as np\n",
    "from textwrap import wrap\n",
    "string = 'PAYPALISHIRING'\n",
    "numRows = 3\n",
    "array = wrap(string, numRows+2)\n",
    "if len(array[len(array)-1])<len(array[len(array)-2]):\n",
    "    array[len(array)-1] = array[len(array)-1].ljust(len(array[len(array)-2]))\n",
    "print(array)\n",
    "for i in range(len(array)):\n",
    "    array[i] = wrap(array[i],numRows)\n",
    "print(array)\n",
    "for i in range(len(array)):\n",
    "    array[i][1] = list(array[i][1])\n",
    "array = np.array(array)\n",
    "print(array.flatten())"
   ]
  },
  {
   "cell_type": "code",
   "execution_count": 52,
   "metadata": {},
   "outputs": [
    {
     "name": "stdout",
     "output_type": "stream",
     "text": [
      "PAHN\n",
      "APLSIIG\n",
      "YIR\n",
      "PAHNAPLSIIGYIR\n"
     ]
    }
   ],
   "source": [
    "string = 'PAYPALISHIRING'\n",
    "temp1 = ''\n",
    "temp2 = ''\n",
    "temp3 = ''\n",
    "numRows = 3\n",
    "for i in range(len(string)):\n",
    "    if i%(numRows+1) == 0:\n",
    "        temp1 = temp1 + string[i]\n",
    "    if i%(numRows+1) == 1 or i%(numRows+1) == 3:\n",
    "        temp2 = temp2 + string[i]\n",
    "    if i%(numRows+1) == 2:\n",
    "        temp3 = temp3 + string[i]\n",
    "print(temp1)\n",
    "print(temp2)\n",
    "print(temp3)\n",
    "print(temp1+temp2+temp3)"
   ]
  },
  {
   "cell_type": "code",
   "execution_count": 73,
   "metadata": {},
   "outputs": [
    {
     "data": {
      "text/plain": [
       "['NG']"
      ]
     },
     "execution_count": 73,
     "metadata": {},
     "output_type": "execute_result"
    }
   ],
   "source": [
    "wrap('NG    ',4)"
   ]
  },
  {
   "cell_type": "code",
   "execution_count": 76,
   "metadata": {},
   "outputs": [
    {
     "data": {
      "text/plain": [
       "[None, None, None, None, None, None, None, None, None, None]"
      ]
     },
     "execution_count": 76,
     "metadata": {},
     "output_type": "execute_result"
    }
   ],
   "source": [
    "a = [None]*10\n",
    "a"
   ]
  },
  {
   "cell_type": "code",
   "execution_count": 23,
   "metadata": {},
   "outputs": [
    {
     "data": {
      "text/plain": [
       "['PAYP', '00A0', '0L00', 'ISHI', '00R0', '0I00', 'NG00']"
      ]
     },
     "execution_count": 23,
     "metadata": {},
     "output_type": "execute_result"
    }
   ],
   "source": [
    "['PAYP','00A0','0L00','ISHI','00R0','0I00','NG00']"
   ]
  },
  {
   "cell_type": "code",
   "execution_count": 24,
   "metadata": {},
   "outputs": [],
   "source": [
    "def test():\n",
    "    s = \"PAYPALISHIRING\"\n",
    "    n = 3\n",
    "    if n <2:\n",
    "        return s\n",
    "    outp = []\n",
    "    for i in wrap(s,(n*2)-2):\n",
    "        outp.append(i[:n])\n",
    "        index = n-2\n",
    "        for c in i.split(i[:n],1)[1]:\n",
    "            temp = \" \"*n\n",
    "            temp = temp[:index]+c+temp[index+1:]\n",
    "            index-=1\n",
    "            outp.append(temp)\n",
    "    outString=\"\"\n",
    "    for i in range(0,n):\n",
    "        for element in outp:\n",
    "            try:\n",
    "                if element[i] != \" \":\n",
    "                    outString+=element[i]\n",
    "            except:\n",
    "                pass\n",
    "    print(outString)\n",
    "    return outString"
   ]
  },
  {
   "cell_type": "code",
   "execution_count": 25,
   "metadata": {},
   "outputs": [
    {
     "name": "stdout",
     "output_type": "stream",
     "text": [
      "PAHNAPLSIIGYIR\n"
     ]
    },
    {
     "data": {
      "text/plain": [
       "'PAHNAPLSIIGYIR'"
      ]
     },
     "execution_count": 25,
     "metadata": {},
     "output_type": "execute_result"
    }
   ],
   "source": [
    "test()"
   ]
  },
  {
   "cell_type": "code",
   "execution_count": 28,
   "metadata": {},
   "outputs": [],
   "source": [
    "#Better Solution\n",
    "from textwrap import wrap\n",
    "class Solution(object):\n",
    "    def convert(self,s,n):\n",
    "        up = True\n",
    "        dump_dict = [\"\"]*n\n",
    "        index = 0\n",
    "        if n==1:\n",
    "            return s\n",
    "        for letter in s:\n",
    "            dump_dict[index]+=letter\n",
    "            if index==0 or index==n-1:\n",
    "                up = not up\n",
    "            if up:\n",
    "                index-=1\n",
    "            else:\n",
    "                index+=1\n",
    "        return \"\".join(dump_dict)\n",
    "# print(Solution().convert(\"PAYPALISHIRING\",3))"
   ]
  },
  {
   "cell_type": "code",
   "execution_count": 27,
   "metadata": {},
   "outputs": [
    {
     "data": {
      "text/plain": [
       "'PAHNAPLSIIGYIR'"
      ]
     },
     "execution_count": 27,
     "metadata": {},
     "output_type": "execute_result"
    }
   ],
   "source": [
    "Solution().convert(\"PAYPALISHIRING\",3)"
   ]
  },
  {
   "cell_type": "code",
   "execution_count": null,
   "metadata": {},
   "outputs": [],
   "source": []
  }
 ],
 "metadata": {
  "kernelspec": {
   "display_name": "Python 3",
   "language": "python",
   "name": "python3"
  },
  "language_info": {
   "codemirror_mode": {
    "name": "ipython",
    "version": 3
   },
   "file_extension": ".py",
   "mimetype": "text/x-python",
   "name": "python",
   "nbconvert_exporter": "python",
   "pygments_lexer": "ipython3",
   "version": "3.7.4"
  }
 },
 "nbformat": 4,
 "nbformat_minor": 2
}
