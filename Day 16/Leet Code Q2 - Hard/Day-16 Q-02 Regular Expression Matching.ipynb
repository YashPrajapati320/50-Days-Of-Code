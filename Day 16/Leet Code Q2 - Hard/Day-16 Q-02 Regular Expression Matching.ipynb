{
 "cells": [
  {
   "cell_type": "markdown",
   "metadata": {},
   "source": [
    "# Regular Expression Matching"
   ]
  },
  {
   "cell_type": "code",
   "execution_count": 1,
   "metadata": {},
   "outputs": [],
   "source": [
    "#Example 1:\n",
    "\n",
    "#Input:\n",
    "#s = \"aa\"\n",
    "#p = \"a\"\n",
    "#Output: false\n",
    "#Explanation: \"a\" does not match the entire string \"aa\".\n",
    "\n",
    "#Example 2:\n",
    "\n",
    "#Input:\n",
    "#s = \"aa\"\n",
    "#p = \"a*\"\n",
    "#Output: true\n",
    "#Explanation: '*' means zero or more of the preceding element, 'a'. Therefore, by repeating 'a' once, it becomes \"aa\".\n",
    "\n",
    "#Example 3:\n",
    "\n",
    "#Input:\n",
    "#s = \"ab\"\n",
    "#p = \".*\"\n",
    "#Output: true\n",
    "#Explanation: \".*\" means \"zero or more (*) of any character (.)\".\n",
    "\n",
    "#Example 4:\n",
    "\n",
    "#Input:\n",
    "#s = \"aab\"\n",
    "#p = \"c*a*b\"\n",
    "#Output: true\n",
    "#Explanation: c can be repeated 0 times, a can be repeated 1 time. Therefore, it matches \"aab\".\n",
    "\n",
    "#Example 5:\n",
    "\n",
    "#Input:\n",
    "#s = \"mississippi\"\n",
    "#p = \"mis*is*p*.\"\n",
    "#Output: false"
   ]
  },
  {
   "cell_type": "code",
   "execution_count": 62,
   "metadata": {},
   "outputs": [],
   "source": [
    "import re\n",
    "class Solution:\n",
    "    def isMatch(self, s: str, p: str):\n",
    "        match = re.match(p,s)\n",
    "        print(match)\n",
    "        if not match:\n",
    "            return False\n",
    "        if match.start()==0 and match.end()==len(s):\n",
    "            return True\n",
    "        return False"
   ]
  },
  {
   "cell_type": "code",
   "execution_count": 63,
   "metadata": {},
   "outputs": [
    {
     "name": "stdout",
     "output_type": "stream",
     "text": [
      "<re.Match object; span=(0, 8), match='mississi'>\n"
     ]
    },
    {
     "data": {
      "text/plain": [
       "False"
      ]
     },
     "execution_count": 63,
     "metadata": {},
     "output_type": "execute_result"
    }
   ],
   "source": [
    "Solution().isMatch('mississippi','mis*is*p*.')"
   ]
  },
  {
   "cell_type": "code",
   "execution_count": 61,
   "metadata": {},
   "outputs": [
    {
     "data": {
      "text/plain": [
       "False"
      ]
     },
     "execution_count": 61,
     "metadata": {},
     "output_type": "execute_result"
    }
   ],
   "source": [
    "Solution().isMatch('aa','a')"
   ]
  },
  {
   "cell_type": "code",
   "execution_count": 70,
   "metadata": {},
   "outputs": [
    {
     "name": "stdout",
     "output_type": "stream",
     "text": [
      "<re.Match object; span=(0, 3), match='aab'>\n",
      "True\n",
      "False\n"
     ]
    }
   ],
   "source": [
    "result = re.fullmatch('c*a*b','aab')\n",
    "print(result)\n",
    "if result:\n",
    "    return True\n",
    "return False"
   ]
  },
  {
   "cell_type": "code",
   "execution_count": null,
   "metadata": {},
   "outputs": [],
   "source": []
  }
 ],
 "metadata": {
  "kernelspec": {
   "display_name": "Python 3",
   "language": "python",
   "name": "python3"
  },
  "language_info": {
   "codemirror_mode": {
    "name": "ipython",
    "version": 3
   },
   "file_extension": ".py",
   "mimetype": "text/x-python",
   "name": "python",
   "nbconvert_exporter": "python",
   "pygments_lexer": "ipython3",
   "version": "3.7.4"
  }
 },
 "nbformat": 4,
 "nbformat_minor": 2
}
