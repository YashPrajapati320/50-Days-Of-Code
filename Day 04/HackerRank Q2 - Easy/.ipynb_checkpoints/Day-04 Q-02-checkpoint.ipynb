{
 "cells": [
  {
   "cell_type": "markdown",
   "metadata": {},
   "source": [
    "# Repeated String "
   ]
  },
  {
   "cell_type": "markdown",
   "metadata": {},
   "source": [
    "1. Input: aba 10\n",
    "\n",
    "2. Ouput: 7"
   ]
  },
  {
   "cell_type": "code",
   "execution_count": 6,
   "metadata": {},
   "outputs": [],
   "source": [
    "def repeatedString(s,n):\n",
    "    rep = s * n\n",
    "    count = 0\n",
    "    stop = n\n",
    "    for i in rep:\n",
    "        \n",
    "        if i == \"a\" and stop >=0:\n",
    "            count += 1\n",
    "        stop -= 1\n",
    "    print(count)\n",
    "    return count"
   ]
  },
  {
   "cell_type": "code",
   "execution_count": 7,
   "metadata": {},
   "outputs": [
    {
     "name": "stdout",
     "output_type": "stream",
     "text": [
      "7\n"
     ]
    },
    {
     "data": {
      "text/plain": [
       "7"
      ]
     },
     "execution_count": 7,
     "metadata": {},
     "output_type": "execute_result"
    }
   ],
   "source": [
    "repeatedString(\"aba\",10)"
   ]
  },
  {
   "cell_type": "code",
   "execution_count": 8,
   "metadata": {},
   "outputs": [
    {
     "name": "stdout",
     "output_type": "stream",
     "text": [
      "112436\n"
     ]
    },
    {
     "data": {
      "text/plain": [
       "112436"
      ]
     },
     "execution_count": 8,
     "metadata": {},
     "output_type": "execute_result"
    }
   ],
   "source": [
    "import collections\n",
    "def repeatedString(s, n):\n",
    "    a = s.count(\"a\")\n",
    "    length = len(s) \n",
    "    times = n // length * a\n",
    "    remaining = n % length\n",
    "    for i in s:\n",
    "        if remaining == 0:\n",
    "            break\n",
    "        if i == \"a\":\n",
    "            times += 1\n",
    "        remaining -= 1\n",
    "    print(times)\n",
    "    return times\n",
    "repeatedString(\"jdiacikk\",899491)"
   ]
  },
  {
   "cell_type": "code",
   "execution_count": null,
   "metadata": {},
   "outputs": [],
   "source": []
  }
 ],
 "metadata": {
  "kernelspec": {
   "display_name": "Python 3",
   "language": "python",
   "name": "python3"
  },
  "language_info": {
   "codemirror_mode": {
    "name": "ipython",
    "version": 3
   },
   "file_extension": ".py",
   "mimetype": "text/x-python",
   "name": "python",
   "nbconvert_exporter": "python",
   "pygments_lexer": "ipython3",
   "version": "3.7.4"
  }
 },
 "nbformat": 4,
 "nbformat_minor": 2
}
