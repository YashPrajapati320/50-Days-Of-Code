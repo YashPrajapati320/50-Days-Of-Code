{
 "cells": [
  {
   "cell_type": "markdown",
   "metadata": {},
   "source": [
    "# Single Number"
   ]
  },
  {
   "cell_type": "code",
   "execution_count": 51,
   "metadata": {},
   "outputs": [],
   "source": [
    "import numpy\n",
    "def singleNumber(nums):\n",
    "    ## RC ##\n",
    "    ## APPROACH : XOR ##\n",
    "        \n",
    "    ## TIME COMPLEXITY : O(N) ##\n",
    "    ## SPACE COMPLEXITY : O(1) ##\n",
    "        \n",
    "    # If we take XOR of zero and some bit, it will return that bit\n",
    "    # a XOR 0 = a, a XOR 0=a\n",
    "    # If we take XOR of two same bits, it will return 0\n",
    "    # a XOR a = 0 a XOR a=0\n",
    "    # a XOR b XOR a = (a XOR a) XOR b = 0 XOR b = b \n",
    "    # a⊕b⊕a=(a⊕a)⊕b=0⊕b=b\n",
    "    # So we can XOR all bits together to find the unique number.\n",
    "    a = 0\n",
    "    for i in nums:\n",
    "        a ^= i\n",
    "    return a"
   ]
  },
  {
   "cell_type": "code",
   "execution_count": 52,
   "metadata": {},
   "outputs": [
    {
     "data": {
      "text/plain": [
       "1"
      ]
     },
     "execution_count": 52,
     "metadata": {},
     "output_type": "execute_result"
    }
   ],
   "source": [
    "data = [2,2,1]\n",
    "singleNumber(data)"
   ]
  },
  {
   "cell_type": "code",
   "execution_count": null,
   "metadata": {},
   "outputs": [],
   "source": []
  }
 ],
 "metadata": {
  "kernelspec": {
   "display_name": "Python 3",
   "language": "python",
   "name": "python3"
  },
  "language_info": {
   "codemirror_mode": {
    "name": "ipython",
    "version": 3
   },
   "file_extension": ".py",
   "mimetype": "text/x-python",
   "name": "python",
   "nbconvert_exporter": "python",
   "pygments_lexer": "ipython3",
   "version": "3.7.4"
  }
 },
 "nbformat": 4,
 "nbformat_minor": 2
}
