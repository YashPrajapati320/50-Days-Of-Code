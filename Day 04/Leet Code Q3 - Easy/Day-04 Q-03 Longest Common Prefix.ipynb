{
 "cells": [
  {
   "cell_type": "markdown",
   "metadata": {},
   "source": [
    "# Longest Common Prefix"
   ]
  },
  {
   "cell_type": "markdown",
   "metadata": {},
   "source": [
    "1. Input: [\"flower\",\"flow\",\"flight\"]\n",
    "2. Output: \"fl\""
   ]
  },
  {
   "cell_type": "code",
   "execution_count": 10,
   "metadata": {},
   "outputs": [],
   "source": [
    "def lcp(strs):\n",
    "    if len(strs) == 0:\n",
    "         return \"\"\n",
    "    current = strs[0]\n",
    "    for i in range(1,len(strs)):\n",
    "        temp = \"\"\n",
    "        if len(current) == 0:\n",
    "            break\n",
    "        for j in range(len(strs[i])):\n",
    "            if j<len(current) and current[j] == strs[i][j]:\n",
    "                temp+=current[j]\n",
    "            else:\n",
    "                break\n",
    "        current = temp\n",
    "    return current "
   ]
  },
  {
   "cell_type": "code",
   "execution_count": 11,
   "metadata": {},
   "outputs": [
    {
     "data": {
      "text/plain": [
       "'fl'"
      ]
     },
     "execution_count": 11,
     "metadata": {},
     "output_type": "execute_result"
    }
   ],
   "source": [
    "s = [\"flower\",\"flow\",\"flight\"]\n",
    "lcp(s)"
   ]
  },
  {
   "cell_type": "code",
   "execution_count": null,
   "metadata": {},
   "outputs": [],
   "source": []
  }
 ],
 "metadata": {
  "kernelspec": {
   "display_name": "Python 3",
   "language": "python",
   "name": "python3"
  },
  "language_info": {
   "codemirror_mode": {
    "name": "ipython",
    "version": 3
   },
   "file_extension": ".py",
   "mimetype": "text/x-python",
   "name": "python",
   "nbconvert_exporter": "python",
   "pygments_lexer": "ipython3",
   "version": "3.7.4"
  }
 },
 "nbformat": 4,
 "nbformat_minor": 2
}
