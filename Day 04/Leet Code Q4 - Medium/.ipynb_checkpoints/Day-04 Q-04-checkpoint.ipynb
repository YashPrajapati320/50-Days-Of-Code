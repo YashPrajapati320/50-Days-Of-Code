{
 "cells": [
  {
   "cell_type": "markdown",
   "metadata": {},
   "source": [
    "# Add Two Numbers"
   ]
  },
  {
   "cell_type": "code",
   "execution_count": 21,
   "metadata": {},
   "outputs": [],
   "source": [
    "# A single node of a singly linked list\n",
    "class Node:\n",
    "    # constructor\n",
    "    def __init__(self, data = None, next=None): \n",
    "        self.data = data\n",
    "        self.next = next\n",
    "\n",
    "# A Linked List class with a single head node\n",
    "class LinkedList:\n",
    "    def __init__(self):  \n",
    "        self.head = None\n",
    "  \n",
    "    # insertion method for the linked list\n",
    "    def insert(self, data):\n",
    "        newNode = Node(data)\n",
    "        if(self.head):\n",
    "            current = self.head\n",
    "            while(current.next):\n",
    "                current = current.next\n",
    "            current.next = newNode\n",
    "        else:\n",
    "            self.head = newNode\n",
    "  \n",
    "    # print method for the linked list\n",
    "    def printLL(self):\n",
    "        current = self.head\n",
    "        while(current):\n",
    "            print(current.data)\n",
    "            current = current.next\n"
   ]
  },
  {
   "cell_type": "code",
   "execution_count": 23,
   "metadata": {},
   "outputs": [
    {
     "name": "stdout",
     "output_type": "stream",
     "text": [
      "2\n",
      "4\n",
      "3\n",
      "5\n",
      "6\n",
      "4\n"
     ]
    }
   ],
   "source": [
    "L1 = LinkedList()\n",
    "L1.insert(2)\n",
    "L1.insert(4)\n",
    "L1.insert(3)\n",
    "L1.printLL()\n",
    "L2 = LinkedList()\n",
    "L2.insert(5)\n",
    "L2.insert(6)\n",
    "L2.insert(4)\n",
    "L2.printLL()"
   ]
  },
  {
   "cell_type": "code",
   "execution_count": 32,
   "metadata": {},
   "outputs": [],
   "source": [
    "# Definition for singly-linked list.\n",
    "class ListNode:\n",
    "    def __init__(self, val=0, next=None):\n",
    "        self.val = val\n",
    "        self.next = next\n",
    "class Solution:\n",
    "    def addTwoNumbers(self, l1: ListNode, l2: ListNode) -> ListNode:\n",
    "        memory = 0\n",
    "        cur_node_1 = l1\n",
    "        cur_node_2 = l2\n",
    "        new_ll = None\n",
    "        cur_new_node = None\n",
    "        \n",
    "        \n",
    "        while True:\n",
    "            if cur_node_1 is None and cur_node_2 is None:\n",
    "                if memory != 0:\n",
    "                    cur_new_node.next = ListNode(val=memory)\n",
    "                break\n",
    "            \n",
    "            cur_val_1 = cur_node_1.val if cur_node_1 is not None else 0\n",
    "            cur_val_2 = cur_node_2.val if cur_node_2 is not None else 0\n",
    "            \n",
    "            s = cur_val_1 + cur_val_2 + memory\n",
    "            memory = s // 10\n",
    "            new_node = ListNode(val=(s % 10))\n",
    "            if new_ll is None:\n",
    "                new_ll = new_node\n",
    "                cur_new_node = new_ll\n",
    "            else:\n",
    "                cur_new_node.next = new_node\n",
    "                cur_new_node = cur_new_node.next\n",
    "                \n",
    "            cur_node_1 = cur_node_1.next if cur_node_1 else None\n",
    "            cur_node_2 = cur_node_2.next if cur_node_2 else None\n",
    "            \n",
    "        return new_ll"
   ]
  },
  {
   "cell_type": "code",
   "execution_count": 34,
   "metadata": {},
   "outputs": [
    {
     "ename": "NameError",
     "evalue": "name 'addTwoNumbers' is not defined",
     "output_type": "error",
     "traceback": [
      "\u001b[1;31m---------------------------------------------------------------------------\u001b[0m",
      "\u001b[1;31mNameError\u001b[0m                                 Traceback (most recent call last)",
      "\u001b[1;32m<ipython-input-34-f923e8898b01>\u001b[0m in \u001b[0;36m<module>\u001b[1;34m\u001b[0m\n\u001b[1;32m----> 1\u001b[1;33m \u001b[0maddTwoNumbers\u001b[0m\u001b[1;33m(\u001b[0m\u001b[0mL1\u001b[0m\u001b[1;33m,\u001b[0m\u001b[0mL2\u001b[0m\u001b[1;33m)\u001b[0m\u001b[1;33m\u001b[0m\u001b[1;33m\u001b[0m\u001b[0m\n\u001b[0m",
      "\u001b[1;31mNameError\u001b[0m: name 'addTwoNumbers' is not defined"
     ]
    }
   ],
   "source": [
    "addTwoNumbers(L1,L2)"
   ]
  },
  {
   "cell_type": "code",
   "execution_count": null,
   "metadata": {},
   "outputs": [],
   "source": []
  }
 ],
 "metadata": {
  "kernelspec": {
   "display_name": "Python 3",
   "language": "python",
   "name": "python3"
  },
  "language_info": {
   "codemirror_mode": {
    "name": "ipython",
    "version": 3
   },
   "file_extension": ".py",
   "mimetype": "text/x-python",
   "name": "python",
   "nbconvert_exporter": "python",
   "pygments_lexer": "ipython3",
   "version": "3.7.4"
  }
 },
 "nbformat": 4,
 "nbformat_minor": 2
}
