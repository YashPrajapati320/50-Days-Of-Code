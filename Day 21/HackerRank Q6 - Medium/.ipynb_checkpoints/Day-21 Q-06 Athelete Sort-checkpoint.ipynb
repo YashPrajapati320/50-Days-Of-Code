{
 "cells": [
  {
   "cell_type": "markdown",
   "metadata": {},
   "source": [
    "# Athelete Sort"
   ]
  },
  {
   "cell_type": "code",
   "execution_count": 1,
   "metadata": {},
   "outputs": [],
   "source": [
    "#Sample Input 0\n",
    "\n",
    "#5 3\n",
    "#10 2 5\n",
    "#7 1 0\n",
    "#9 9 9\n",
    "#1 23 12\n",
    "#6 5 9\n",
    "#1\n",
    "\n",
    "#Sample Output 0\n",
    "\n",
    "#7 1 0\n",
    "#10 2 5\n",
    "#6 5 9\n",
    "#9 9 9\n",
    "#1 23 12"
   ]
  },
  {
   "cell_type": "code",
   "execution_count": 7,
   "metadata": {},
   "outputs": [],
   "source": [
    "import numpy as np\n",
    "def sort2D(twodarray,column):\n",
    "    arr2D = np.array(twodarray)\n",
    "    return arr2D[arr2D[:,column].argsort()]"
   ]
  },
  {
   "cell_type": "code",
   "execution_count": 3,
   "metadata": {},
   "outputs": [
    {
     "name": "stdout",
     "output_type": "stream",
     "text": [
      "5 3\n",
      "10 2 5\n",
      "7 1 0\n",
      "9 9 9\n",
      "1 23 12\n",
      "6 5 9\n",
      "1\n"
     ]
    }
   ],
   "source": [
    "nm = input().split()\n",
    "n = int(nm[0])\n",
    "m = int(nm[1])\n",
    "arr = []\n",
    "for _ in range(n):\n",
    "    arr.append(list(map(int, input().rstrip().split())))\n",
    "k = int(input())"
   ]
  },
  {
   "cell_type": "code",
   "execution_count": 8,
   "metadata": {},
   "outputs": [
    {
     "data": {
      "text/plain": [
       "array([[ 7,  1,  0],\n",
       "       [10,  2,  5],\n",
       "       [ 6,  5,  9],\n",
       "       [ 9,  9,  9],\n",
       "       [ 1, 23, 12]])"
      ]
     },
     "execution_count": 8,
     "metadata": {},
     "output_type": "execute_result"
    }
   ],
   "source": [
    "sort2D(arr,k)"
   ]
  },
  {
   "cell_type": "code",
   "execution_count": 16,
   "metadata": {},
   "outputs": [
    {
     "name": "stdout",
     "output_type": "stream",
     "text": [
      "[7, 1, 0, 10, 2, 5, 6, 5, 9, 9, 9, 9, 1, 23, 12]\n"
     ]
    }
   ],
   "source": [
    "from operator import itemgetter\n",
    "from itertools import chain\n",
    "result = sorted(arr,key=itemgetter(k))\n",
    "result = list(list(chain.from_iterable(result)))\n",
    "print(result)"
   ]
  },
  {
   "cell_type": "code",
   "execution_count": null,
   "metadata": {},
   "outputs": [],
   "source": []
  }
 ],
 "metadata": {
  "kernelspec": {
   "display_name": "Python 3",
   "language": "python",
   "name": "python3"
  },
  "language_info": {
   "codemirror_mode": {
    "name": "ipython",
    "version": 3
   },
   "file_extension": ".py",
   "mimetype": "text/x-python",
   "name": "python",
   "nbconvert_exporter": "python",
   "pygments_lexer": "ipython3",
   "version": "3.7.4"
  }
 },
 "nbformat": 4,
 "nbformat_minor": 2
}
