{
 "cells": [
  {
   "cell_type": "markdown",
   "metadata": {},
   "source": [
    "# ginortS: Sorting String"
   ]
  },
  {
   "cell_type": "code",
   "execution_count": 3,
   "metadata": {},
   "outputs": [],
   "source": [
    "#Sample Input\n",
    "\n",
    "#Sorting1234\n",
    "\n",
    "#Sample Output\n",
    "\n",
    "#ginortS1324"
   ]
  },
  {
   "cell_type": "code",
   "execution_count": null,
   "metadata": {},
   "outputs": [],
   "source": [
    "#1. All sorted lowercase letters are ahead of uppercase letters.\n",
    "#2. All sorted uppercase letters are ahead of digits.\n",
    "#3. All sorted odd digits are ahead of sorted even digits."
   ]
  },
  {
   "cell_type": "code",
   "execution_count": 46,
   "metadata": {},
   "outputs": [],
   "source": [
    "def sortString(string):\n",
    "    low,up,evennum,oddnum='','','',''\n",
    "    for i in string:\n",
    "        if i.islower():\n",
    "            low = low + i\n",
    "        if i.isupper():\n",
    "            up = up + i\n",
    "        if i.isnumeric():\n",
    "            if int(i)%2==0:\n",
    "                evennum = evennum + i\n",
    "            else:\n",
    "                oddnum = oddnum + i\n",
    "    print((''.join(sorted(low)))+(''.join(sorted(up)))+(''.join(sorted(oddnum)))+(''.join(sorted(evennum))))    "
   ]
  },
  {
   "cell_type": "code",
   "execution_count": 47,
   "metadata": {},
   "outputs": [
    {
     "name": "stdout",
     "output_type": "stream",
     "text": [
      "Sorting1234\n",
      "['1', '2', '3', '4', 'S', 'g', 'i', 'n', 'o', 'r', 't']\n",
      "ginortS1324\n"
     ]
    }
   ],
   "source": [
    "sortString(input())"
   ]
  },
  {
   "cell_type": "code",
   "execution_count": null,
   "metadata": {},
   "outputs": [],
   "source": []
  }
 ],
 "metadata": {
  "kernelspec": {
   "display_name": "Python 3",
   "language": "python",
   "name": "python3"
  },
  "language_info": {
   "codemirror_mode": {
    "name": "ipython",
    "version": 3
   },
   "file_extension": ".py",
   "mimetype": "text/x-python",
   "name": "python",
   "nbconvert_exporter": "python",
   "pygments_lexer": "ipython3",
   "version": "3.7.4"
  }
 },
 "nbformat": 4,
 "nbformat_minor": 2
}
