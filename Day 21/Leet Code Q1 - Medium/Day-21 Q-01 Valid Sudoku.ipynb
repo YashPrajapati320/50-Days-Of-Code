{
 "cells": [
  {
   "cell_type": "markdown",
   "metadata": {},
   "source": [
    "# Valid Sudoku"
   ]
  },
  {
   "cell_type": "code",
   "execution_count": 1,
   "metadata": {},
   "outputs": [],
   "source": [
    "#Example 1:\n",
    "\n",
    "#Input:\n",
    "#[\n",
    "#  [\"5\",\"3\",\".\",\".\",\"7\",\".\",\".\",\".\",\".\"],\n",
    "#  [\"6\",\".\",\".\",\"1\",\"9\",\"5\",\".\",\".\",\".\"],\n",
    "#  [\".\",\"9\",\"8\",\".\",\".\",\".\",\".\",\"6\",\".\"],\n",
    "#  [\"8\",\".\",\".\",\".\",\"6\",\".\",\".\",\".\",\"3\"],\n",
    "#  [\"4\",\".\",\".\",\"8\",\".\",\"3\",\".\",\".\",\"1\"],\n",
    "#  [\"7\",\".\",\".\",\".\",\"2\",\".\",\".\",\".\",\"6\"],\n",
    "#  [\".\",\"6\",\".\",\".\",\".\",\".\",\"2\",\"8\",\".\"],\n",
    "#  [\".\",\".\",\".\",\"4\",\"1\",\"9\",\".\",\".\",\"5\"],\n",
    "#  [\".\",\".\",\".\",\".\",\"8\",\".\",\".\",\"7\",\"9\"]\n",
    "#]\n",
    "#Output: true\n",
    "\n",
    "#Example 2:\n",
    "\n",
    "#Input:\n",
    "#[\n",
    "#  [\"8\",\"3\",\".\",\".\",\"7\",\".\",\".\",\".\",\".\"],\n",
    "#  [\"6\",\".\",\".\",\"1\",\"9\",\"5\",\".\",\".\",\".\"],\n",
    "#  [\".\",\"9\",\"8\",\".\",\".\",\".\",\".\",\"6\",\".\"],\n",
    "#  [\"8\",\".\",\".\",\".\",\"6\",\".\",\".\",\".\",\"3\"],\n",
    "#  [\"4\",\".\",\".\",\"8\",\".\",\"3\",\".\",\".\",\"1\"],\n",
    "#  [\"7\",\".\",\".\",\".\",\"2\",\".\",\".\",\".\",\"6\"],\n",
    "#  [\".\",\"6\",\".\",\".\",\".\",\".\",\"2\",\"8\",\".\"],\n",
    "#  [\".\",\".\",\".\",\"4\",\"1\",\"9\",\".\",\".\",\"5\"],\n",
    "#  [\".\",\".\",\".\",\".\",\"8\",\".\",\".\",\"7\",\"9\"]\n",
    "#]\n",
    "#Output: false\n",
    "#Explanation: Same as Example 1, except with the 5 in the top left corner being \n",
    "#    modified to 8. Since there are two 8's in the top left 3x3 sub-box, it is invalid.\n",
    "\n"
   ]
  },
  {
   "cell_type": "code",
   "execution_count": 160,
   "metadata": {},
   "outputs": [],
   "source": [
    "import numpy as np\n",
    "from collections import Counter\n",
    "from itertools import chain\n",
    "\n",
    "def validSudoku(twodarray):\n",
    "    #print(input)\n",
    "    twodarray = np.array(twodarray)\n",
    "    \n",
    "    def blockshaped(arr, nrows, ncols):\n",
    "        \n",
    "    #\"\"\"\n",
    "    #Return an array of shape (n, nrows, ncols) where\n",
    "    #n * nrows * ncols = arr.size\n",
    "\n",
    "    #If arr is a 2D array, the returned array should look like n subblocks with\n",
    "    #each subblock preserving the \"physical\" layout of arr.\n",
    "    #\"\"\"\n",
    "        h, w = arr.shape\n",
    "        assert h % nrows == 0, \"{} rows is not evenly divisble by {}\".format(h, nrows)\n",
    "        assert w % ncols == 0, \"{} cols is not evenly divisble by {}\".format(w, ncols)\n",
    "        return (arr.reshape(h//nrows, nrows, -1, ncols).swapaxes(1,2).reshape(-1, nrows, ncols))\n",
    "    \n",
    "    def countCheck(input): #input is a 2d array\n",
    "        integers = ['1','2','3','4','5','6','7','8','9']\n",
    "        for i in integers:\n",
    "            #print(i)\n",
    "            #print(input.count(i))\n",
    "            if input.count(i) > 1:\n",
    "                print(input.count(i))\n",
    "                return False\n",
    "        return True\n",
    "    \n",
    "    #Condition 1: Each row must contain the digits 1-9 without repetition.\n",
    "    print(\"Condition 1\")\n",
    "    condition_1_array = list(map(list,twodarray))\n",
    "    #print(condition_1_array)\n",
    "    for i in condition_1_array:\n",
    "        #print(i)\n",
    "        #Condition_1 = countCheck(i)\n",
    "        if countCheck(i) == False:\n",
    "            return False\n",
    "    result = True\n",
    "    \n",
    "    #Condition 2: Each column must contain the digits 1-9 without repetition.\n",
    "    print(\"Condition 2\")\n",
    "    condition_2_array = list(map(list, zip(*twodarray))) \n",
    "    #print(condition_2_array)\n",
    "    for i in condition_2_array:\n",
    "        #print(i)\n",
    "        #Condition_2 = countCheck(i)\n",
    "        if countCheck(i) == False:\n",
    "            return False\n",
    "    result = True\n",
    "    \n",
    "    # Condition 3: Each of the 9 3x3 sub-boxes of the grid must contain the digits 1-9 without repetition.\n",
    "    print(\"Condition 3\")\n",
    "    threedarray = blockshaped(twodarray, 3, 3)\n",
    "    #print(threedarray)\n",
    "    for i in threedarray:\n",
    "        i = list(chain.from_iterable(i))\n",
    "        #print(i)\n",
    "        #Condition_3 = countCheck(i)\n",
    "        if countCheck(i) == False:\n",
    "            return False\n",
    "    result = True\n",
    "    if result == True:\n",
    "        return True"
   ]
  },
  {
   "cell_type": "code",
   "execution_count": 161,
   "metadata": {},
   "outputs": [
    {
     "name": "stdout",
     "output_type": "stream",
     "text": [
      "Condition 1\n",
      "Condition 2\n",
      "2\n"
     ]
    },
    {
     "data": {
      "text/plain": [
       "False"
      ]
     },
     "execution_count": 161,
     "metadata": {},
     "output_type": "execute_result"
    }
   ],
   "source": [
    "Example_2 = [[\"8\",\"3\",\".\",\".\",\"7\",\".\",\".\",\".\",\".\"],[\"6\",\".\",\".\",\"1\",\"9\",\"5\",\".\",\".\",\".\"],[\".\",\"9\",\"8\",\".\",\".\",\".\",\".\",\"6\",\".\"],[\"8\",\".\",\".\",\".\",\"6\",\".\",\".\",\".\",\"3\"],[\"4\",\".\",\".\",\"8\",\".\",\"3\",\".\",\".\",\"1\"],[\"7\",\".\",\".\",\".\",\"2\",\".\",\".\",\".\",\"6\"],[\".\",\"6\",\".\",\".\",\".\",\".\",\"2\",\"8\",\".\"],[\".\",\".\",\".\",\"4\",\"1\",\"9\",\".\",\".\",\"5\"],[\".\",\".\",\".\",\".\",\"8\",\".\",\".\",\"7\",\"9\"]]\n",
    "validSudoku(Example_2)"
   ]
  },
  {
   "cell_type": "code",
   "execution_count": 162,
   "metadata": {},
   "outputs": [
    {
     "name": "stdout",
     "output_type": "stream",
     "text": [
      "Condition 1\n",
      "Condition 2\n",
      "Condition 3\n"
     ]
    },
    {
     "data": {
      "text/plain": [
       "True"
      ]
     },
     "execution_count": 162,
     "metadata": {},
     "output_type": "execute_result"
    }
   ],
   "source": [
    "Example_1 = [\n",
    "  [\"5\",\"3\",\".\",\".\",\"7\",\".\",\".\",\".\",\".\"],\n",
    "  [\"6\",\".\",\".\",\"1\",\"9\",\"5\",\".\",\".\",\".\"],\n",
    "  [\".\",\"9\",\"8\",\".\",\".\",\".\",\".\",\"6\",\".\"],\n",
    "  [\"8\",\".\",\".\",\".\",\"6\",\".\",\".\",\".\",\"3\"],\n",
    "  [\"4\",\".\",\".\",\"8\",\".\",\"3\",\".\",\".\",\"1\"],\n",
    "  [\"7\",\".\",\".\",\".\",\"2\",\".\",\".\",\".\",\"6\"],\n",
    "  [\".\",\"6\",\".\",\".\",\".\",\".\",\"2\",\"8\",\".\"],\n",
    "  [\".\",\".\",\".\",\"4\",\"1\",\"9\",\".\",\".\",\"5\"],\n",
    "  [\".\",\".\",\".\",\".\",\"8\",\".\",\".\",\"7\",\"9\"]\n",
    "]\n",
    "validSudoku(Example_1)"
   ]
  },
  {
   "cell_type": "code",
   "execution_count": 163,
   "metadata": {},
   "outputs": [
    {
     "name": "stdout",
     "output_type": "stream",
     "text": [
      "Condition 1\n",
      "Condition 2\n",
      "Condition 3\n",
      "2\n"
     ]
    },
    {
     "data": {
      "text/plain": [
       "False"
      ]
     },
     "execution_count": 163,
     "metadata": {},
     "output_type": "execute_result"
    }
   ],
   "source": [
    "Example_3 = [[\".\",\".\",\".\",\".\",\"5\",\".\",\".\",\"1\",\".\"],[\".\",\"4\",\".\",\"3\",\".\",\".\",\".\",\".\",\".\"],[\".\",\".\",\".\",\".\",\".\",\"3\",\".\",\".\",\"1\"],[\"8\",\".\",\".\",\".\",\".\",\".\",\".\",\"2\",\".\"],[\".\",\".\",\"2\",\".\",\"7\",\".\",\".\",\".\",\".\"],[\".\",\"1\",\"5\",\".\",\".\",\".\",\".\",\".\",\".\"],[\".\",\".\",\".\",\".\",\".\",\"2\",\".\",\".\",\".\"],[\".\",\"2\",\".\",\"9\",\".\",\".\",\".\",\".\",\".\"],[\".\",\".\",\"4\",\".\",\".\",\".\",\".\",\".\",\".\"]]\n",
    "validSudoku(Example_3)"
   ]
  },
  {
   "cell_type": "code",
   "execution_count": null,
   "metadata": {},
   "outputs": [],
   "source": []
  }
 ],
 "metadata": {
  "kernelspec": {
   "display_name": "Python 3",
   "language": "python",
   "name": "python3"
  },
  "language_info": {
   "codemirror_mode": {
    "name": "ipython",
    "version": 3
   },
   "file_extension": ".py",
   "mimetype": "text/x-python",
   "name": "python",
   "nbconvert_exporter": "python",
   "pygments_lexer": "ipython3",
   "version": "3.7.4"
  }
 },
 "nbformat": 4,
 "nbformat_minor": 2
}
