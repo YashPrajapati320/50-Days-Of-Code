{
 "cells": [
  {
   "cell_type": "markdown",
   "metadata": {},
   "source": [
    "# Any and All"
   ]
  },
  {
   "cell_type": "code",
   "execution_count": 1,
   "metadata": {},
   "outputs": [],
   "source": [
    "#Sample Input\n",
    "\n",
    "#5\n",
    "#12 9 61 5 14 \n",
    "\n",
    "#Sample Output\n",
    "\n",
    "#True\n",
    "\n",
    "#Explanation\n",
    "\n",
    "#Condition 1: All the integers in the list are positive.\n",
    "#Condition 2: 5 is a palindromic integer.\n",
    "\n",
    "#Hence, the output is True.\n",
    "\n",
    "#Can you solve this challenge in 3 lines of code or less?\n",
    "#There is no penalty for solutions that are correct but have more than 3 lines."
   ]
  },
  {
   "cell_type": "code",
   "execution_count": 2,
   "metadata": {},
   "outputs": [
    {
     "name": "stdout",
     "output_type": "stream",
     "text": [
      "5\n",
      "12 9 61 5 14\n",
      "True\n"
     ]
    }
   ],
   "source": [
    "n = int(input())\n",
    "\n",
    "arr = input().split(\" \")\n",
    "\n",
    "print(all(int(i)>=0 for i in arr) and any(i == i[::-1]for i in arr))"
   ]
  },
  {
   "cell_type": "code",
   "execution_count": null,
   "metadata": {},
   "outputs": [],
   "source": []
  }
 ],
 "metadata": {
  "kernelspec": {
   "display_name": "Python 3",
   "language": "python",
   "name": "python3"
  },
  "language_info": {
   "codemirror_mode": {
    "name": "ipython",
    "version": 3
   },
   "file_extension": ".py",
   "mimetype": "text/x-python",
   "name": "python",
   "nbconvert_exporter": "python",
   "pygments_lexer": "ipython3",
   "version": "3.7.4"
  }
 },
 "nbformat": 4,
 "nbformat_minor": 2
}
