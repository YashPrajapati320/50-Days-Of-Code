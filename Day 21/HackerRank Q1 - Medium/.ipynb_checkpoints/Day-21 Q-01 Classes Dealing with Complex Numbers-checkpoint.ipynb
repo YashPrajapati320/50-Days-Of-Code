{
 "cells": [
  {
   "cell_type": "markdown",
   "metadata": {},
   "source": [
    "# Classes Dealing with Complex Numbers"
   ]
  },
  {
   "cell_type": "code",
   "execution_count": 2,
   "metadata": {},
   "outputs": [],
   "source": [
    "#Sample Input\n",
    "\n",
    "#2 1\n",
    "#5 6\n",
    "\n",
    "#Sample Output\n",
    "\n",
    "#7.00+7.00i\n",
    "#-3.00-5.00i\n",
    "#4.00+17.00i\n",
    "#0.26-0.11i\n",
    "#2.24+0.00i\n",
    "#7.81+0.00i"
   ]
  },
  {
   "cell_type": "code",
   "execution_count": 3,
   "metadata": {},
   "outputs": [
    {
     "name": "stdout",
     "output_type": "stream",
     "text": [
      "2 1\n",
      "5 6\n",
      "7.00+7.00i\n",
      "-3.00-5.00i\n",
      "4.00+17.00i\n",
      "0.26-0.11i\n",
      "2.24+0.00i\n",
      "7.81+0.00i\n"
     ]
    }
   ],
   "source": [
    "import math\n",
    "\n",
    "class Complex(object):\n",
    "    def __init__(self, real, imaginary):\n",
    "        self.real=real\n",
    "        self.imaginary=imaginary\n",
    "        \n",
    "    def sign(self):\n",
    "        if self.imaginary==abs(self.imaginary):\n",
    "            return '+'\n",
    "        else:\n",
    "            return '-'\n",
    "        \n",
    "    def __add__(self,no):\n",
    "        return Complex(self.real+no.real,self.imaginary+no.imaginary)\n",
    "    def __sub__(self, no):\n",
    "        return Complex(self.real-no.real,self.imaginary-no.imaginary)\n",
    "    def __mul__(self, no):\n",
    "        return Complex(self.real*no.real-self.imaginary*no.imaginary,self.real*no.imaginary+self.imaginary*no.real)\n",
    "    def mod(self):\n",
    "        return Complex(math.sqrt(self.real**2+self.imaginary**2),0)\n",
    "    def __truediv__(self, no):\n",
    "        m=self*Complex(no.real,-(no.imaginary))\n",
    "        return Complex(m.real/pow(no.mod().real,2),m.imaginary/pow(no.mod().real,2))\n",
    "\n",
    "    def __repr__(self):\n",
    "        return '%.2f'%self.real+self.sign()+'%.2fi'%abs(self.imaginary)\n",
    "\n",
    "if __name__ == '__main__':\n",
    "    c = map(float, input().split())\n",
    "    d = map(float, input().split())\n",
    "    x = Complex(*c)\n",
    "    y = Complex(*d)\n",
    "    print(*map(str, [x+y, x-y, x*y, x/y, x.mod(), y.mod()]), sep='\\n')"
   ]
  },
  {
   "cell_type": "code",
   "execution_count": null,
   "metadata": {},
   "outputs": [],
   "source": []
  }
 ],
 "metadata": {
  "kernelspec": {
   "display_name": "Python 3",
   "language": "python",
   "name": "python3"
  },
  "language_info": {
   "codemirror_mode": {
    "name": "ipython",
    "version": 3
   },
   "file_extension": ".py",
   "mimetype": "text/x-python",
   "name": "python",
   "nbconvert_exporter": "python",
   "pygments_lexer": "ipython3",
   "version": "3.7.4"
  }
 },
 "nbformat": 4,
 "nbformat_minor": 2
}
