{
 "cells": [
  {
   "cell_type": "markdown",
   "metadata": {},
   "source": [
    "# Wildcard Matching"
   ]
  },
  {
   "cell_type": "code",
   "execution_count": 1,
   "metadata": {},
   "outputs": [],
   "source": [
    "#Input:\n",
    "#s = \"aa\"\n",
    "#p = \"a\"\n",
    "#Output: false\n",
    "#Explanation: \"a\" does not match the entire string \"aa\"."
   ]
  },
  {
   "cell_type": "code",
   "execution_count": 5,
   "metadata": {},
   "outputs": [],
   "source": [
    "import re\n",
    "def isMatch(s, p):\n",
    "    parts = p.replace('?', '.').split('*')\n",
    "    if len(parts) == 1:\n",
    "        return bool(re.match(parts[0] + '$', s))\n",
    "    if not re.match(parts[0], s):\n",
    "        return False\n",
    "    s = s[len(parts.pop(0)):]\n",
    "    if not re.search(parts[-1] + '$', s):\n",
    "        return False\n",
    "    s = s[:len(s) - len(parts.pop())]\n",
    "    for part in parts:\n",
    "        m = re.search(part, s)\n",
    "        if not m:\n",
    "            return False\n",
    "        s = s[m.end():]\n",
    "    return True"
   ]
  },
  {
   "cell_type": "code",
   "execution_count": 6,
   "metadata": {},
   "outputs": [
    {
     "data": {
      "text/plain": [
       "False"
      ]
     },
     "execution_count": 6,
     "metadata": {},
     "output_type": "execute_result"
    }
   ],
   "source": [
    "isMatch('aa','a')"
   ]
  },
  {
   "cell_type": "code",
   "execution_count": null,
   "metadata": {},
   "outputs": [],
   "source": []
  }
 ],
 "metadata": {
  "kernelspec": {
   "display_name": "Python 3",
   "language": "python",
   "name": "python3"
  },
  "language_info": {
   "codemirror_mode": {
    "name": "ipython",
    "version": 3
   },
   "file_extension": ".py",
   "mimetype": "text/x-python",
   "name": "python",
   "nbconvert_exporter": "python",
   "pygments_lexer": "ipython3",
   "version": "3.7.4"
  }
 },
 "nbformat": 4,
 "nbformat_minor": 2
}
