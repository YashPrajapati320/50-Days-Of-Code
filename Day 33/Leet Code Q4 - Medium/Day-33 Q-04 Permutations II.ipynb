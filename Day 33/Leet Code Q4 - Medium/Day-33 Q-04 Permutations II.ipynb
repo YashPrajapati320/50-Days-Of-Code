{
 "cells": [
  {
   "cell_type": "markdown",
   "metadata": {},
   "source": [
    "# Permutations II"
   ]
  },
  {
   "cell_type": "code",
   "execution_count": 1,
   "metadata": {},
   "outputs": [],
   "source": [
    "#Input: [1,1,2]\n",
    "#Output:\n",
    "#[\n",
    "#  [1,1,2],\n",
    "#  [1,2,1],\n",
    "#  [2,1,1]\n",
    "#]"
   ]
  },
  {
   "cell_type": "code",
   "execution_count": 88,
   "metadata": {},
   "outputs": [],
   "source": [
    "import itertools\n",
    "from itertools import permutations\n",
    "def permuteII(nums):\n",
    "    result = []\n",
    "    array = []\n",
    "    for i in permutations(nums):\n",
    "        result.append(list(i))\n",
    "    print(result)\n",
    "    result = set(tuple(element) for element in result)\n",
    "    return list(list(element) for element in result)"
   ]
  },
  {
   "cell_type": "code",
   "execution_count": 89,
   "metadata": {},
   "outputs": [
    {
     "name": "stdout",
     "output_type": "stream",
     "text": [
      "[[1, 1, 2], [1, 2, 1], [1, 1, 2], [1, 2, 1], [2, 1, 1], [2, 1, 1]]\n"
     ]
    },
    {
     "data": {
      "text/plain": [
       "[[1, 2, 1], [2, 1, 1], [1, 1, 2]]"
      ]
     },
     "execution_count": 89,
     "metadata": {},
     "output_type": "execute_result"
    }
   ],
   "source": [
    "permuteII([1,1,2])"
   ]
  },
  {
   "cell_type": "code",
   "execution_count": 90,
   "metadata": {},
   "outputs": [
    {
     "name": "stdout",
     "output_type": "stream",
     "text": [
      "[[3, 3, 0, 3], [3, 3, 3, 0], [3, 0, 3, 3], [3, 0, 3, 3], [3, 3, 3, 0], [3, 3, 0, 3], [3, 3, 0, 3], [3, 3, 3, 0], [3, 0, 3, 3], [3, 0, 3, 3], [3, 3, 3, 0], [3, 3, 0, 3], [0, 3, 3, 3], [0, 3, 3, 3], [0, 3, 3, 3], [0, 3, 3, 3], [0, 3, 3, 3], [0, 3, 3, 3], [3, 3, 3, 0], [3, 3, 0, 3], [3, 3, 3, 0], [3, 3, 0, 3], [3, 0, 3, 3], [3, 0, 3, 3]]\n"
     ]
    },
    {
     "data": {
      "text/plain": [
       "[[0, 3, 3, 3], [3, 3, 0, 3], [3, 3, 3, 0], [3, 0, 3, 3]]"
      ]
     },
     "execution_count": 90,
     "metadata": {},
     "output_type": "execute_result"
    }
   ],
   "source": [
    "permuteII([3,3,0,3])"
   ]
  },
  {
   "cell_type": "code",
   "execution_count": null,
   "metadata": {},
   "outputs": [],
   "source": []
  }
 ],
 "metadata": {
  "kernelspec": {
   "display_name": "Python 3",
   "language": "python",
   "name": "python3"
  },
  "language_info": {
   "codemirror_mode": {
    "name": "ipython",
    "version": 3
   },
   "file_extension": ".py",
   "mimetype": "text/x-python",
   "name": "python",
   "nbconvert_exporter": "python",
   "pygments_lexer": "ipython3",
   "version": "3.7.4"
  }
 },
 "nbformat": 4,
 "nbformat_minor": 2
}
