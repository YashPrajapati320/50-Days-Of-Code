{
 "cells": [
  {
   "cell_type": "markdown",
   "metadata": {},
   "source": [
    "# ZigZag Conversion"
   ]
  },
  {
   "cell_type": "code",
   "execution_count": 1,
   "metadata": {},
   "outputs": [],
   "source": [
    "#The string \"PAYPALISHIRING\" is written in a zigzag pattern on a given number of rows like this: \n",
    "#   (you may want to display this pattern in a fixed font for better legibility)\n",
    "\n",
    "#P   A   H   N\n",
    "#A P L S I I G\n",
    "#Y   I   R"
   ]
  },
  {
   "cell_type": "code",
   "execution_count": 2,
   "metadata": {},
   "outputs": [],
   "source": [
    "#Example 1:\n",
    "\n",
    "#Input: s = \"PAYPALISHIRING\", numRows = 3\n",
    "#Output: \"PAHNAPLSIIGYIR\"\n",
    "#P   A   H   N\n",
    "#A P L S I I G\n",
    "#Y   I   R\n",
    "\n",
    "#Example 2:\n",
    "\n",
    "#Input: s = \"PAYPALISHIRING\", numRows = 4\n",
    "#Output: \"PINALSIGYAHRPI\"\n",
    "#Explanation:\n",
    "\n",
    "#P     I    N\n",
    "#A   L S  I G\n",
    "#Y A   H R\n",
    "#P     I"
   ]
  },
  {
   "cell_type": "code",
   "execution_count": 7,
   "metadata": {},
   "outputs": [],
   "source": [
    "import numpy as np\n",
    "def convert(string,numRows):\n",
    "    stringMatrix = []\n",
    "    count = numRows\n",
    "    while count:\n",
    "        stringMatrix.append([])\n",
    "        count -= 1\n",
    "    print(stringMatrix)\n",
    "    print(numRows)\n",
    "    stringMatrix = np.column_stack((stringMatrix,np.array(list('PAYPALISHIRING'[:numRows]))))\n",
    "    print(string)\n",
    "    print(stringMatrix)"
   ]
  },
  {
   "cell_type": "code",
   "execution_count": 8,
   "metadata": {},
   "outputs": [
    {
     "name": "stdout",
     "output_type": "stream",
     "text": [
      "[[], [], [], []]\n",
      "4\n",
      "PAYPALISHIRING\n",
      "[['P']\n",
      " ['A']\n",
      " ['Y']\n",
      " ['P']]\n"
     ]
    }
   ],
   "source": [
    "convert('PAYPALISHIRING',4)"
   ]
  },
  {
   "cell_type": "code",
   "execution_count": 63,
   "metadata": {},
   "outputs": [
    {
     "data": {
      "text/plain": [
       "['P', 'A', 'Y', 'P']"
      ]
     },
     "execution_count": 63,
     "metadata": {},
     "output_type": "execute_result"
    }
   ],
   "source": [
    "num = 4\n",
    "list('PAYPALISHIRING'[:num])"
   ]
  },
  {
   "cell_type": "code",
   "execution_count": null,
   "metadata": {},
   "outputs": [],
   "source": []
  }
 ],
 "metadata": {
  "kernelspec": {
   "display_name": "Python 3",
   "language": "python",
   "name": "python3"
  }
 },
 "nbformat": 4,
 "nbformat_minor": 2
}
