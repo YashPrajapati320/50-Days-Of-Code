{
 "cells": [
  {
   "cell_type": "markdown",
   "metadata": {},
   "source": [
    "# Length Of The Longest SubString"
   ]
  },
  {
   "cell_type": "code",
   "execution_count": 1,
   "metadata": {},
   "outputs": [],
   "source": [
    "#Example 1:\n",
    "\n",
    "#Input: \"abcabcbb\"\n",
    "#Output: 3 \n",
    "#Explanation: The answer is \"abc\", with the length of 3. \n",
    "\n",
    "#Example 2:\n",
    "\n",
    "#Input: \"bbbbb\"\n",
    "#Output: 1\n",
    "#Explanation: The answer is \"b\", with the length of 1.\n",
    "\n",
    "#Example 3:\n",
    "\n",
    "#Input: \"pwwkew\"\n",
    "#Output: 3\n",
    "#Explanation: The answer is \"wke\", with the length of 3. \n",
    "#Note that the answer must be a substring, \"pwke\" is a subsequence and not a substring."
   ]
  },
  {
   "cell_type": "code",
   "execution_count": 179,
   "metadata": {},
   "outputs": [],
   "source": [
    "from itertools import combinations\n",
    "def lengthOfLongestSubString(string):\n",
    "    if string.isalpha():\n",
    "        result = [''.join((string)[x:y]) for x, y in combinations(range(len(string) + 1), r = 2)]\n",
    "        print(result)\n",
    "        for i in range(len(result)):\n",
    "            result[i] = \"\".join(set(result[i]))\n",
    "        print(result)\n",
    "        print(list(dict.fromkeys(result)))\n",
    "        array = []\n",
    "        for i in range(0,len(result)):\n",
    "            if result[i] in string:\n",
    "                array.append(len(result[i]))\n",
    "        return max(array)\n",
    "        print(list(dict.fromkeys(res)))\n",
    "    else:\n",
    "        return 0"
   ]
  },
  {
   "cell_type": "code",
   "execution_count": 180,
   "metadata": {},
   "outputs": [
    {
     "name": "stdout",
     "output_type": "stream",
     "text": [
      "['p', 'pw', 'pww', 'pwwk', 'pwwke', 'pwwkew', 'w', 'ww', 'wwk', 'wwke', 'wwkew', 'w', 'wk', 'wke', 'wkew', 'k', 'ke', 'kew', 'e', 'ew', 'w']\n",
      "['p', 'pw', 'pw', 'kpw', 'kpew', 'kpew', 'w', 'w', 'kw', 'kwe', 'kwe', 'w', 'kw', 'kwe', 'kwe', 'k', 'ek', 'ekw', 'e', 'ew', 'w']\n",
      "['p', 'pw', 'kpw', 'kpew', 'w', 'kw', 'kwe', 'k', 'ek', 'ekw', 'e', 'ew']\n"
     ]
    },
    {
     "data": {
      "text/plain": [
       "2"
      ]
     },
     "execution_count": 180,
     "metadata": {},
     "output_type": "execute_result"
    }
   ],
   "source": [
    "lengthOfLongestSubString('pwwkew')"
   ]
  },
  {
   "cell_type": "code",
   "execution_count": 162,
   "metadata": {},
   "outputs": [
    {
     "name": "stdout",
     "output_type": "stream",
     "text": [
      "['a', 'ab', 'abc', 'abca', 'abcab', 'abcabc', 'abcabcb', 'abcabcbb', 'b', 'bc', 'bca', 'bcab', 'bcabc', 'bcabcb', 'bcabcbb', 'c', 'ca', 'cab', 'cabc', 'cabcb', 'cabcbb', 'abcb', 'abcbb', 'bcb', 'bcbb', 'cb', 'cbb', 'bb']\n"
     ]
    },
    {
     "data": {
      "text/plain": [
       "8"
      ]
     },
     "execution_count": 162,
     "metadata": {},
     "output_type": "execute_result"
    }
   ],
   "source": [
    "lengthOfLongestSubString('abcabcbb')"
   ]
  },
  {
   "cell_type": "code",
   "execution_count": 163,
   "metadata": {},
   "outputs": [
    {
     "data": {
      "text/plain": [
       "0"
      ]
     },
     "execution_count": 163,
     "metadata": {},
     "output_type": "execute_result"
    }
   ],
   "source": [
    "lengthOfLongestSubString(' ')"
   ]
  },
  {
   "cell_type": "code",
   "execution_count": 164,
   "metadata": {},
   "outputs": [
    {
     "name": "stdout",
     "output_type": "stream",
     "text": [
      "['d', 'dv', 'dvd', 'dvdf', 'v', 'vd', 'vdf', 'df', 'f']\n"
     ]
    },
    {
     "data": {
      "text/plain": [
       "4"
      ]
     },
     "execution_count": 164,
     "metadata": {},
     "output_type": "execute_result"
    }
   ],
   "source": [
    "lengthOfLongestSubString('dvdf')"
   ]
  },
  {
   "cell_type": "code",
   "execution_count": 187,
   "metadata": {},
   "outputs": [],
   "source": [
    "def lengthOfLongestSubstring(s):\n",
    "        d,m,c,st={},0,0,0\n",
    "        for i, e in enumerate(s): \n",
    "            if e in d and d[e]>=st: \n",
    "                m,c,st=max(m,c),i-d[e],d[e]+1\n",
    "            else:\n",
    "                c+=1\n",
    "            d[e]=i\n",
    "        return max(m,c)"
   ]
  },
  {
   "cell_type": "code",
   "execution_count": 188,
   "metadata": {},
   "outputs": [
    {
     "data": {
      "text/plain": [
       "3"
      ]
     },
     "execution_count": 188,
     "metadata": {},
     "output_type": "execute_result"
    }
   ],
   "source": [
    "lengthOfLongestSubstring('dvdf')"
   ]
  },
  {
   "cell_type": "code",
   "execution_count": null,
   "metadata": {},
   "outputs": [],
   "source": []
  }
 ],
 "metadata": {
  "kernelspec": {
   "display_name": "Python 3",
   "language": "python",
   "name": "python3"
  },
  "language_info": {
   "codemirror_mode": {
    "name": "ipython",
    "version": 3
   },
   "file_extension": ".py",
   "mimetype": "text/x-python",
   "name": "python",
   "nbconvert_exporter": "python",
   "pygments_lexer": "ipython3",
   "version": "3.7.4"
  }
 },
 "nbformat": 4,
 "nbformat_minor": 2
}
