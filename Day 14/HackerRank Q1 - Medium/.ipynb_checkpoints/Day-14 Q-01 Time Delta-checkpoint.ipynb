{
 "cells": [
  {
   "cell_type": "markdown",
   "metadata": {},
   "source": [
    "# Time Delta"
   ]
  },
  {
   "cell_type": "code",
   "execution_count": 1,
   "metadata": {},
   "outputs": [],
   "source": [
    "#Input 0\n",
    "\n",
    "#2\n",
    "#Sun 10 May 2015 13:54:36 -0700\n",
    "#Sun 10 May 2015 13:54:36 -0000\n",
    "#Sat 02 May 2015 19:54:36 +0530\n",
    "#Fri 01 May 2015 13:54:36 -0000\n",
    "\n",
    "#Sample Output 0\n",
    "\n",
    "#25200\n",
    "#88200"
   ]
  },
  {
   "cell_type": "code",
   "execution_count": 20,
   "metadata": {},
   "outputs": [],
   "source": [
    "from datetime import datetime as dt\n",
    "def timeDelta(t1,t2):\n",
    "    fmt = '%a %d %b %Y %H:%M:%S %z'\n",
    "    print(int(abs((dt.strptime(t1,fmt) - dt.strptime(t2,fmt)).total_seconds())))\n",
    "    #The strptime() method creates a datetime object from the given string.\n",
    "    #abs() for absolute value"
   ]
  },
  {
   "cell_type": "code",
   "execution_count": 21,
   "metadata": {},
   "outputs": [
    {
     "name": "stdout",
     "output_type": "stream",
     "text": [
      "25200\n"
     ]
    }
   ],
   "source": [
    "timeDelta('Sun 10 May 2015 13:54:36 -0700','Sun 10 May 2015 13:54:36 -0000')"
   ]
  },
  {
   "cell_type": "code",
   "execution_count": null,
   "metadata": {},
   "outputs": [],
   "source": []
  }
 ],
 "metadata": {
  "kernelspec": {
   "display_name": "Python 3",
   "language": "python",
   "name": "python3"
  },
  "language_info": {
   "codemirror_mode": {
    "name": "ipython",
    "version": 3
   },
   "file_extension": ".py",
   "mimetype": "text/x-python",
   "name": "python",
   "nbconvert_exporter": "python",
   "pygments_lexer": "ipython3",
   "version": "3.7.4"
  }
 },
 "nbformat": 4,
 "nbformat_minor": 2
}
