{
 "cells": [
  {
   "cell_type": "markdown",
   "metadata": {},
   "source": [
    "# Array Mathematics"
   ]
  },
  {
   "cell_type": "code",
   "execution_count": 2,
   "metadata": {},
   "outputs": [],
   "source": [
    "#Input\n",
    "\n",
    "#1 4\n",
    "#1 2 3 4\n",
    "#5 6 7 8\n",
    "\n",
    "#Output\n",
    "\n",
    "#[[ 6  8 10 12]]\n",
    "#[[-4 -4 -4 -4]]\n",
    "#[[ 5 12 21 32]]\n",
    "#[[0 0 0 0]]\n",
    "#[[1 2 3 4]]\n",
    "#[[    1    64  2187 65536]] "
   ]
  },
  {
   "cell_type": "code",
   "execution_count": 14,
   "metadata": {},
   "outputs": [],
   "source": [
    "import numpy as np\n",
    "def add(array1,array2):\n",
    "    return np.add(array1,array2)\n",
    "def sub(array1,array2):\n",
    "    return np.subtract(array1,array2)\n",
    "def multiply(array1,array2):\n",
    "    return np.multiply(array1,array2)\n",
    "def divide(array1,array2):\n",
    "    return np.divide(array1,array2)\n",
    "def mod(array1,array2):\n",
    "    return np.mod(array1,array2)\n",
    "def power(array1,array2):\n",
    "    return np.power(array1,array2)"
   ]
  },
  {
   "cell_type": "code",
   "execution_count": 15,
   "metadata": {},
   "outputs": [
    {
     "name": "stdout",
     "output_type": "stream",
     "text": [
      "1 4\n",
      "1 2 3 4\n",
      "5 6 7 8\n"
     ]
    },
    {
     "data": {
      "text/plain": [
       "array([[    1,    64,  2187, 65536]], dtype=int32)"
      ]
     },
     "execution_count": 15,
     "metadata": {},
     "output_type": "execute_result"
    }
   ],
   "source": [
    "n, m = map(int, input().split())\n",
    "array1, array2 = (np.array([input().split() for _ in range(n)], dtype=int) for _ in range(2))\n",
    "add(array1,array2)\n",
    "sub(array1,array2)\n",
    "multiply(array1,array2)\n",
    "divide(array1,array2)\n",
    "mod(array1,array2)\n",
    "power(array1,array2)"
   ]
  },
  {
   "cell_type": "code",
   "execution_count": null,
   "metadata": {},
   "outputs": [],
   "source": []
  }
 ],
 "metadata": {
  "kernelspec": {
   "display_name": "Python 3",
   "language": "python",
   "name": "python3"
  },
  "language_info": {
   "codemirror_mode": {
    "name": "ipython",
    "version": 3
   },
   "file_extension": ".py",
   "mimetype": "text/x-python",
   "name": "python",
   "nbconvert_exporter": "python",
   "pygments_lexer": "ipython3",
   "version": "3.7.4"
  }
 },
 "nbformat": 4,
 "nbformat_minor": 2
}
