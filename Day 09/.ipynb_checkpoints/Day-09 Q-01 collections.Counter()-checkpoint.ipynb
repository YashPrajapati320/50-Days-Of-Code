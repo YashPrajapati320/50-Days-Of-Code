{
 "cells": [
  {
   "cell_type": "markdown",
   "metadata": {},
   "source": [
    "# collections.Counter()"
   ]
  },
  {
   "cell_type": "raw",
   "metadata": {},
   "source": [
    "Sample Input\n",
    "\n",
    "10\n",
    "2 3 4 5 6 8 7 6 5 18\n",
    "6\n",
    "6 55\n",
    "6 45\n",
    "6 55\n",
    "4 40\n",
    "18 60\n",
    "10 50\n",
    "\n",
    "Sample Output\n",
    "\n",
    "200\n",
    "\n",
    "Explanation\n",
    "\n",
    "Customer 1: Purchased size 6 shoe for $55.\n",
    "Customer 2: Purchased size 6 shoe for $45.\n",
    "Customer 3: Size 6 no longer available, so no purchase.\n",
    "Customer 4: Purchased size 4 shoe for $40.\n",
    "Customer 5: Purchased size 18 shoe for $60.\n",
    "Customer 6: Size 10 not available, so no purchase."
   ]
  },
  {
   "cell_type": "code",
   "execution_count": 2,
   "metadata": {},
   "outputs": [
    {
     "name": "stdout",
     "output_type": "stream",
     "text": [
      "10\n",
      "2 3 4 5 6 7 8 9 18 10\n",
      "3\n",
      "6 55\n",
      "6 45\n",
      "6 55\n",
      "55\n"
     ]
    }
   ],
   "source": [
    "from collections import Counter\n",
    "n = int(input())\n",
    "s = Counter(map(int,input().split()))\n",
    "x = int(input())\n",
    "total = []\n",
    "for i in range(x):\n",
    "    a,b = map(int,input().split())\n",
    "    if s[a] > 0:\n",
    "        total.append(b)\n",
    "        s.subtract(Counter([a]))\n",
    "    else:\n",
    "        pass\n",
    "\n",
    "print (sum(total))"
   ]
  },
  {
   "cell_type": "code",
   "execution_count": null,
   "metadata": {},
   "outputs": [],
   "source": []
  }
 ],
 "metadata": {
  "kernelspec": {
   "display_name": "Python 3",
   "language": "python",
   "name": "python3"
  },
  "language_info": {
   "codemirror_mode": {
    "name": "ipython",
    "version": 3
   },
   "file_extension": ".py",
   "mimetype": "text/x-python",
   "name": "python",
   "nbconvert_exporter": "python",
   "pygments_lexer": "ipython3",
   "version": "3.7.4"
  }
 },
 "nbformat": 4,
 "nbformat_minor": 2
}
