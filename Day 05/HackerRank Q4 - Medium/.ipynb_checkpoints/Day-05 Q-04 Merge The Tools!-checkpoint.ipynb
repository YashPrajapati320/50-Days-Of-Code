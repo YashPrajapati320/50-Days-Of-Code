{
 "cells": [
  {
   "cell_type": "markdown",
   "metadata": {},
   "source": [
    "# Merge The Tools!"
   ]
  },
  {
   "cell_type": "markdown",
   "metadata": {},
   "source": [
    "Input: AABCAAADA\n",
    "3   "
   ]
  },
  {
   "cell_type": "markdown",
   "metadata": {},
   "source": [
    "Output: AB\n",
    "CA\n",
    "AD"
   ]
  },
  {
   "cell_type": "code",
   "execution_count": 86,
   "metadata": {},
   "outputs": [],
   "source": [
    "import numpy as np\n",
    "def merge_the_tools(string, k):\n",
    "    for part in zip(*[iter(string)] * k):\n",
    "        d = dict()\n",
    "        print(''.join([ d.setdefault(c, c) for c in part if c not in d ]))"
   ]
  },
  {
   "cell_type": "code",
   "execution_count": 87,
   "metadata": {},
   "outputs": [
    {
     "name": "stdout",
     "output_type": "stream",
     "text": [
      "AB\n",
      "CA\n",
      "AD\n"
     ]
    }
   ],
   "source": [
    "#setdefault method returns the key value available in the dictionary \n",
    "#and if given key is not available then it will provided default value \n",
    "#and adds it to the dictionary.\n",
    "merge_the_tools('AABCAAADA',3)"
   ]
  },
  {
   "cell_type": "code",
   "execution_count": 70,
   "metadata": {},
   "outputs": [
    {
     "name": "stdout",
     "output_type": "stream",
     "text": [
      "('a', 'b', 'c')\n",
      "('d', 'e', 'f')\n",
      "('g', 'h', 'i')\n"
     ]
    }
   ],
   "source": [
    "#Something new\n",
    "#iterate after 3\n",
    "#zip make an iterator that aggregates elements from each of the iterables.\n",
    "# Example:\n",
    "#>>>x = [1, 2, 3]\n",
    "#>>> y = [4, 5, 6]\n",
    "#>>> zipped = zip(x, y)\n",
    "#>>> list(zipped)\n",
    "#[(1, 4), (2, 5), (3, 6)]\n",
    "\n",
    "\n",
    "for part in zip(*[iter('abcdefghi')]*3):\n",
    "    print(part)"
   ]
  },
  {
   "cell_type": "markdown",
   "metadata": {},
   "source": [
    "Explanation:\n",
    "\n",
    "❶iter(s) returns an iterator for S.\n",
    "\n",
    "❷[iter(s)]*n makes a list of n times the same iterator for s.\n",
    "\n",
    "Example: [[iter(s)]*3] = ([iter(s), iter(s), iter(s)])\n",
    "\n",
    "ADVICE: It's not three copies of the same iterator, it's three times the same iterator object. Really:\n",
    "\n",
    "for part in zip(*[iter(S)] * N):\n",
    "It is equivalent to:\n",
    "\n",
    "it = iter(s)\n",
    "\n",
    "\n",
    "for part in zip(it, it, it):\n",
    "❹*[] unpack a list:\n",
    "\n",
    "Example: print(*[1,2,3,4]) = print(1,2,3,4)\n",
    "\n",
    "❺zip make an iterator that aggregates elements from each of the iterables.\n",
    "\n",
    "Example:\n",
    "\n",
    ">>>x = [1, 2, 3]\n",
    "\n",
    "\n",
    ">>> y = [4, 5, 6]\n",
    "\n",
    "\n",
    ">>> zipped = zip(x, y)\n",
    "\n",
    "\n",
    ">>> list(zipped)\n",
    "\n",
    "\n",
    "[(1, 4), (2, 5), (3, 6)]\n",
    "\n",
    "\n",
    "we have:\n",
    "\n",
    "zip(*[iter(s)]*3)\n",
    "It is equivalent to:\n",
    "\n",
    "itr = iter(s)\n",
    "zip(itr, itr, itr)\n",
    "\n",
    "\n",
    "it extracts an item from all the three iterators from the list in order. Since all the iterators are the same object, it just groups the list in chunks of 3.\n",
    "\n",
    "Example:\n",
    "\n",
    "for part in zip(*[iter('abcdefghi')]*3):\n",
    "\n",
    "\n",
    "\tprint(part)\n",
    "    \n",
    "    \n",
    "    a,b,c,d,e,f,g,h,i  a,b,c,d,e,f,g,h,i  a,b,c,d,e,f,g,h,i\n",
    "    ^                    ^                    ^             \n",
    "          ^                    ^                    ^\n",
    "                ^                    ^                    ^\n",
    "Output:\n",
    "\n",
    "(a,b,c)\n",
    "\n",
    "(d,e,f)\n",
    "\n",
    "(g,h,i)"
   ]
  },
  {
   "cell_type": "code",
   "execution_count": null,
   "metadata": {},
   "outputs": [],
   "source": []
  }
 ],
 "metadata": {
  "kernelspec": {
   "display_name": "Python 3",
   "language": "python",
   "name": "python3"
  },
  "language_info": {
   "codemirror_mode": {
    "name": "ipython",
    "version": 3
   },
   "file_extension": ".py",
   "mimetype": "text/x-python",
   "name": "python",
   "nbconvert_exporter": "python",
   "pygments_lexer": "ipython3",
   "version": "3.7.4"
  }
 },
 "nbformat": 4,
 "nbformat_minor": 2
}
