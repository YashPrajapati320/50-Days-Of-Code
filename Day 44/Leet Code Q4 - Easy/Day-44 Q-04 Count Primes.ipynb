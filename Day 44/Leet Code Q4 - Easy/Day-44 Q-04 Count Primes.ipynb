{
 "cells": [
  {
   "cell_type": "markdown",
   "metadata": {},
   "source": [
    "# Count Primes"
   ]
  },
  {
   "cell_type": "code",
   "execution_count": 1,
   "metadata": {},
   "outputs": [],
   "source": [
    "#Example:\n",
    "\n",
    "#Input: 10\n",
    "#Output: 4\n",
    "#Explanation: There are 4 prime numbers less than 10, they are 2, 3, 5, 7."
   ]
  },
  {
   "cell_type": "code",
   "execution_count": 18,
   "metadata": {},
   "outputs": [],
   "source": [
    "class Solution:\n",
    "    def countPrimes(n):\n",
    "        if n <= 2:return 0\n",
    "        res = [True] * n\n",
    "        res[0] = res[1] = False\n",
    "        for i in range(2, n):\n",
    "            if res[i] == True:\n",
    "                for j in range(2, (n-1)//i+1):\n",
    "                    res[i*j] = False\n",
    "        return sum(res)"
   ]
  },
  {
   "cell_type": "code",
   "execution_count": 19,
   "metadata": {},
   "outputs": [
    {
     "data": {
      "text/plain": [
       "8"
      ]
     },
     "execution_count": 19,
     "metadata": {},
     "output_type": "execute_result"
    }
   ],
   "source": [
    "Solution.countPrimes(20)"
   ]
  }
 ],
 "metadata": {
  "kernelspec": {
   "display_name": "Python 3",
   "language": "python",
   "name": "python3"
  },
  "language_info": {
   "codemirror_mode": {
    "name": "ipython",
    "version": 3
   },
   "file_extension": ".py",
   "mimetype": "text/x-python",
   "name": "python",
   "nbconvert_exporter": "python",
   "pygments_lexer": "ipython3",
   "version": "3.7.4"
  }
 },
 "nbformat": 4,
 "nbformat_minor": 2
}
