{
 "cells": [
  {
   "cell_type": "code",
   "execution_count": 1,
   "metadata": {},
   "outputs": [],
   "source": [
    "# The majority element is the element that appears more than ⌊ n/2 ⌋ times.\n",
    "\n",
    "# Example 1:\n",
    "\n",
    "# Input: [3,2,3]\n",
    "# Output: 3\n",
    "    \n",
    "# Example 2:\n",
    "\n",
    "# Input: [2,2,1,1,1,2,2]\n",
    "# Output: 2"
   ]
  },
  {
   "cell_type": "code",
   "execution_count": 2,
   "metadata": {},
   "outputs": [],
   "source": [
    "from collections import Counter\n",
    "def majorityElement(array):\n",
    "    print(list(Counter(array).keys()))\n",
    "    print(sorted(list(Counter(array).values())))\n",
    "    print(list(Counter(array).keys())[list(Counter(array).values()).index(max(Counter(array).values()))])"
   ]
  },
  {
   "cell_type": "code",
   "execution_count": 3,
   "metadata": {},
   "outputs": [
    {
     "name": "stdout",
     "output_type": "stream",
     "text": [
      "[3, 2]\n",
      "[1, 2]\n",
      "3\n"
     ]
    }
   ],
   "source": [
    "majorityElement([3,2,3])"
   ]
  },
  {
   "cell_type": "code",
   "execution_count": 4,
   "metadata": {},
   "outputs": [],
   "source": [
    "def max(n):\n",
    "    return list(Counter(n).keys())[list(Counter(n).values()).index(max(Counter(n).values()))]"
   ]
  },
  {
   "cell_type": "code",
   "execution_count": null,
   "metadata": {},
   "outputs": [],
   "source": []
  }
 ],
 "metadata": {
  "kernelspec": {
   "display_name": "Python 3",
   "language": "python",
   "name": "python3"
  },
  "language_info": {
   "codemirror_mode": {
    "name": "ipython",
    "version": 3
   },
   "file_extension": ".py",
   "mimetype": "text/x-python",
   "name": "python",
   "nbconvert_exporter": "python",
   "pygments_lexer": "ipython3",
   "version": "3.7.4"
  }
 },
 "nbformat": 4,
 "nbformat_minor": 2
}
