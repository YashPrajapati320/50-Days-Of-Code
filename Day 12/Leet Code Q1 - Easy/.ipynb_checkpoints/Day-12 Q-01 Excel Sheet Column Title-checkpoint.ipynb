{
 "cells": [
  {
   "cell_type": "markdown",
   "metadata": {},
   "source": [
    "# Excel Sheet Column Title"
   ]
  },
  {
   "cell_type": "code",
   "execution_count": 8,
   "metadata": {},
   "outputs": [],
   "source": [
    "#Example 1:\n",
    "\n",
    "#Input: 1\n",
    "#Output: \"A\"\n",
    "\n",
    "#Example 2:\n",
    "\n",
    "#Input: 28\n",
    "#Output: \"AB\"\n",
    "\n",
    "#Example 3:\n",
    "\n",
    "#Input: 701\n",
    "#Output: \"ZY\""
   ]
  },
  {
   "cell_type": "code",
   "execution_count": 9,
   "metadata": {},
   "outputs": [],
   "source": [
    "def convertToTitle(num):\n",
    "    alphabets = 'ABCDEFGHIJKLMNOPQRSTUVWXYZ'\n",
    "    column = ''\n",
    "    while num:\n",
    "        num = num - 1\n",
    "        column = alphabets[num%26] + column\n",
    "        num = num//26\n",
    "    return column"
   ]
  },
  {
   "cell_type": "code",
   "execution_count": 10,
   "metadata": {},
   "outputs": [
    {
     "data": {
      "text/plain": [
       "'BD'"
      ]
     },
     "execution_count": 10,
     "metadata": {},
     "output_type": "execute_result"
    }
   ],
   "source": [
    "convertToTitle(56)"
   ]
  },
  {
   "cell_type": "code",
   "execution_count": 11,
   "metadata": {},
   "outputs": [],
   "source": [
    "# Explanation:\n",
    "\n",
    "# num = 5\n",
    "# column = ''\n",
    "# while num = 5\n",
    "#     num - 1 = 4\n",
    "#     column = alphabets[4%26] + ''\n",
    "#     column = alphabets[4] + ''\n",
    "#     column = 'E' + ''\n",
    "#     column = 'E'\n",
    "#     num = 4//26\n",
    "#     num = 0\n",
    "# return 'E'\n",
    "\n",
    "# num = 56\n",
    "# column = ''\n",
    "# while num = 56\n",
    "#     num - 1 = 55\n",
    "#     column = alphabets[55%26] + ''\n",
    "#     column = alphabets[3] + ''\n",
    "#     column = 'D' + ''\n",
    "#     column = 'D'\n",
    "#     num = 55//26\n",
    "#     num = 2\n",
    "#     column = 'D'\n",
    "# num not yet zero\n",
    "#     num = 2\n",
    "#     column = 'D'\n",
    "#     num - 1 = 1\n",
    "#     column = alphabets[1%26] + column\n",
    "#     column = alphabets[1] + 'D'\n",
    "#     column = 'B' + 'D'\n",
    "#     column = 'BD'\n",
    "#     num = 1//26\n",
    "#     num = 0\n",
    "# return 'BD'"
   ]
  },
  {
   "cell_type": "code",
   "execution_count": null,
   "metadata": {},
   "outputs": [],
   "source": []
  }
 ],
 "metadata": {
  "kernelspec": {
   "display_name": "Python 3",
   "language": "python",
   "name": "python3"
  },
  "language_info": {
   "codemirror_mode": {
    "name": "ipython",
    "version": 3
   },
   "file_extension": ".py",
   "mimetype": "text/x-python",
   "name": "python",
   "nbconvert_exporter": "python",
   "pygments_lexer": "ipython3",
   "version": "3.7.4"
  }
 },
 "nbformat": 4,
 "nbformat_minor": 2
}
