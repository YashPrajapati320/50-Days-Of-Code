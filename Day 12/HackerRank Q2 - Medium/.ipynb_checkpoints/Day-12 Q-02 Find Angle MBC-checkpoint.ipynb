{
 "cells": [
  {
   "cell_type": "markdown",
   "metadata": {},
   "source": [
    "# Find Angle MBC"
   ]
  },
  {
   "cell_type": "code",
   "execution_count": 1,
   "metadata": {},
   "outputs": [],
   "source": [
    "# Input\n",
    "\n",
    "# 10\n",
    "# 10\n",
    "\n",
    "# Output\n",
    "\n",
    "# 45°"
   ]
  },
  {
   "cell_type": "code",
   "execution_count": 48,
   "metadata": {},
   "outputs": [],
   "source": [
    "import math\n",
    "def findAngleMBC(side1_AB,side2_BC):\n",
    "    #side3_AC = math.sqrt(side1_AB**2+side2_BC**2)\n",
    "    #MC = math.sqrt(side1_AB**2+side2_BC**2)/2\n",
    "    #print(side3_AC)\n",
    "    #print(MC)\n",
    "    #print(round(math.sqrt(side1_AB**2+side2_BC**2)/2)/side2_BC)\n",
    "    return print(str(int(round(math.degrees(math.atan2(side1_AB,side2_BC)))))+'°')"
   ]
  },
  {
   "cell_type": "code",
   "execution_count": 49,
   "metadata": {},
   "outputs": [
    {
     "name": "stdout",
     "output_type": "stream",
     "text": [
      "1\n",
      "10\n",
      "6°\n"
     ]
    }
   ],
   "source": [
    "findAngleMBC(int(input()),int(input()))"
   ]
  },
  {
   "cell_type": "code",
   "execution_count": null,
   "metadata": {},
   "outputs": [],
   "source": []
  }
 ],
 "metadata": {
  "kernelspec": {
   "display_name": "Python 3",
   "language": "python",
   "name": "python3"
  },
  "language_info": {
   "codemirror_mode": {
    "name": "ipython",
    "version": 3
   },
   "file_extension": ".py",
   "mimetype": "text/x-python",
   "name": "python",
   "nbconvert_exporter": "python",
   "pygments_lexer": "ipython3",
   "version": "3.7.4"
  }
 },
 "nbformat": 4,
 "nbformat_minor": 2
}
