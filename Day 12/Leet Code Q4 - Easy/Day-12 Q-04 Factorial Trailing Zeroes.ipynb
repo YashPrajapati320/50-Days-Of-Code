{
 "cells": [
  {
   "cell_type": "markdown",
   "metadata": {},
   "source": [
    "# Factorial Trailing Zeroes"
   ]
  },
  {
   "cell_type": "code",
   "execution_count": 1,
   "metadata": {},
   "outputs": [],
   "source": [
    "#Example 1:\n",
    "\n",
    "#Input: 3\n",
    "#Output: 0\n",
    "#Explanation: 3! = 6, no trailing zero.\n",
    "\n",
    "#Example 2:\n",
    "\n",
    "#Input: 5\n",
    "#Output: 1\n",
    "#Explanation: 5! = 120, one trailing zero."
   ]
  },
  {
   "cell_type": "code",
   "execution_count": null,
   "metadata": {},
   "outputs": [],
   "source": [
    "# A trailing zero is always produced by prime factors 2 and 5"
   ]
  },
  {
   "cell_type": "code",
   "execution_count": 8,
   "metadata": {},
   "outputs": [],
   "source": [
    "def trailingZeroes(num):\n",
    "    # Initialize result \n",
    "    count = 0\n",
    "  \n",
    "    # Keep dividing n by \n",
    "    # powers of 5 and \n",
    "    # update Count \n",
    "    i=5\n",
    "    while (num/i>=1): \n",
    "        count += int(num/i) \n",
    "        i *= 5\n",
    "  \n",
    "    return int(count) "
   ]
  },
  {
   "cell_type": "code",
   "execution_count": 9,
   "metadata": {},
   "outputs": [
    {
     "data": {
      "text/plain": [
       "0"
      ]
     },
     "execution_count": 9,
     "metadata": {},
     "output_type": "execute_result"
    }
   ],
   "source": [
    "trailingZeroes(3)"
   ]
  },
  {
   "cell_type": "code",
   "execution_count": null,
   "metadata": {},
   "outputs": [],
   "source": [
    "# Explanation:\n",
    "# num = 5\n",
    "# count = 0\n",
    "# i = 5\n",
    "# while(num/i = 5/5 >= 1):\n",
    "#   count = count + int(num/i) = 0 + int(5/5)\n",
    "#   count = 1\n",
    "#   i = 5*5 = 25  \n",
    "\n",
    "# num = 20\n",
    "# count = 0\n",
    "# i = 5\n",
    "# while(num/i = 20/5 >= 1):\n",
    "#   count = count + int(num/i) = 0 + int(20/5)\n",
    "#   count = 4\n",
    "#   i = i*5 = 5*5 = 25"
   ]
  }
 ],
 "metadata": {
  "kernelspec": {
   "display_name": "Python 3",
   "language": "python",
   "name": "python3"
  },
  "language_info": {
   "codemirror_mode": {
    "name": "ipython",
    "version": 3
   },
   "file_extension": ".py",
   "mimetype": "text/x-python",
   "name": "python",
   "nbconvert_exporter": "python",
   "pygments_lexer": "ipython3",
   "version": "3.7.4"
  }
 },
 "nbformat": 4,
 "nbformat_minor": 2
}
