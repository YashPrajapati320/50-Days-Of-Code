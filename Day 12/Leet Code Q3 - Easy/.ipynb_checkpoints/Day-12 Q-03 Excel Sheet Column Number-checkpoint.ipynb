{
 "cells": [
  {
   "cell_type": "markdown",
   "metadata": {},
   "source": [
    "# Excel Sheet Column Number"
   ]
  },
  {
   "cell_type": "code",
   "execution_count": 1,
   "metadata": {},
   "outputs": [],
   "source": [
    "#Example 1:\n",
    "\n",
    "#Input: \"A\"\n",
    "#Output: 1\n",
    "\n",
    "#Example 2:\n",
    "\n",
    "#Input: \"AB\"\n",
    "#Output: 28\n",
    "\n",
    "#Example 3:\n",
    "\n",
    "#Input: \"ZY\"\n",
    "#Output: 701"
   ]
  },
  {
   "cell_type": "code",
   "execution_count": 5,
   "metadata": {},
   "outputs": [],
   "source": [
    "def titleToNumber(column):\n",
    "    columnNumber = 0\n",
    "    for i in column:\n",
    "        columnNumber = columnNumber * 26 + ord(i) - ord('A') + 1 \n",
    "        # ord() gives ascii value of character\n",
    "    return columnNumber\n",
    "    print(ord(column))"
   ]
  },
  {
   "cell_type": "code",
   "execution_count": 7,
   "metadata": {},
   "outputs": [
    {
     "data": {
      "text/plain": [
       "27"
      ]
     },
     "execution_count": 7,
     "metadata": {},
     "output_type": "execute_result"
    }
   ],
   "source": [
    "titleToNumber('AA')"
   ]
  },
  {
   "cell_type": "code",
   "execution_count": null,
   "metadata": {},
   "outputs": [],
   "source": []
  }
 ],
 "metadata": {
  "kernelspec": {
   "display_name": "Python 3",
   "language": "python",
   "name": "python3"
  },
  "language_info": {
   "codemirror_mode": {
    "name": "ipython",
    "version": 3
   },
   "file_extension": ".py",
   "mimetype": "text/x-python",
   "name": "python",
   "nbconvert_exporter": "python",
   "pygments_lexer": "ipython3",
   "version": "3.7.4"
  }
 },
 "nbformat": 4,
 "nbformat_minor": 2
}
