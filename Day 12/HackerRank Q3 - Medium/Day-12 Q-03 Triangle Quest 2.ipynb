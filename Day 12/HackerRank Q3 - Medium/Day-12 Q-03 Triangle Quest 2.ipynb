{
 "cells": [
  {
   "cell_type": "markdown",
   "metadata": {},
   "source": [
    "# Triangle Quest 2"
   ]
  },
  {
   "cell_type": "code",
   "execution_count": 1,
   "metadata": {},
   "outputs": [],
   "source": [
    "# Input\n",
    "\n",
    "# 5\n",
    "\n",
    "# Output\n",
    "\n",
    "#1\n",
    "#121\n",
    "#12321\n",
    "#1234321\n",
    "#123454321"
   ]
  },
  {
   "cell_type": "code",
   "execution_count": 7,
   "metadata": {},
   "outputs": [],
   "source": [
    "def palindromicTriangle(num):\n",
    "    for i in range(1,int(num)+1):\n",
    "        result = (((10**i - 1)//9)**2)\n",
    "    return result"
   ]
  },
  {
   "cell_type": "code",
   "execution_count": 8,
   "metadata": {},
   "outputs": [
    {
     "data": {
      "text/plain": [
       "123454321"
      ]
     },
     "execution_count": 8,
     "metadata": {},
     "output_type": "execute_result"
    }
   ],
   "source": [
    "palindromicTriangle(5)"
   ]
  },
  {
   "cell_type": "code",
   "execution_count": null,
   "metadata": {},
   "outputs": [],
   "source": [
    "temp = 1\n",
    "temp = 121 # str(temp*10+i+1) + reverse(str(temp)) = 1*10+2+'1' = '12'+'1' = '121'\n",
    "temp = str(121*10+i+1) + reverse(121) = 1213"
   ]
  }
 ],
 "metadata": {
  "kernelspec": {
   "display_name": "Python 3",
   "language": "python",
   "name": "python3"
  }
 },
 "nbformat": 4,
 "nbformat_minor": 2
}
