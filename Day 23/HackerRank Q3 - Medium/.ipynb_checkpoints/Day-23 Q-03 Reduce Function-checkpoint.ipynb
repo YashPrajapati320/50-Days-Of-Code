{
 "cells": [
  {
   "cell_type": "markdown",
   "metadata": {},
   "source": [
    "# Reduce Function"
   ]
  },
  {
   "cell_type": "code",
   "execution_count": 1,
   "metadata": {},
   "outputs": [],
   "source": [
    "#Sample Input 0\n",
    "\n",
    "#3\n",
    "#1 2\n",
    "#3 4\n",
    "#10 6\n",
    "\n",
    "#Sample Output 0\n",
    "\n",
    "#5 8"
   ]
  },
  {
   "cell_type": "code",
   "execution_count": 2,
   "metadata": {},
   "outputs": [],
   "source": [
    "def product(fracs):\n",
    "    t = reduce(lambda x, y : x * y, fracs)# complete this line with a reduce statement\n",
    "    return t.numerator, t.denominator"
   ]
  },
  {
   "cell_type": "code",
   "execution_count": 6,
   "metadata": {},
   "outputs": [
    {
     "name": "stdout",
     "output_type": "stream",
     "text": [
      "3\n",
      "1 2\n",
      "3 4\n",
      "10 6\n"
     ]
    },
    {
     "data": {
      "text/plain": [
       "(5, 8)"
      ]
     },
     "execution_count": 6,
     "metadata": {},
     "output_type": "execute_result"
    }
   ],
   "source": [
    "from fractions import Fraction\n",
    "from functools import reduce\n",
    "fracs = []\n",
    "for _ in range(int(input())):\n",
    "    fracs.append(Fraction(*map(int, input().split())))\n",
    "\n",
    "product(fracs)"
   ]
  },
  {
   "cell_type": "code",
   "execution_count": null,
   "metadata": {},
   "outputs": [],
   "source": []
  }
 ],
 "metadata": {
  "kernelspec": {
   "display_name": "Python 3",
   "language": "python",
   "name": "python3"
  },
  "language_info": {
   "codemirror_mode": {
    "name": "ipython",
    "version": 3
   },
   "file_extension": ".py",
   "mimetype": "text/x-python",
   "name": "python",
   "nbconvert_exporter": "python",
   "pygments_lexer": "ipython3",
   "version": "3.7.4"
  }
 },
 "nbformat": 4,
 "nbformat_minor": 2
}
