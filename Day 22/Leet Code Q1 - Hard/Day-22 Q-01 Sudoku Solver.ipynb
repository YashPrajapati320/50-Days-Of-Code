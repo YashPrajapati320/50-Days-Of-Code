{
 "cells": [
  {
   "cell_type": "markdown",
   "metadata": {},
   "source": [
    "# Sudoku Solver"
   ]
  },
  {
   "cell_type": "code",
   "execution_count": 1,
   "metadata": {},
   "outputs": [],
   "source": [
    "#A sudoku solution must satisfy all of the following rules:\n",
    "\n",
    "#Each of the digits 1-9 must occur exactly once in each row.\n",
    "#Each of the digits 1-9 must occur exactly once in each column.\n",
    "#Each of the the digits 1-9 must occur exactly once in each of the 9 3x3 sub-boxes of the grid.\n",
    "#Empty cells are indicated by the character '.'.\n",
    "\n",
    "\n",
    "#A sudoku puzzle...\n",
    "\n",
    "\n",
    "#...and its solution numbers marked in red."
   ]
  },
  {
   "cell_type": "code",
   "execution_count": 2,
   "metadata": {},
   "outputs": [],
   "source": [
    "#A sudoku solution must satisfy all of the following rules:\n",
    "\n",
    "#Each of the digits 1-9 must occur exactly once in each row.\n",
    "#Each of the digits 1-9 must occur exactly once in each column.\n",
    "#Each of the the digits 1-9 must occur exactly once in each of the 9 3x3 sub-boxes of the grid.\n",
    "#Empty cells are indicated by the character '.'.\n",
    "\n",
    "\n",
    "#A sudoku puzzle...\n",
    "\n",
    "#[\n",
    "#  [\"5\",\"3\",\".\",\".\",\"7\",\".\",\".\",\".\",\".\"],\n",
    "#  [\"6\",\".\",\".\",\"1\",\"9\",\"5\",\".\",\".\",\".\"],\n",
    "#  [\".\",\"9\",\"8\",\".\",\".\",\".\",\".\",\"6\",\".\"],\n",
    "#  [\"8\",\".\",\".\",\".\",\"6\",\".\",\".\",\".\",\"3\"],\n",
    "#  [\"4\",\".\",\".\",\"8\",\".\",\"3\",\".\",\".\",\"1\"],\n",
    "#  [\"7\",\".\",\".\",\".\",\"2\",\".\",\".\",\".\",\"6\"],\n",
    "#  [\".\",\"6\",\".\",\".\",\".\",\".\",\"2\",\"8\",\".\"],\n",
    "#  [\".\",\".\",\".\",\"4\",\"1\",\"9\",\".\",\".\",\"5\"],\n",
    "#  [\".\",\".\",\".\",\".\",\"8\",\".\",\".\",\"7\",\"9\"]\n",
    "#]\n",
    "\n",
    "\n",
    "#...and its solution numbers marked in red."
   ]
  },
  {
   "cell_type": "code",
   "execution_count": 3,
   "metadata": {},
   "outputs": [],
   "source": [
    "import numpy as np\n",
    "from collections import Counter\n",
    "from itertools import chain\n",
    "\n",
    "class Solution:\n",
    "    def answerSudoku(board):    \n",
    "        def blockshaped(arr, nrows, ncols):\n",
    "            arr = np.array(arr)\n",
    "            h, w = arr.shape\n",
    "            assert h % nrows == 0, \"{} rows is not evenly divisble by {}\".format(h, nrows)\n",
    "            assert w % ncols == 0, \"{} cols is not evenly divisble by {}\".format(w, ncols)\n",
    "            threedarray = arr.reshape(h//nrows, nrows, -1, ncols).swapaxes(1,2).reshape(-1, nrows, ncols)\n",
    "            condition_3_array = []\n",
    "            for i in threedarray:\n",
    "                condition_3_array.append(list(chain.from_iterable(i)))\n",
    "            return condition_3_array         \n",
    "\n",
    "        def rowCheck(input,num,flag):\n",
    "            #print('Step ' + str(num))\n",
    "            #print('Row Check')\n",
    "            for i in range(0,len(input)):\n",
    "                for j in range(0,len(input)):\n",
    "                    if len(input[i][j]) != 1:\n",
    "                        integer = ''\n",
    "                        for k in input[i][j]:\n",
    "                            if k not in input[i] :\n",
    "                                integer += k\n",
    "                                input[i][j] = integer\n",
    "            \n",
    "            if flag == True:\n",
    "                return input\n",
    "            #print(input)\n",
    "            columnCheck(input,num,flag) \n",
    "\n",
    "        def columnCheck(input,num,flag):\n",
    "            input = list(map(list, zip(*input)))\n",
    "\n",
    "            #print('Column Check')\n",
    "            for i in range(0,len(input)):\n",
    "                for j in range(0,len(input)):\n",
    "                    if len(input[i][j]) != 1:\n",
    "                        integer = ''\n",
    "                        for k in input[i][j]:\n",
    "                            if k not in input[i]:\n",
    "                                integer += k\n",
    "                                input[i][j] = integer\n",
    "\n",
    "            input = list(map(list, zip(*input)))\n",
    "            \n",
    "            if flag == True:\n",
    "                return input\n",
    "            #print(input)\n",
    "            innerMatrixCheck(input,num,flag)\n",
    "\n",
    "\n",
    "        def innerMatrixCheck(input,num,flag):    \n",
    "\n",
    "            #print('Inner Matrix Check')\n",
    "            temp = blockshaped(input,3,3)\n",
    "            count = 0\n",
    "            for i in range(0,len(input)):\n",
    "                for j in range(0,len(input)):\n",
    "                    if len(input[i][j]) != 1:\n",
    "                        integer = ''\n",
    "                        for k in input[i][j]:\n",
    "                            if k not in temp[(int(i/3)*3+int(j/3))]:\n",
    "                                integer += k\n",
    "                                input[i][j] = integer\n",
    "\n",
    "            #print(input)\n",
    "            flag = True\n",
    "            for i in range(0,len(input)):\n",
    "                for j in range(0,len(input)):\n",
    "                    if len(input[i][j])!=1:\n",
    "                        flag = False\n",
    "                        #print(i,j,flag)\n",
    "                        break\n",
    "                else:\n",
    "                    continue\n",
    "                break\n",
    "            \n",
    "            #print(type(input))\n",
    "            #print(flag)\n",
    "            if flag == True:\n",
    "                #print(type(input))\n",
    "                return print(input)\n",
    "            elif flag == False:          \n",
    "                rowCheck(input,num+1,flag)\n",
    "            \n",
    "        indexes = []\n",
    "        for i in range(0,len(board)):\n",
    "            for j in range(0,len(board)):\n",
    "                if board[i][j] == '.':\n",
    "                    indexes.append([i,j])\n",
    "                    board[i][j] = '123456789'\n",
    "        \n",
    "        return type(rowCheck(board,num=1,flag= False))\n",
    "        #print(type(board))\n",
    "        #return board"
   ]
  },
  {
   "cell_type": "code",
   "execution_count": 4,
   "metadata": {},
   "outputs": [
    {
     "name": "stdout",
     "output_type": "stream",
     "text": [
      "[['5', '3', '4', '6', '7', '8', '9', '1', '2'], ['6', '7', '2', '1', '9', '5', '3', '4', '8'], ['1', '9', '8', '3', '4', '2', '5', '6', '7'], ['8', '5', '9', '7', '6', '1', '4', '2', '3'], ['4', '2', '6', '8', '5', '3', '7', '9', '1'], ['7', '1', '3', '9', '2', '4', '8', '5', '6'], ['9', '6', '1', '5', '3', '7', '2', '8', '4'], ['2', '8', '7', '4', '1', '9', '6', '3', '5'], ['3', '4', '5', '2', '8', '6', '1', '7', '9']]\n"
     ]
    },
    {
     "data": {
      "text/plain": [
       "NoneType"
      ]
     },
     "execution_count": 4,
     "metadata": {},
     "output_type": "execute_result"
    }
   ],
   "source": [
    "input = [\n",
    "  [\"5\",\"3\",\".\",\".\",\"7\",\".\",\".\",\".\",\".\"],\n",
    "  [\"6\",\".\",\".\",\"1\",\"9\",\"5\",\".\",\".\",\".\"],\n",
    "  [\".\",\"9\",\"8\",\".\",\".\",\".\",\".\",\"6\",\".\"],\n",
    "  [\"8\",\".\",\".\",\".\",\"6\",\".\",\".\",\".\",\"3\"],\n",
    "  [\"4\",\".\",\".\",\"8\",\".\",\"3\",\".\",\".\",\"1\"],\n",
    "  [\"7\",\".\",\".\",\".\",\"2\",\".\",\".\",\".\",\"6\"],\n",
    "  [\".\",\"6\",\".\",\".\",\".\",\".\",\"2\",\"8\",\".\"],\n",
    "  [\".\",\".\",\".\",\"4\",\"1\",\"9\",\".\",\".\",\"5\"],\n",
    "  [\".\",\".\",\".\",\".\",\"8\",\".\",\".\",\"7\",\"9\"]\n",
    "]\n",
    "Solution.answerSudoku(input)"
   ]
  },
  {
   "cell_type": "code",
   "execution_count": null,
   "metadata": {},
   "outputs": [],
   "source": []
  }
 ],
 "metadata": {
  "kernelspec": {
   "display_name": "Python 3",
   "language": "python",
   "name": "python3"
  },
  "language_info": {
   "codemirror_mode": {
    "name": "ipython",
    "version": 3
   },
   "file_extension": ".py",
   "mimetype": "text/x-python",
   "name": "python",
   "nbconvert_exporter": "python",
   "pygments_lexer": "ipython3",
   "version": "3.7.4"
  }
 },
 "nbformat": 4,
 "nbformat_minor": 2
}
