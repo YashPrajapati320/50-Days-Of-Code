{
 "cells": [
  {
   "cell_type": "markdown",
   "metadata": {},
   "source": [
    "# Sudoku Solver"
   ]
  },
  {
   "cell_type": "code",
   "execution_count": 2,
   "metadata": {},
   "outputs": [],
   "source": [
    "#A sudoku solution must satisfy all of the following rules:\n",
    "\n",
    "#Each of the digits 1-9 must occur exactly once in each row.\n",
    "#Each of the digits 1-9 must occur exactly once in each column.\n",
    "#Each of the the digits 1-9 must occur exactly once in each of the 9 3x3 sub-boxes of the grid.\n",
    "#Empty cells are indicated by the character '.'.\n",
    "\n",
    "\n",
    "#A sudoku puzzle...\n",
    "\n",
    "\n",
    "#...and its solution numbers marked in red."
   ]
  },
  {
   "cell_type": "code",
   "execution_count": 1,
   "metadata": {},
   "outputs": [],
   "source": [
    "#A sudoku solution must satisfy all of the following rules:\n",
    "\n",
    "#Each of the digits 1-9 must occur exactly once in each row.\n",
    "#Each of the digits 1-9 must occur exactly once in each column.\n",
    "#Each of the the digits 1-9 must occur exactly once in each of the 9 3x3 sub-boxes of the grid.\n",
    "#Empty cells are indicated by the character '.'.\n",
    "\n",
    "\n",
    "#A sudoku puzzle...\n",
    "\n",
    "#[\n",
    "#  [\"5\",\"3\",\".\",\".\",\"7\",\".\",\".\",\".\",\".\"],\n",
    "#  [\"6\",\".\",\".\",\"1\",\"9\",\"5\",\".\",\".\",\".\"],\n",
    "#  [\".\",\"9\",\"8\",\".\",\".\",\".\",\".\",\"6\",\".\"],\n",
    "#  [\"8\",\".\",\".\",\".\",\"6\",\".\",\".\",\".\",\"3\"],\n",
    "#  [\"4\",\".\",\".\",\"8\",\".\",\"3\",\".\",\".\",\"1\"],\n",
    "#  [\"7\",\".\",\".\",\".\",\"2\",\".\",\".\",\".\",\"6\"],\n",
    "#  [\".\",\"6\",\".\",\".\",\".\",\".\",\"2\",\"8\",\".\"],\n",
    "#  [\".\",\".\",\".\",\"4\",\"1\",\"9\",\".\",\".\",\"5\"],\n",
    "#  [\".\",\".\",\".\",\".\",\"8\",\".\",\".\",\"7\",\"9\"]\n",
    "#]\n",
    "\n",
    "\n",
    "#...and its solution numbers marked in red."
   ]
  },
  {
   "cell_type": "code",
   "execution_count": 7,
   "metadata": {},
   "outputs": [],
   "source": [
    "import numpy as np\n",
    "from collections import Counter\n",
    "from itertools import chain\n",
    "\n",
    "class Solution:\n",
    "    def answerSudoku(twodarray):\n",
    "        twodarray = np.array(twodarray)\n",
    "    \n",
    "        def blockshaped(arr, nrows, ncols):\n",
    "            h, w = arr.shape\n",
    "            assert h % nrows == 0, \"{} rows is not evenly divisble by {}\".format(h, nrows)\n",
    "            assert w % ncols == 0, \"{} cols is not evenly divisble by {}\".format(w, ncols)\n",
    "            return (arr.reshape(h//nrows, nrows, -1, ncols).swapaxes(1,2).reshape(-1, nrows, ncols))\n",
    "\n",
    "        def countCheck(input): #input is a 2d array\n",
    "            integers = ['1','2','3','4','5','6','7','8','9']\n",
    "            for i in integers:\n",
    "                if input.count(i) > 1:\n",
    "                    return False\n",
    "            return True\n",
    "    \n",
    "        #Condition 1: Each row must contain the digits 1-9 without repetition.\n",
    "        print('Condition 1')\n",
    "        condition_1_array = list(map(list,twodarray))\n",
    "        for i in condition_1_array:\n",
    "            print(i)\n",
    "\n",
    "        print('Condition 2')\n",
    "        #Condition 2: Each column must contain the digits 1-9 without repetition.\n",
    "        condition_2_array = list(map(list, zip(*twodarray))) \n",
    "        for i in condition_2_array:\n",
    "            print(i)\n",
    "\n",
    "        print('Condition 3')\n",
    "        # Condition 3: Each of the 9 3x3 sub-boxes of the grid must contain the digits 1-9 without repetition.\n",
    "        threedarray = blockshaped(twodarray, 3, 3)\n",
    "        for i in threedarray:\n",
    "            i = list(chain.from_iterable(i))\n",
    "            print(i)\n",
    "            \n",
    "        result "
   ]
  },
  {
   "cell_type": "code",
   "execution_count": 8,
   "metadata": {},
   "outputs": [
    {
     "name": "stdout",
     "output_type": "stream",
     "text": [
      "Condition 1\n",
      "['5', '3', '.', '.', '7', '.', '.', '.', '.']\n",
      "['6', '.', '.', '1', '9', '5', '.', '.', '.']\n",
      "['.', '9', '8', '.', '.', '.', '.', '6', '.']\n",
      "['8', '.', '.', '.', '6', '.', '.', '.', '3']\n",
      "['4', '.', '.', '8', '.', '3', '.', '.', '1']\n",
      "['7', '.', '.', '.', '2', '.', '.', '.', '6']\n",
      "['.', '6', '.', '.', '.', '.', '2', '8', '.']\n",
      "['.', '.', '.', '4', '1', '9', '.', '.', '5']\n",
      "['.', '.', '.', '.', '8', '.', '.', '7', '9']\n",
      "Condition 2\n",
      "['5', '6', '.', '8', '4', '7', '.', '.', '.']\n",
      "['3', '.', '9', '.', '.', '.', '6', '.', '.']\n",
      "['.', '.', '8', '.', '.', '.', '.', '.', '.']\n",
      "['.', '1', '.', '.', '8', '.', '.', '4', '.']\n",
      "['7', '9', '.', '6', '.', '2', '.', '1', '8']\n",
      "['.', '5', '.', '.', '3', '.', '.', '9', '.']\n",
      "['.', '.', '.', '.', '.', '.', '2', '.', '.']\n",
      "['.', '.', '6', '.', '.', '.', '8', '.', '7']\n",
      "['.', '.', '.', '3', '1', '6', '.', '5', '9']\n",
      "Condition 3\n",
      "['5', '3', '.', '6', '.', '.', '.', '9', '8']\n",
      "['.', '7', '.', '1', '9', '5', '.', '.', '.']\n",
      "['.', '.', '.', '.', '.', '.', '.', '6', '.']\n",
      "['8', '.', '.', '4', '.', '.', '7', '.', '.']\n",
      "['.', '6', '.', '8', '.', '3', '.', '2', '.']\n",
      "['.', '.', '3', '.', '.', '1', '.', '.', '6']\n",
      "['.', '6', '.', '.', '.', '.', '.', '.', '.']\n",
      "['.', '.', '.', '4', '1', '9', '.', '8', '.']\n",
      "['2', '8', '.', '.', '.', '5', '.', '7', '9']\n"
     ]
    }
   ],
   "source": [
    "input = [\n",
    "  [\"5\",\"3\",\".\",\".\",\"7\",\".\",\".\",\".\",\".\"],\n",
    "  [\"6\",\".\",\".\",\"1\",\"9\",\"5\",\".\",\".\",\".\"],\n",
    "  [\".\",\"9\",\"8\",\".\",\".\",\".\",\".\",\"6\",\".\"],\n",
    "  [\"8\",\".\",\".\",\".\",\"6\",\".\",\".\",\".\",\"3\"],\n",
    "  [\"4\",\".\",\".\",\"8\",\".\",\"3\",\".\",\".\",\"1\"],\n",
    "  [\"7\",\".\",\".\",\".\",\"2\",\".\",\".\",\".\",\"6\"],\n",
    "  [\".\",\"6\",\".\",\".\",\".\",\".\",\"2\",\"8\",\".\"],\n",
    "  [\".\",\".\",\".\",\"4\",\"1\",\"9\",\".\",\".\",\"5\"],\n",
    "  [\".\",\".\",\".\",\".\",\"8\",\".\",\".\",\"7\",\"9\"]\n",
    "]\n",
    "Solution.answerSudoku(input)"
   ]
  },
  {
   "cell_type": "code",
   "execution_count": 12,
   "metadata": {},
   "outputs": [
    {
     "name": "stdout",
     "output_type": "stream",
     "text": [
      "[2 1 6 6 1 3 6 1 2]\n"
     ]
    }
   ],
   "source": [
    "import numpy as np\n",
    "randnums= np.random.randint(0,10,9)\n",
    "print(randnums)"
   ]
  },
  {
   "cell_type": "code",
   "execution_count": null,
   "metadata": {},
   "outputs": [],
   "source": []
  }
 ],
 "metadata": {
  "kernelspec": {
   "display_name": "Python 3",
   "language": "python",
   "name": "python3"
  },
  "language_info": {
   "codemirror_mode": {
    "name": "ipython",
    "version": 3
   },
   "file_extension": ".py",
   "mimetype": "text/x-python",
   "name": "python",
   "nbconvert_exporter": "python",
   "pygments_lexer": "ipython3",
   "version": "3.7.4"
  }
 },
 "nbformat": 4,
 "nbformat_minor": 2
}
