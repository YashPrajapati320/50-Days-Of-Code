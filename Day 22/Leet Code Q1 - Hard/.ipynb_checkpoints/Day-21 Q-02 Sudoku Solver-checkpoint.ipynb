{
 "cells": [
  {
   "cell_type": "markdown",
   "metadata": {},
   "source": [
    "# Sudoku Solver"
   ]
  },
  {
   "cell_type": "code",
   "execution_count": 2,
   "metadata": {},
   "outputs": [],
   "source": [
    "#A sudoku solution must satisfy all of the following rules:\n",
    "\n",
    "#Each of the digits 1-9 must occur exactly once in each row.\n",
    "#Each of the digits 1-9 must occur exactly once in each column.\n",
    "#Each of the the digits 1-9 must occur exactly once in each of the 9 3x3 sub-boxes of the grid.\n",
    "#Empty cells are indicated by the character '.'.\n",
    "\n",
    "\n",
    "#A sudoku puzzle...\n",
    "\n",
    "\n",
    "#...and its solution numbers marked in red."
   ]
  },
  {
   "cell_type": "code",
   "execution_count": null,
   "metadata": {},
   "outputs": [],
   "source": []
  }
 ],
 "metadata": {
  "kernelspec": {
   "display_name": "Python 3",
   "language": "python",
   "name": "python3"
  },
  "language_info": {
   "codemirror_mode": {
    "name": "ipython",
    "version": 3
   },
   "file_extension": ".py",
   "mimetype": "text/x-python",
   "name": "python",
   "nbconvert_exporter": "python",
   "pygments_lexer": "ipython3",
   "version": "3.7.4"
  }
 },
 "nbformat": 4,
 "nbformat_minor": 2
}
