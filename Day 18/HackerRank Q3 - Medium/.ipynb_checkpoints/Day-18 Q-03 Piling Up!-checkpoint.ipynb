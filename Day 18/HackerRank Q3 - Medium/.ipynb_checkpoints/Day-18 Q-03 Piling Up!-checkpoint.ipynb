{
 "cells": [
  {
   "cell_type": "markdown",
   "metadata": {},
   "source": [
    "# Piling Up!"
   ]
  },
  {
   "cell_type": "code",
   "execution_count": 1,
   "metadata": {},
   "outputs": [],
   "source": [
    "#Input\n",
    "\n",
    "#2\n",
    "#6\n",
    "#4 3 2 1 3 4\n",
    "#3\n",
    "#1 3 2\n",
    "\n",
    "#Output\n",
    "\n",
    "#Yes\n",
    "#No"
   ]
  },
  {
   "cell_type": "code",
   "execution_count": 2,
   "metadata": {},
   "outputs": [
    {
     "name": "stdout",
     "output_type": "stream",
     "text": [
      "2\n",
      "6\n",
      "4 3 2 1 3 4\n",
      "Yes\n",
      "3\n",
      "1 3 2\n",
      "No\n"
     ]
    }
   ],
   "source": [
    "from collections import deque\n",
    "\n",
    "for _ in range(int(input())):  \n",
    "    _, queue =input(), deque(map(int, input().split()))\n",
    "    \n",
    "    for cube in reversed(sorted(queue)):\n",
    "        if queue[-1] == cube: queue.pop()\n",
    "        elif queue[0] == cube: queue.popleft()\n",
    "        else:\n",
    "            print('No')\n",
    "            break\n",
    "    else: print('Yes')"
   ]
  },
  {
   "cell_type": "code",
   "execution_count": null,
   "metadata": {},
   "outputs": [],
   "source": []
  }
 ],
 "metadata": {
  "kernelspec": {
   "display_name": "Python 3",
   "language": "python",
   "name": "python3"
  },
  "language_info": {
   "codemirror_mode": {
    "name": "ipython",
    "version": 3
   },
   "file_extension": ".py",
   "mimetype": "text/x-python",
   "name": "python",
   "nbconvert_exporter": "python",
   "pygments_lexer": "ipython3",
   "version": "3.7.4"
  }
 },
 "nbformat": 4,
 "nbformat_minor": 2
}
