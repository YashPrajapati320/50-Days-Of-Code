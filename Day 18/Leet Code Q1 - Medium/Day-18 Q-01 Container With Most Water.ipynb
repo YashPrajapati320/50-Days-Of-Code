{
 "cells": [
  {
   "cell_type": "markdown",
   "metadata": {},
   "source": [
    "# Container With Most Water"
   ]
  },
  {
   "cell_type": "code",
   "execution_count": 1,
   "metadata": {},
   "outputs": [],
   "source": [
    "#Example:\n",
    "\n",
    "#Input: [1,8,6,2,5,4,8,3,7]\n",
    "#Output: 49"
   ]
  },
  {
   "cell_type": "code",
   "execution_count": 88,
   "metadata": {},
   "outputs": [],
   "source": [
    "class Solution:\n",
    "    def mostWater(input):\n",
    "        #print(input)\n",
    "        array = []\n",
    "        for position_1,number_1 in enumerate(input):\n",
    "            for position_2,number_2 in enumerate(input):\n",
    "                array.append((position_2-position_1)*(min(number_2,number_1)))\n",
    "        return max(array)\n",
    "\n",
    "#BETTER SOLUTION:\n",
    "#class Solution:\n",
    "#    def maxArea(self, height: List[int]) -> int:\n",
    "#        res=0\n",
    "#        start=0\n",
    "#        end=len(height)-1\n",
    "#        while start<end:\n",
    "#            area=(end-start)*min(height[end],height[start])\n",
    "#            res=max(res,area)\n",
    "#            if height[end]>height[start]:\n",
    "#                start+=1\n",
    "#            else:\n",
    "#                end-=1\n",
    "#        return res"
   ]
  },
  {
   "cell_type": "code",
   "execution_count": 90,
   "metadata": {},
   "outputs": [
    {
     "data": {
      "text/plain": [
       "49"
      ]
     },
     "execution_count": 90,
     "metadata": {},
     "output_type": "execute_result"
    }
   ],
   "source": [
    "Solution.mostWater([1,8,6,2,5,4,8,3,7])"
   ]
  },
  {
   "cell_type": "code",
   "execution_count": 33,
   "metadata": {},
   "outputs": [
    {
     "name": "stdout",
     "output_type": "stream",
     "text": [
      "[8, 6]\n",
      "6\n"
     ]
    }
   ],
   "source": [
    "mostWater([8,6])"
   ]
  },
  {
   "cell_type": "code",
   "execution_count": 34,
   "metadata": {},
   "outputs": [
    {
     "data": {
      "text/plain": [
       "8"
      ]
     },
     "execution_count": 34,
     "metadata": {},
     "output_type": "execute_result"
    }
   ],
   "source": [
    "min(8,8)"
   ]
  },
  {
   "cell_type": "code",
   "execution_count": 99,
   "metadata": {},
   "outputs": [
    {
     "name": "stdout",
     "output_type": "stream",
     "text": [
      "49\n"
     ]
    }
   ],
   "source": [
    "result = 0\n",
    "input = [1,8,6,2,5,4,8,3,7]\n",
    "    #for position_1,number_1 in enumerate(input):\n",
    "for i in range(len(input)):\n",
    "    for j in range(i,len(input)):\n",
    "        area = (j-i)*(min(input[j],input[i]))\n",
    "        result = max(result,area)\n",
    "        #for position_2,number_2 in enumerate(input):\n",
    "            #array.append((position_2-position_1)*(min(number_2,number_1)))\n",
    "print(result)"
   ]
  },
  {
   "cell_type": "code",
   "execution_count": null,
   "metadata": {},
   "outputs": [],
   "source": []
  }
 ],
 "metadata": {
  "kernelspec": {
   "display_name": "Python 3",
   "language": "python",
   "name": "python3"
  },
  "language_info": {
   "codemirror_mode": {
    "name": "ipython",
    "version": 3
   },
   "file_extension": ".py",
   "mimetype": "text/x-python",
   "name": "python",
   "nbconvert_exporter": "python",
   "pygments_lexer": "ipython3",
   "version": "3.7.4"
  }
 },
 "nbformat": 4,
 "nbformat_minor": 2
}
