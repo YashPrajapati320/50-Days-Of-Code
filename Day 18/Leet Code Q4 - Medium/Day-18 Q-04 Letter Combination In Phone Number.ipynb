{
 "cells": [
  {
   "cell_type": "markdown",
   "metadata": {},
   "source": [
    "# Letter Combination In Phone Number"
   ]
  },
  {
   "cell_type": "code",
   "execution_count": 1,
   "metadata": {},
   "outputs": [],
   "source": [
    "#Example:\n",
    "\n",
    "#Input: \"23\"\n",
    "#Output: [\"ad\", \"ae\", \"af\", \"bd\", \"be\", \"bf\", \"cd\", \"ce\", \"cf\"]."
   ]
  },
  {
   "cell_type": "code",
   "execution_count": 71,
   "metadata": {},
   "outputs": [],
   "source": [
    "from textwrap import wrap\n",
    "class Solution:\n",
    "    def letterCombinations(digits):\n",
    "        dic= {'2': 'abc', '3': 'def','4': 'ghi','5': 'jkl','6': 'mno','7': 'pqrs','8': 'tuv','9': 'wxyz'}\n",
    "        if len(digits)== 0:\n",
    "            return []\n",
    "        \n",
    "        if digits =='1' or digits =='0':\n",
    "            return -1\n",
    "        \n",
    "        result = ['']\n",
    "        # Get inside digit values i.e digit = 2,3\n",
    "        for digit in digits:\n",
    "            temp = []\n",
    "            # Get inside empty array result i = ''\n",
    "            for i in result:\n",
    "                # Get inside the value of dic[2] i.e abc i.e j = a,b,c\n",
    "                for j in dic[digit]:\n",
    "                    # Here is i is empty and j = a so temp gets one value a i.e temp = [a]\n",
    "                    temp.append(i+j)\n",
    "                    print(temp)\n",
    "                    # So at the end of this loop temp = [a,b,c]\n",
    "            result = temp\n",
    "            # Now result = [a,b,c]\n",
    "        return result"
   ]
  },
  {
   "cell_type": "code",
   "execution_count": 72,
   "metadata": {},
   "outputs": [
    {
     "name": "stdout",
     "output_type": "stream",
     "text": [
      "['a']\n",
      "['a', 'b']\n",
      "['a', 'b', 'c']\n",
      "['ad']\n",
      "['ad', 'ae']\n",
      "['ad', 'ae', 'af']\n",
      "['ad', 'ae', 'af', 'bd']\n",
      "['ad', 'ae', 'af', 'bd', 'be']\n",
      "['ad', 'ae', 'af', 'bd', 'be', 'bf']\n",
      "['ad', 'ae', 'af', 'bd', 'be', 'bf', 'cd']\n",
      "['ad', 'ae', 'af', 'bd', 'be', 'bf', 'cd', 'ce']\n",
      "['ad', 'ae', 'af', 'bd', 'be', 'bf', 'cd', 'ce', 'cf']\n"
     ]
    },
    {
     "data": {
      "text/plain": [
       "['ad', 'ae', 'af', 'bd', 'be', 'bf', 'cd', 'ce', 'cf']"
      ]
     },
     "execution_count": 72,
     "metadata": {},
     "output_type": "execute_result"
    }
   ],
   "source": [
    "Solution.letterCombinations('23')"
   ]
  },
  {
   "cell_type": "code",
   "execution_count": 46,
   "metadata": {},
   "outputs": [
    {
     "name": "stdout",
     "output_type": "stream",
     "text": [
      "('a', 'b')\n",
      "('a', 'c')\n",
      "('a', 'd')\n",
      "('a', 'e')\n",
      "('a', 'f')\n",
      "('b', 'c')\n",
      "('b', 'd')\n",
      "('b', 'e')\n",
      "('b', 'f')\n",
      "('c', 'd')\n",
      "('c', 'e')\n",
      "('c', 'f')\n",
      "('d', 'e')\n",
      "('d', 'f')\n",
      "('e', 'f')\n"
     ]
    }
   ],
   "source": [
    "from itertools import combinations\n",
    "array = []\n",
    "for i in combinations(['a','b','c','d','e','f'],2):\n",
    "    print(i)"
   ]
  },
  {
   "cell_type": "code",
   "execution_count": null,
   "metadata": {},
   "outputs": [],
   "source": []
  }
 ],
 "metadata": {
  "kernelspec": {
   "display_name": "Python 3",
   "language": "python",
   "name": "python3"
  },
  "language_info": {
   "codemirror_mode": {
    "name": "ipython",
    "version": 3
   },
   "file_extension": ".py",
   "mimetype": "text/x-python",
   "name": "python",
   "nbconvert_exporter": "python",
   "pygments_lexer": "ipython3",
   "version": "3.7.4"
  }
 },
 "nbformat": 4,
 "nbformat_minor": 2
}
