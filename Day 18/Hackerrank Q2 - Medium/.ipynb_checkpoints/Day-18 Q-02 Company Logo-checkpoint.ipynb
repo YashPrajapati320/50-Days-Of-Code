{
 "cells": [
  {
   "cell_type": "markdown",
   "metadata": {},
   "source": [
    "# Company Logo"
   ]
  },
  {
   "cell_type": "code",
   "execution_count": 1,
   "metadata": {},
   "outputs": [],
   "source": [
    "#Output Format\n",
    "\n",
    "#Print the three most common characters along with their occurrence count each on a separate line.\n",
    "#Sort output in descending order of occurrence count.\n",
    "#If the occurrence count is the same, sort the characters in alphabetical order.\n",
    "\n",
    "#Input 0\n",
    "\n",
    "#aabbbccde\n",
    "\n",
    "#Output 0\n",
    "\n",
    "#b 3\n",
    "#a 2\n",
    "#c 2"
   ]
  },
  {
   "cell_type": "code",
   "execution_count": 75,
   "metadata": {},
   "outputs": [],
   "source": [
    "from collections import Counter\n",
    "def companyLogo(input):\n",
    "    print(set(input))\n",
    "    chars = Counter(input).items()\n",
    "    print(sorted(chars))\n",
    "    for char, n in sorted(chars, key=lambda c: (-c[1], c[0]))[:3]:\n",
    "        print(char, n) "
   ]
  },
  {
   "cell_type": "code",
   "execution_count": 76,
   "metadata": {},
   "outputs": [
    {
     "name": "stdout",
     "output_type": "stream",
     "text": [
      "{'a', 'b', 'c', 'e', 'd'}\n",
      "[('a', 2), ('b', 3), ('c', 2), ('d', 1), ('e', 1)]\n",
      "b 3\n",
      "a 2\n",
      "c 2\n"
     ]
    }
   ],
   "source": [
    "companyLogo('aabbbccde')"
   ]
  },
  {
   "cell_type": "code",
   "execution_count": null,
   "metadata": {},
   "outputs": [],
   "source": []
  }
 ],
 "metadata": {
  "kernelspec": {
   "display_name": "Python 3",
   "language": "python",
   "name": "python3"
  },
  "language_info": {
   "codemirror_mode": {
    "name": "ipython",
    "version": 3
   },
   "file_extension": ".py",
   "mimetype": "text/x-python",
   "name": "python",
   "nbconvert_exporter": "python",
   "pygments_lexer": "ipython3",
   "version": "3.7.4"
  }
 },
 "nbformat": 4,
 "nbformat_minor": 2
}
