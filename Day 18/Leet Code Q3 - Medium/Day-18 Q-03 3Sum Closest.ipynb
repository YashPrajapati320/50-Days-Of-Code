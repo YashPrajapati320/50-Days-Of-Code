{
 "cells": [
  {
   "cell_type": "markdown",
   "metadata": {},
   "source": [
    "# 3Sum Closest"
   ]
  },
  {
   "cell_type": "code",
   "execution_count": 1,
   "metadata": {},
   "outputs": [],
   "source": [
    "#Example 1:\n",
    "\n",
    "#Input: nums = [-1,2,1,-4], target = 1\n",
    "#Output: 2\n",
    "#Explanation: The sum that is closest to the target is 2. (-1 + 2 + 1 = 2)."
   ]
  },
  {
   "cell_type": "code",
   "execution_count": 13,
   "metadata": {},
   "outputs": [],
   "source": [
    "from itertools import combinations\n",
    "def threeSumClosest(nums,target):\n",
    "    #print(nums)\n",
    "    array = []\n",
    "    for i in combinations(nums,3):\n",
    "        array.append(sum(i))\n",
    "    print(array)\n",
    "    return array[min(range(len(array)), key = lambda i: abs(array[i]-target))]"
   ]
  },
  {
   "cell_type": "code",
   "execution_count": 14,
   "metadata": {},
   "outputs": [
    {
     "name": "stdout",
     "output_type": "stream",
     "text": [
      "[2, -3, -4, -1]\n"
     ]
    },
    {
     "data": {
      "text/plain": [
       "2"
      ]
     },
     "execution_count": 14,
     "metadata": {},
     "output_type": "execute_result"
    }
   ],
   "source": [
    "threeSumClosest([-1,2,1,-4],1)"
   ]
  },
  {
   "cell_type": "code",
   "execution_count": null,
   "metadata": {},
   "outputs": [],
   "source": [
    "#BETTER SOLUTION\n",
    "class Solution:\n",
    "    def threeSumClosest(nums, target: int):\n",
    "        nums.sort()\n",
    "        return Solution.KSumClosest(nums, 3, target)\n",
    "\n",
    "    def KSumClosest(nums, k: int, target: int):\n",
    "        N = len(nums)\n",
    "        if N == k:\n",
    "            return sum(nums[:k])\n",
    "\n",
    "        # target too small\n",
    "        current = sum(nums[:k])\n",
    "        if current >= target:\n",
    "            return current\n",
    "\n",
    "        # target too big\n",
    "        current = sum(nums[-k:])\n",
    "        if current <= target:\n",
    "            return current\n",
    "        \n",
    "        if k == 1:\n",
    "            return min([(x, abs(target - x)) for x in nums], key = lambda x: x[1])[0]\n",
    "\n",
    "        closest = sum(nums[:k])\n",
    "        for i, x in enumerate(nums[:-k+1]):\n",
    "            if i>0 and x == nums[i-1]:\n",
    "                continue\n",
    "            current = KSumClosest(nums[i+1:], k-1, target - x) + x\n",
    "            if abs(target - current) < abs(target - closest):\n",
    "                if current == target:\n",
    "                    return target\n",
    "                else:\n",
    "                    closest = current\n",
    "\n",
    "        return closest"
   ]
  }
 ],
 "metadata": {
  "kernelspec": {
   "display_name": "Python 3",
   "language": "python",
   "name": "python3"
  },
  "language_info": {
   "codemirror_mode": {
    "name": "ipython",
    "version": 3
   },
   "file_extension": ".py",
   "mimetype": "text/x-python",
   "name": "python",
   "nbconvert_exporter": "python",
   "pygments_lexer": "ipython3",
   "version": "3.7.4"
  }
 },
 "nbformat": 4,
 "nbformat_minor": 2
}
