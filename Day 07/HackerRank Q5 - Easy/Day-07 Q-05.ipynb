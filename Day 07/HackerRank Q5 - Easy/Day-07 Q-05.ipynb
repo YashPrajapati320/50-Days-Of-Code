{
 "cells": [
  {
   "cell_type": "markdown",
   "metadata": {},
   "source": [
    "# Hex Color Code"
   ]
  },
  {
   "cell_type": "raw",
   "metadata": {},
   "source": [
    "Sample Input\n",
    "\n",
    "11\n",
    "#BED\n",
    "{\n",
    "    color: #FfFdF8; background-color:#aef;\n",
    "    font-size: 123px;\n",
    "    background: -webkit-linear-gradient(top, #f9f9f9, #fff);\n",
    "}\n",
    "#Cab\n",
    "{\n",
    "    background-color: #ABC;\n",
    "    border: 2px dashed #fff;\n",
    "}   \n",
    "\n",
    "Sample Output\n",
    "\n",
    "#FfFdF8\n",
    "#aef\n",
    "#f9f9f9\n",
    "#fff\n",
    "#ABC\n",
    "#fff\n",
    "\n",
    "Explanation\n",
    "\n",
    "#BED and #Cab satisfy the Hex Color Code criteria, but they are used as selectors and not as color codes in the given CSS.\n",
    "\n",
    "Hence, the valid color codes are:\n",
    "\n",
    "#FfFdF8\n",
    "#aef\n",
    "#f9f9f9\n",
    "#fff\n",
    "#ABC\n",
    "#fff\n",
    "\n",
    "Note: There are no comments ( // or /* */) in CSS Code."
   ]
  },
  {
   "cell_type": "code",
   "execution_count": 13,
   "metadata": {},
   "outputs": [],
   "source": [
    "import re\n",
    "def hexColorCode(line):\n",
    "    matching = re.findall(r\"(#(?:[\\da-f]{3}){1,2})(?!\\w)(?=.*;)\", line, re.IGNORECASE)\n",
    "    for m in matching:\n",
    "        print(m)"
   ]
  },
  {
   "cell_type": "code",
   "execution_count": 14,
   "metadata": {},
   "outputs": [
    {
     "name": "stdout",
     "output_type": "stream",
     "text": [
      "#BED\n",
      "#FfFdF8\n",
      "#aef\n",
      "#f9f9f9\n",
      "#fff\n",
      "#Cab\n",
      "#ABC\n",
      "#fff\n"
     ]
    }
   ],
   "source": [
    "hexColorCode('#BED{color: #FfFdF8; background-color:#aef;font-size: 123px;background: -webkit-linear-gradient(top, #f9f9f9, #fff);}#Cab{background-color: #ABC;border: 2px dashed #fff;}')"
   ]
  },
  {
   "cell_type": "code",
   "execution_count": null,
   "metadata": {},
   "outputs": [],
   "source": []
  }
 ],
 "metadata": {
  "kernelspec": {
   "display_name": "Python 3",
   "language": "python",
   "name": "python3"
  },
  "language_info": {
   "codemirror_mode": {
    "name": "ipython",
    "version": 3
   },
   "file_extension": ".py",
   "mimetype": "text/x-python",
   "name": "python",
   "nbconvert_exporter": "python",
   "pygments_lexer": "ipython3",
   "version": "3.7.4"
  }
 },
 "nbformat": 4,
 "nbformat_minor": 2
}
