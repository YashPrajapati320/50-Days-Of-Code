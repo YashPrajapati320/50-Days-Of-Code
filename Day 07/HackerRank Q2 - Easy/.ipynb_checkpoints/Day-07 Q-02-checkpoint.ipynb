{
 "cells": [
  {
   "cell_type": "markdown",
   "metadata": {},
   "source": [
    "# Nested Lists"
   ]
  },
  {
   "cell_type": "raw",
   "metadata": {},
   "source": [
    "Sample Input 0\n",
    "\n",
    "5\n",
    "Harry\n",
    "37.21\n",
    "Berry\n",
    "37.21\n",
    "Tina\n",
    "37.2\n",
    "Akriti\n",
    "41\n",
    "Harsh\n",
    "39\n",
    "\n",
    "Sample Output 0\n",
    "\n",
    "Berry\n",
    "Harry"
   ]
  },
  {
   "cell_type": "code",
   "execution_count": 75,
   "metadata": {},
   "outputs": [],
   "source": [
    "def nestedList(input):\n",
    "    input = sorted(input)\n",
    "    print(input)\n",
    "    grade = []\n",
    "    for i in range(len(input)):\n",
    "        grade.append(input[i][1])\n",
    "    print(grade)\n",
    "    #Creating a dictionary, using the List items as keys.\n",
    "    #This will automatically remove any duplicates because dictionaries cannot have duplicate keys.\n",
    "    grade = list(dict.fromkeys(grade))\n",
    "    print(sorted(grade))\n",
    "    print(sorted(grade)[1])\n",
    "    print(grade.index(sorted(grade)[1]))\n",
    "    count = 0\n",
    "    while count<len(input):\n",
    "        if input[count][1] == sorted(grade)[1]:\n",
    "            print(input[count][0])\n",
    "        count +=1"
   ]
  },
  {
   "cell_type": "code",
   "execution_count": 76,
   "metadata": {},
   "outputs": [
    {
     "name": "stdout",
     "output_type": "stream",
     "text": [
      "[['Beria', 20], ['Harsh', 20], ['Kakunami', 19], ['Varun', 19], ['Vikas', 21]]\n",
      "[20, 20, 19, 19, 21]\n",
      "[19, 20, 21]\n",
      "20\n",
      "0\n",
      "Beria\n",
      "Harsh\n"
     ]
    }
   ],
   "source": [
    "nestedList([['Harsh', 20], ['Beria', 20], ['Varun', 19], ['Kakunami', 19], ['Vikas', 21]])"
   ]
  },
  {
   "cell_type": "code",
   "execution_count": 77,
   "metadata": {},
   "outputs": [
    {
     "name": "stdout",
     "output_type": "stream",
     "text": [
      "[['Mawer', -50], ['Rachel', -50], ['Shaheen', 50], ['Sheen', -50]]\n",
      "[-50, -50, 50, -50]\n",
      "[-50, 50]\n",
      "50\n",
      "1\n",
      "Shaheen\n"
     ]
    }
   ],
   "source": [
    "nestedList([['Rachel', -50],['Mawer', -50],['Sheen', -50],['Shaheen', 50]])"
   ]
  },
  {
   "cell_type": "code",
   "execution_count": 78,
   "metadata": {},
   "outputs": [
    {
     "name": "stdout",
     "output_type": "stream",
     "text": [
      "[['Dheeraj', 39], ['Pallavi', 36], ['Prashant', 32], ['Shivam', 40]]\n",
      "[39, 36, 32, 40]\n",
      "[32, 36, 39, 40]\n",
      "36\n",
      "1\n",
      "Pallavi\n"
     ]
    }
   ],
   "source": [
    "nestedList([['Prashant', 32],['Pallavi', 36],['Dheeraj', 39],['Shivam', 40]])"
   ]
  },
  {
   "cell_type": "code",
   "execution_count": 48,
   "metadata": {},
   "outputs": [
    {
     "name": "stdout",
     "output_type": "stream",
     "text": [
      "2\n",
      "harry\n",
      "14\n",
      "kat\n",
      "21\n",
      "[['harry', 14.0], ['kat', 21.0]]\n"
     ]
    }
   ],
   "source": [
    "arr = []\n",
    "for _ in range(int(input())):\n",
    "    name = input()\n",
    "    score = float(input())\n",
    "    arr.append([name,score])\n",
    "print(arr)"
   ]
  },
  {
   "cell_type": "code",
   "execution_count": null,
   "metadata": {},
   "outputs": [],
   "source": []
  }
 ],
 "metadata": {
  "kernelspec": {
   "display_name": "Python 3",
   "language": "python",
   "name": "python3"
  },
  "language_info": {
   "codemirror_mode": {
    "name": "ipython",
    "version": 3
   },
   "file_extension": ".py",
   "mimetype": "text/x-python",
   "name": "python",
   "nbconvert_exporter": "python",
   "pygments_lexer": "ipython3",
   "version": "3.7.4"
  }
 },
 "nbformat": 4,
 "nbformat_minor": 2
}
