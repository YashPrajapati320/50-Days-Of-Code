{
 "cells": [
  {
   "cell_type": "markdown",
   "metadata": {},
   "source": [
    "# HTML Parser - Part 1 "
   ]
  },
  {
   "cell_type": "raw",
   "metadata": {},
   "source": [
    "Sample Input\n",
    "\n",
    "2\n",
    "<html><head><title>HTML Parser - I</title></head>\n",
    "<body data-modal-target class='1'><h1>HackerRank</h1><br /></body></html>\n",
    "\n",
    "\n",
    "Sample Output\n",
    "\n",
    "Start : html\n",
    "Start : head\n",
    "Start : title\n",
    "End   : title\n",
    "End   : head\n",
    "Start : body\n",
    "-> data-modal-target > None\n",
    "-> class > 1\n",
    "Start : h1\n",
    "End   : h1\n",
    "Empty : br\n",
    "End   : body\n",
    "End   : html"
   ]
  },
  {
   "cell_type": "code",
   "execution_count": 17,
   "metadata": {},
   "outputs": [],
   "source": [
    "import re\n",
    "def htmlParser(line):\n",
    "    tag_filter = re.compile(r\"(?<=<)(?:.*?)(?=>)\")\n",
    "    attrib_filter = re.compile(r\"([\\w-]+)(?:=[\\\"'](.*?)[\\\"'])?\")\n",
    "\n",
    "    # discard comments\n",
    "    s = re.sub(r\"(?:<!--(.|\\s)*?(?:-->))\",\"\",line)\n",
    "\n",
    "    # extract individual tag information\n",
    "    tags = tag_filter.findall(s)\n",
    "\n",
    "    # iterate over the extracted tag information\n",
    "    for tag in tags:\n",
    "        # tag handling logic\n",
    "        if tag[0] == \"/\":\n",
    "            print(\"End   :\",tag[1:])\n",
    "        else:\n",
    "            attribs = attrib_filter.findall(tag)\n",
    "            if tag[-1] == \"/\":\n",
    "                print(\"Empty :\",attribs[0][0])\n",
    "            else:\n",
    "                print(\"Start :\",attribs[0][0])\n",
    "            \n",
    "            for i in range(1,len(attribs)):\n",
    "                a = attribs[i][0]\n",
    "                if attribs[i][1] == '': \n",
    "                    v = 'None' \n",
    "                else: \n",
    "                    v = attribs[i][1]\n",
    "                print(\"-> {} > {}\".format(a,v))"
   ]
  },
  {
   "cell_type": "code",
   "execution_count": 18,
   "metadata": {},
   "outputs": [
    {
     "name": "stdout",
     "output_type": "stream",
     "text": [
      "Start : html\n",
      "Start : head\n",
      "Start : title\n",
      "End   : title\n",
      "End   : head\n",
      "Start : body\n",
      "-> data-modal-target > None\n",
      "-> class > 1\n",
      "Start : h1\n",
      "End   : h1\n",
      "Empty : br\n",
      "End   : body\n",
      "End   : html\n"
     ]
    }
   ],
   "source": [
    "htmlParser('<html><head><title>HTML Parser - I</title></head><body data-modal-target class=\"1\"><h1>HackerRank</h1><br/></body></html>')"
   ]
  },
  {
   "cell_type": "code",
   "execution_count": null,
   "metadata": {},
   "outputs": [],
   "source": []
  }
 ],
 "metadata": {
  "kernelspec": {
   "display_name": "Python 3",
   "language": "python",
   "name": "python3"
  },
  "language_info": {
   "codemirror_mode": {
    "name": "ipython",
    "version": 3
   },
   "file_extension": ".py",
   "mimetype": "text/x-python",
   "name": "python",
   "nbconvert_exporter": "python",
   "pygments_lexer": "ipython3",
   "version": "3.7.4"
  }
 },
 "nbformat": 4,
 "nbformat_minor": 2
}
