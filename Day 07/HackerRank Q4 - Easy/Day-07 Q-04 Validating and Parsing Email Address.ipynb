{
 "cells": [
  {
   "cell_type": "markdown",
   "metadata": {},
   "source": [
    "# Validating and Parsing Email Address"
   ]
  },
  {
   "cell_type": "raw",
   "metadata": {},
   "source": [
    "Sample Input\n",
    "\n",
    "2  \n",
    "DEXTER <dexter@hotmail.com>\n",
    "VIRUS <virus!@variable.:p>\n",
    "\n",
    "Sample Output\n",
    "\n",
    "DEXTER <dexter@hotmail.com>"
   ]
  },
  {
   "cell_type": "code",
   "execution_count": 9,
   "metadata": {},
   "outputs": [],
   "source": [
    "import re\n",
    "def validateEmail(name,email):\n",
    "    matching = re.match(r'<[A-Za-z](\\w|-|\\.|_)+@[A-Za-z]+\\.[A-Za-z]{1,3}>', email)\n",
    "    # 1. [A-Za-z]: Returns a match for any character alphabetically between a and z, lower case OR upper case\n",
    "    # 2. \\w: Returns a match where the string contains any word characters \n",
    "    #(characters from a to Z, digits from 0-9, and the underscore _ character)\n",
    "    #\n",
    "    #\n",
    "    print(matching)\n",
    "    if matching:\n",
    "        return name,email"
   ]
  },
  {
   "cell_type": "code",
   "execution_count": 11,
   "metadata": {},
   "outputs": [
    {
     "name": "stdout",
     "output_type": "stream",
     "text": [
      "<re.Match object; span=(0, 20), match='<dexter@hotmail.com>'>\n"
     ]
    },
    {
     "data": {
      "text/plain": [
       "('DEXTER', '<dexter@hotmail.com>')"
      ]
     },
     "execution_count": 11,
     "metadata": {},
     "output_type": "execute_result"
    }
   ],
   "source": [
    "validateEmail('DEXTER','<dexter@hotmail.com>')"
   ]
  },
  {
   "cell_type": "code",
   "execution_count": null,
   "metadata": {},
   "outputs": [],
   "source": []
  }
 ],
 "metadata": {
  "kernelspec": {
   "display_name": "Python 3",
   "language": "python",
   "name": "python3"
  },
  "language_info": {
   "codemirror_mode": {
    "name": "ipython",
    "version": 3
   },
   "file_extension": ".py",
   "mimetype": "text/x-python",
   "name": "python",
   "nbconvert_exporter": "python",
   "pygments_lexer": "ipython3",
   "version": "3.7.4"
  }
 },
 "nbformat": 4,
 "nbformat_minor": 2
}
