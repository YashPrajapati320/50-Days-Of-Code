{
 "cells": [
  {
   "cell_type": "markdown",
   "metadata": {},
   "source": [
    "# Substrings with Concatenation of all Words"
   ]
  },
  {
   "cell_type": "code",
   "execution_count": 1,
   "metadata": {},
   "outputs": [],
   "source": [
    "#Example 1:\n",
    "\n",
    "#Input:\n",
    "#  s = \"barfoothefoobarman\",\n",
    "#  words = [\"foo\",\"bar\"]\n",
    "#Output: [0,9]\n",
    "#Explanation: Substrings starting at index 0 and 9 are \"barfoo\" and \"foobar\" respectively.\n",
    "#The output order does not matter, returning [9,0] is fine too.\n",
    "\n",
    "#Example 2:\n",
    "\n",
    "#Input:\n",
    "#  s = \"wordgoodgoodgoodbestword\",\n",
    "#  words = [\"word\",\"good\",\"best\",\"word\"]\n",
    "#Output: []"
   ]
  },
  {
   "cell_type": "code",
   "execution_count": 117,
   "metadata": {},
   "outputs": [],
   "source": [
    "import re\n",
    "import collections\n",
    "from itertools import permutations \n",
    "def findSubstring(string,words):\n",
    "    if not words: return []\n",
    "    LS, M, N, C = len(string), len(words), len(words[0]), collections.Counter(words)\n",
    "    return [i for i in range(LS-M*N+1) if collections.Counter([string[a:a+N] for a in range(i,i+M*N,N)]) == C]"
   ]
  },
  {
   "cell_type": "code",
   "execution_count": 118,
   "metadata": {},
   "outputs": [
    {
     "data": {
      "text/plain": [
       "[0, 9]"
      ]
     },
     "execution_count": 118,
     "metadata": {},
     "output_type": "execute_result"
    }
   ],
   "source": [
    "findSubstring(\"barfoothefoobarman\",[\"foo\",\"bar\"])"
   ]
  },
  {
   "cell_type": "code",
   "execution_count": 119,
   "metadata": {},
   "outputs": [
    {
     "data": {
      "text/plain": [
       "[]"
      ]
     },
     "execution_count": 119,
     "metadata": {},
     "output_type": "execute_result"
    }
   ],
   "source": [
    "findSubstring(\"wordgoodgoodgoodbestword\",[\"word\",\"good\",\"best\",\"word\"])"
   ]
  },
  {
   "cell_type": "code",
   "execution_count": 120,
   "metadata": {},
   "outputs": [
    {
     "data": {
      "text/plain": [
       "[8]"
      ]
     },
     "execution_count": 120,
     "metadata": {},
     "output_type": "execute_result"
    }
   ],
   "source": [
    "findSubstring(\"wordgoodgoodgoodbestword\",[\"word\",\"good\",\"best\",\"good\"])"
   ]
  },
  {
   "cell_type": "code",
   "execution_count": 106,
   "metadata": {},
   "outputs": [
    {
     "data": {
      "text/plain": [
       "[0, 3, 6]"
      ]
     },
     "execution_count": 106,
     "metadata": {},
     "output_type": "execute_result"
    }
   ],
   "source": [
    "findSubstring(\"foobarfoobar\",[\"foo\",\"bar\"])"
   ]
  },
  {
   "cell_type": "code",
   "execution_count": 107,
   "metadata": {},
   "outputs": [
    {
     "data": {
      "text/plain": [
       "[]"
      ]
     },
     "execution_count": 107,
     "metadata": {},
     "output_type": "execute_result"
    }
   ],
   "source": [
    "findSubstring(\"\",[])"
   ]
  },
  {
   "cell_type": "code",
   "execution_count": 108,
   "metadata": {},
   "outputs": [
    {
     "data": {
      "text/plain": [
       "[0, 1]"
      ]
     },
     "execution_count": 108,
     "metadata": {},
     "output_type": "execute_result"
    }
   ],
   "source": [
    "findSubstring(\"aaa\",['a','a'])"
   ]
  },
  {
   "cell_type": "code",
   "execution_count": null,
   "metadata": {},
   "outputs": [],
   "source": [
    "def findSubstring(self, string: str, words: List[str]) -> List[int]:\n",
    "    #print(string)\n",
    "    if not words: return []\n",
    "    array = []\n",
    "    for i in permutations(words):\n",
    "        #print(''.join(i))\n",
    "        res = [j for j in range(len(string)) if string.startswith(''.join(i), j)] \n",
    "        #print(res)\n",
    "        array += res\n",
    "    return list(set(array))"
   ]
  }
 ],
 "metadata": {
  "kernelspec": {
   "display_name": "Python 3",
   "language": "python",
   "name": "python3"
  },
  "language_info": {
   "codemirror_mode": {
    "name": "ipython",
    "version": 3
   },
   "file_extension": ".py",
   "mimetype": "text/x-python",
   "name": "python",
   "nbconvert_exporter": "python",
   "pygments_lexer": "ipython3",
   "version": "3.7.4"
  }
 },
 "nbformat": 4,
 "nbformat_minor": 2
}
