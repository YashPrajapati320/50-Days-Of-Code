{
 "cells": [
  {
   "cell_type": "markdown",
   "metadata": {},
   "source": [
    "# Generate Parentheses"
   ]
  },
  {
   "cell_type": "code",
   "execution_count": 1,
   "metadata": {},
   "outputs": [],
   "source": [
    "#For example, given n = 3, a solution set is:\n",
    "\n",
    "#[\n",
    "#  \"((()))\",\n",
    "#  \"(()())\",\n",
    "#  \"(())()\",\n",
    "#  \"()(())\",\n",
    "#  \"()()()\"\n",
    "#]"
   ]
  },
  {
   "cell_type": "code",
   "execution_count": 63,
   "metadata": {},
   "outputs": [],
   "source": [
    "import collections\n",
    "from itertools import permutations\n",
    "def generateParenthesis(num):\n",
    "    #print(num)\n",
    "    array = list('('*num) + list(')'*num)\n",
    "    #print(array)\n",
    "    result = []\n",
    "    for i in permutations(array):\n",
    "        s = ''.join(i)\n",
    "        if s not in result:\n",
    "            stack=collections.deque()\n",
    "            for value in s:\n",
    "                if not stack:\n",
    "                    stack.append(value)\n",
    "                else:\n",
    "                    if stack[-1]=='(' and value ==')':\n",
    "                        stack.pop()\n",
    "                    else :\n",
    "                        stack.append(value)  \n",
    "            if not stack:\n",
    "                result.append(s)\n",
    "    return result"
   ]
  },
  {
   "cell_type": "code",
   "execution_count": 67,
   "metadata": {},
   "outputs": [
    {
     "data": {
      "text/plain": [
       "['(((())))',\n",
       " '((()()))',\n",
       " '((())())',\n",
       " '((()))()',\n",
       " '(()(()))',\n",
       " '(()()())',\n",
       " '(()())()',\n",
       " '(())(())',\n",
       " '(())()()',\n",
       " '()((()))',\n",
       " '()(()())',\n",
       " '()(())()',\n",
       " '()()(())',\n",
       " '()()()()']"
      ]
     },
     "execution_count": 67,
     "metadata": {},
     "output_type": "execute_result"
    }
   ],
   "source": [
    "generateParenthesis(4)"
   ]
  },
  {
   "cell_type": "code",
   "execution_count": 60,
   "metadata": {},
   "outputs": [
    {
     "data": {
      "text/plain": [
       "14"
      ]
     },
     "execution_count": 60,
     "metadata": {},
     "output_type": "execute_result"
    }
   ],
   "source": [
    "len([\"(((())))\",\"((()()))\",\"((())())\",\"((()))()\",\"(()(()))\",\"(()()())\",\"(()())()\",\"(())(())\",\"(())()()\",\"()((()))\",\"()(()())\",\"()(())()\",\"()()(())\",\"()()()()\"])"
   ]
  },
  {
   "cell_type": "code",
   "execution_count": 33,
   "metadata": {},
   "outputs": [
    {
     "name": "stdout",
     "output_type": "stream",
     "text": [
      "['((()))', '(()())', '(())()', '()(())', '()()()']\n"
     ]
    }
   ],
   "source": [
    "from itertools import permutations\n",
    "array = list('('*3) + list(')'*3)\n",
    "pairs = {'(':')'}\n",
    "stack, result = [],[]\n",
    "for i in permutations(array):\n",
    "    temp = ''.join(i)\n",
    "    if temp not in array2 and temp[0] == '(' and temp[len(temp)-1] == ')':\n",
    "        count = 0\n",
    "        for char in temp:\n",
    "            if char in pairs.keys():\n",
    "                stack.append(char)\n",
    "            elif len(stack) > 0 and pairs.get(stack[-1]) == char:\n",
    "                stack.pop()\n",
    "        if len(stack) == 0:\n",
    "            array2.append(temp)\n",
    "print(array2)"
   ]
  },
  {
   "cell_type": "code",
   "execution_count": 26,
   "metadata": {},
   "outputs": [
    {
     "data": {
      "text/plain": [
       "3"
      ]
     },
     "execution_count": 26,
     "metadata": {},
     "output_type": "execute_result"
    }
   ],
   "source": [
    "abc = '(())()'\n",
    "abc.count('(')"
   ]
  },
  {
   "cell_type": "code",
   "execution_count": null,
   "metadata": {},
   "outputs": [],
   "source": []
  }
 ],
 "metadata": {
  "kernelspec": {
   "display_name": "Python 3",
   "language": "python",
   "name": "python3"
  },
  "language_info": {
   "codemirror_mode": {
    "name": "ipython",
    "version": 3
   },
   "file_extension": ".py",
   "mimetype": "text/x-python",
   "name": "python",
   "nbconvert_exporter": "python",
   "pygments_lexer": "ipython3",
   "version": "3.7.4"
  }
 },
 "nbformat": 4,
 "nbformat_minor": 2
}
