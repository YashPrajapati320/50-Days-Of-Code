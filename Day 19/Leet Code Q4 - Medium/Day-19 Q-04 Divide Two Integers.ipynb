{
 "cells": [
  {
   "cell_type": "markdown",
   "metadata": {},
   "source": [
    "# Divide Two Integers"
   ]
  },
  {
   "cell_type": "code",
   "execution_count": 1,
   "metadata": {},
   "outputs": [],
   "source": [
    "#Example 1:\n",
    "\n",
    "#Input: dividend = 10, divisor = 3\n",
    "#Output: 3\n",
    "#Explanation: 10/3 = truncate(3.33333..) = 3.\n",
    "\n",
    "#Example 2:\n",
    "\n",
    "#Input: dividend = 7, divisor = -3\n",
    "#Output: -2\n",
    "#Explanation: 7/-3 = truncate(-2.33333..) = -2."
   ]
  },
  {
   "cell_type": "code",
   "execution_count": 38,
   "metadata": {},
   "outputs": [],
   "source": [
    "def divide(dividend,divisor):\n",
    "    if int(dividend/divisor)<=2**31-1:\n",
    "        return int(dividend/divisor) \n",
    "    else:\n",
    "        return 2**31-1 "
   ]
  },
  {
   "cell_type": "code",
   "execution_count": 39,
   "metadata": {},
   "outputs": [
    {
     "data": {
      "text/plain": [
       "2147483647"
      ]
     },
     "execution_count": 39,
     "metadata": {},
     "output_type": "execute_result"
    }
   ],
   "source": [
    "divide(-2147483648,-1)"
   ]
  },
  {
   "cell_type": "code",
   "execution_count": null,
   "metadata": {},
   "outputs": [],
   "source": []
  }
 ],
 "metadata": {
  "kernelspec": {
   "display_name": "Python 3",
   "language": "python",
   "name": "python3"
  },
  "language_info": {
   "codemirror_mode": {
    "name": "ipython",
    "version": 3
   },
   "file_extension": ".py",
   "mimetype": "text/x-python",
   "name": "python",
   "nbconvert_exporter": "python",
   "pygments_lexer": "ipython3",
   "version": "3.7.4"
  }
 },
 "nbformat": 4,
 "nbformat_minor": 2
}
