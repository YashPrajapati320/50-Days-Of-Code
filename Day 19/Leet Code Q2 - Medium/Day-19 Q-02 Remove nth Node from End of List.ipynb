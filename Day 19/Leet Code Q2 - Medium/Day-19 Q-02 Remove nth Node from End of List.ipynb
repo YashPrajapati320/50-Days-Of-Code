{
 "cells": [
  {
   "cell_type": "markdown",
   "metadata": {},
   "source": [
    "# Remove nth Node from End of List"
   ]
  },
  {
   "cell_type": "code",
   "execution_count": 1,
   "metadata": {},
   "outputs": [],
   "source": [
    "#Given linked list: 1->2->3->4->5, and n = 2.\n",
    "\n",
    "#After removing the second node from the end, the linked list becomes 1->2->3->5"
   ]
  },
  {
   "cell_type": "code",
   "execution_count": 27,
   "metadata": {},
   "outputs": [
    {
     "name": "stdout",
     "output_type": "stream",
     "text": [
      "Element at index 2 is : 4\n"
     ]
    }
   ],
   "source": [
    "class Node: \n",
    "    # Function to initialise the node object \n",
    "    def __init__(self, data): \n",
    "        self.data = data # Assign data \n",
    "        self.next = None # Initialize next as null \n",
    "\n",
    "\n",
    "# Linked List class contains a Node object \n",
    "class LinkedList: \n",
    "\n",
    "    # Function to initialize head \n",
    "    def __init__(self): \n",
    "        self.head = None\n",
    "\n",
    "\n",
    "    # This function is in LinkedList class. It inserts \n",
    "    # a new node at the beginning of Linked List. \n",
    "    def push(self, new_data): \n",
    "\n",
    "        # 1 & 2: Allocate the Node & \n",
    "        #Put in the data \n",
    "        new_node = Node(new_data) \n",
    "\n",
    "        # 3. Make next of new Node as head \n",
    "        new_node.next = self.head \n",
    "\n",
    "        # 4. Move the head to point to new Node \n",
    "        self.head = new_node \n",
    "        \n",
    "    def getCount(self): \n",
    "        temp = self.head # Initialise temp \n",
    "        count = 0 # Initialise count \n",
    "  \n",
    "        # Loop while end of linked list is not reached \n",
    "        while (temp): \n",
    "            count += 1\n",
    "            temp = temp.next\n",
    "        return count\n",
    "\n",
    "    # Returns data at given index in linked list \n",
    "    def getNth(self, index): \n",
    "        current = self.head # Initialise temp \n",
    "        count = 0 # Index of current node \n",
    "\n",
    "        # Loop while end of linked list is not reached \n",
    "        while (current): \n",
    "            if (count == index): \n",
    "                return current.data \n",
    "            count += 1\n",
    "            current = current.next\n",
    "\n",
    "        # if we get to this line, the caller was asking \n",
    "        # for a non-existent element so we assert fail \n",
    "        assert(false) \n",
    "        return 0; \n",
    "    \n",
    "    def removeNode(self, Removekey):\n",
    "\n",
    "        HeadVal = self.head\n",
    "\n",
    "        if (HeadVal is not None):\n",
    "            if (HeadVal.data == Removekey):\n",
    "                self.head = HeadVal.next\n",
    "                HeadVal = None\n",
    "                return\n",
    "\n",
    "        while (HeadVal is not None):\n",
    "            if HeadVal.data == Removekey:\n",
    "                break\n",
    "            prev = HeadVal\n",
    "            HeadVal = HeadVal.next\n",
    "\n",
    "        if (HeadVal == None):\n",
    "            return\n",
    "\n",
    "        prev.next = HeadVal.next\n",
    "\n",
    "        HeadVal = None\n",
    "    \n",
    "    def LListprint(self):\n",
    "        printval = self.head\n",
    "        while (printval):\n",
    "            print(printval.data),\n",
    "            printval = printval.next\n",
    "\n",
    "# Code execution starts here \n",
    "if __name__=='__main__': \n",
    "\n",
    "    llist = LinkedList() \n",
    "\n",
    "    # Use push() to construct below list \n",
    "    # 1->12->1->4->1 \n",
    "    llist.push(5); \n",
    "    llist.push(4); \n",
    "    llist.push(3); \n",
    "    llist.push(2); \n",
    "    llist.push(1); \n",
    "\n",
    "    n = llist.getCount() - 2 \n",
    "    print (\"Element at index 2 is :\", llist.getNth(n)) \n",
    "    llist.removeNode(llist.getNth(n))"
   ]
  },
  {
   "cell_type": "code",
   "execution_count": 28,
   "metadata": {},
   "outputs": [
    {
     "name": "stdout",
     "output_type": "stream",
     "text": [
      "1\n",
      "2\n",
      "3\n",
      "5\n"
     ]
    }
   ],
   "source": [
    "llist.LListprint()"
   ]
  },
  {
   "cell_type": "code",
   "execution_count": null,
   "metadata": {},
   "outputs": [],
   "source": []
  }
 ],
 "metadata": {
  "kernelspec": {
   "display_name": "Python 3",
   "language": "python",
   "name": "python3"
  },
  "language_info": {
   "codemirror_mode": {
    "name": "ipython",
    "version": 3
   },
   "file_extension": ".py",
   "mimetype": "text/x-python",
   "name": "python",
   "nbconvert_exporter": "python",
   "pygments_lexer": "ipython3",
   "version": "3.7.4"
  }
 },
 "nbformat": 4,
 "nbformat_minor": 2
}
