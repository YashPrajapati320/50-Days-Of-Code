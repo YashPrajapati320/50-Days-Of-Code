{
 "cells": [
  {
   "cell_type": "markdown",
   "metadata": {},
   "source": [
    "# Maximal Rectangle"
   ]
  },
  {
   "cell_type": "code",
   "execution_count": 1,
   "metadata": {},
   "outputs": [],
   "source": [
    "#Example 1:\n",
    "\n",
    "#Input: matrix = [[\"1\",\"0\",\"1\",\"0\",\"0\"],[\"1\",\"0\",\"1\",\"1\",\"1\"],[\"1\",\"1\",\"1\",\"1\",\"1\"],[\"1\",\"0\",\"0\",\"1\",\"0\"]]\n",
    "#Output: 6\n",
    "#Explanation: The maximal rectangle is shown in the above picture.\n",
    "\n",
    "#Example 2:\n",
    "\n",
    "#Input: matrix = []\n",
    "#Output: 0\n",
    "\n",
    "#Example 3:\n",
    "\n",
    "#Input: matrix = [[\"0\"]]\n",
    "#Output: 0\n",
    "\n",
    "#Example 4:\n",
    "\n",
    "#Input: matrix = [[\"1\"]]\n",
    "#Output: 1\n",
    "\n",
    "#Example 5:\n",
    "\n",
    "#Input: matrix = [[\"0\",\"0\"]]\n",
    "#Output: 0"
   ]
  },
  {
   "cell_type": "code",
   "execution_count": 11,
   "metadata": {},
   "outputs": [],
   "source": [
    "class Solution:\n",
    "    def maximalRectangle(matrix):\n",
    "        if not matrix or not matrix[0]:\n",
    "            return 0\n",
    "        n = len(matrix[0])\n",
    "        height = [0] * (n + 1)\n",
    "        ans = 0\n",
    "        for row in matrix:\n",
    "            for i in range(n):\n",
    "                height[i] = height[i] + 1 if row[i] == '1' else 0\n",
    "            stack = [-1]\n",
    "            for i in range(n + 1):\n",
    "                while height[i] < height[stack[-1]]:\n",
    "                    h = height[stack.pop()]\n",
    "                    w = i - 1 - stack[-1]\n",
    "                    ans = max(ans, h * w)\n",
    "                stack.append(i)\n",
    "        return ans"
   ]
  },
  {
   "cell_type": "code",
   "execution_count": 12,
   "metadata": {},
   "outputs": [
    {
     "data": {
      "text/plain": [
       "6"
      ]
     },
     "execution_count": 12,
     "metadata": {},
     "output_type": "execute_result"
    }
   ],
   "source": [
    "Solution.maximalRectangle([[\"1\",\"0\",\"1\",\"0\",\"0\"],[\"1\",\"0\",\"1\",\"1\",\"1\"],[\"1\",\"1\",\"1\",\"1\",\"1\"],[\"1\",\"0\",\"0\",\"1\",\"0\"]])"
   ]
  },
  {
   "cell_type": "code",
   "execution_count": null,
   "metadata": {},
   "outputs": [],
   "source": []
  }
 ],
 "metadata": {
  "kernelspec": {
   "display_name": "Python 3",
   "language": "python",
   "name": "python3"
  },
  "language_info": {
   "codemirror_mode": {
    "name": "ipython",
    "version": 3
   },
   "file_extension": ".py",
   "mimetype": "text/x-python",
   "name": "python",
   "nbconvert_exporter": "python",
   "pygments_lexer": "ipython3",
   "version": "3.7.4"
  }
 },
 "nbformat": 4,
 "nbformat_minor": 2
}
