{
 "cells": [
  {
   "cell_type": "markdown",
   "metadata": {},
   "source": [
    "# Gray Code"
   ]
  },
  {
   "cell_type": "code",
   "execution_count": 1,
   "metadata": {},
   "outputs": [],
   "source": [
    "#Example 1:\n",
    "\n",
    "#Input: 2\n",
    "#Output: [0,1,3,2]\n",
    "#Explanation:\n",
    "#00 - 0\n",
    "#01 - 1\n",
    "#11 - 3\n",
    "#10 - 2\n",
    "\n",
    "#For a given n, a gray code sequence may not be uniquely defined.\n",
    "#For example, [0,2,3,1] is also a valid gray code sequence.\n",
    "\n",
    "#00 - 0\n",
    "#10 - 2\n",
    "#11 - 3\n",
    "#01 - 1\n",
    "\n",
    "#Example 2:\n",
    "\n",
    "#Input: 0\n",
    "#Output: [0]\n",
    "#Explanation: We define the gray code sequence to begin with 0.\n",
    "#             A gray code sequence of n has size = 2n, which for n = 0 the size is 20 = 1.\n",
    "#             Therefore, for n = 0 the gray code sequence is [0]."
   ]
  },
  {
   "cell_type": "code",
   "execution_count": 2,
   "metadata": {},
   "outputs": [],
   "source": [
    "class Solution:\n",
    "    def grayCode(n):\n",
    "        res = [0]\n",
    "        for i in range(1, 2**n):\n",
    "            res.append(res[-1] ^ (i & -i))\n",
    "        return res"
   ]
  },
  {
   "cell_type": "code",
   "execution_count": 3,
   "metadata": {},
   "outputs": [
    {
     "data": {
      "text/plain": [
       "[0, 1, 3, 2]"
      ]
     },
     "execution_count": 3,
     "metadata": {},
     "output_type": "execute_result"
    }
   ],
   "source": [
    "Solution.grayCode(2)"
   ]
  },
  {
   "cell_type": "code",
   "execution_count": null,
   "metadata": {},
   "outputs": [],
   "source": []
  }
 ],
 "metadata": {
  "kernelspec": {
   "display_name": "Python 3",
   "language": "python",
   "name": "python3"
  },
  "language_info": {
   "codemirror_mode": {
    "name": "ipython",
    "version": 3
   },
   "file_extension": ".py",
   "mimetype": "text/x-python",
   "name": "python",
   "nbconvert_exporter": "python",
   "pygments_lexer": "ipython3",
   "version": "3.7.4"
  }
 },
 "nbformat": 4,
 "nbformat_minor": 2
}
