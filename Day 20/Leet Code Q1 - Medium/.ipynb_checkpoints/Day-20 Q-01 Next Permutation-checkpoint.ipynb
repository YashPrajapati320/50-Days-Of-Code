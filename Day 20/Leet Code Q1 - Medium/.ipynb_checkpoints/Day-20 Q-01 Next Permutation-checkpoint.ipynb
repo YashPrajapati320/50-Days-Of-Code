{
 "cells": [
  {
   "cell_type": "markdown",
   "metadata": {},
   "source": [
    "# Next Permutation"
   ]
  },
  {
   "cell_type": "code",
   "execution_count": 1,
   "metadata": {},
   "outputs": [],
   "source": [
    "#Example\n",
    "\n",
    "#1,2,3 → 1,3,2\n",
    "#3,2,1 → 1,2,3\n",
    "#1,1,5 → 1,5,1"
   ]
  },
  {
   "cell_type": "code",
   "execution_count": 135,
   "metadata": {},
   "outputs": [],
   "source": [
    "from itertools import permutations\n",
    "\n",
    "def closest(lst, K):       \n",
    "    return lst[min(range(len(lst)), key = lambda i: abs(lst[i]-K))]\n",
    "\n",
    "def nextPermutation(nums):\n",
    "    if len(nums) <= 1:\n",
    "        return nums\n",
    "    else:\n",
    "        nums_string = int(''.join([str(j) for j in nums]))\n",
    "        array = []\n",
    "        for i in permutations(nums):\n",
    "            array.append(int(''.join([str(j) for j in list(i)])))\n",
    "        array = list(set(array))\n",
    "        array.pop(array.index(nums_string))\n",
    "        print(array)\n",
    "        return list(map(int, str(closest(array, nums_string))))"
   ]
  },
  {
   "cell_type": "code",
   "execution_count": 136,
   "metadata": {},
   "outputs": [
    {
     "name": "stdout",
     "output_type": "stream",
     "text": [
      "[132, 231, 213, 312, 123]\n"
     ]
    },
    {
     "data": {
      "text/plain": [
       "[3, 1, 2]"
      ]
     },
     "execution_count": 136,
     "metadata": {},
     "output_type": "execute_result"
    }
   ],
   "source": [
    "nextPermutation([3,2,1])"
   ]
  },
  {
   "cell_type": "code",
   "execution_count": 137,
   "metadata": {},
   "outputs": [
    {
     "name": "stdout",
     "output_type": "stream",
     "text": [
      "[321, 132, 231, 213, 312]\n"
     ]
    },
    {
     "data": {
      "text/plain": [
       "[1, 3, 2]"
      ]
     },
     "execution_count": 137,
     "metadata": {},
     "output_type": "execute_result"
    }
   ],
   "source": [
    "nextPermutation([1,2,3])"
   ]
  },
  {
   "cell_type": "code",
   "execution_count": 138,
   "metadata": {},
   "outputs": [
    {
     "name": "stdout",
     "output_type": "stream",
     "text": [
      "[511, 151]\n"
     ]
    },
    {
     "data": {
      "text/plain": [
       "[1, 5, 1]"
      ]
     },
     "execution_count": 138,
     "metadata": {},
     "output_type": "execute_result"
    }
   ],
   "source": [
    "nextPermutation([1,1,5])"
   ]
  },
  {
   "cell_type": "code",
   "execution_count": 128,
   "metadata": {},
   "outputs": [
    {
     "name": "stdout",
     "output_type": "stream",
     "text": [
      "[]\n"
     ]
    }
   ],
   "source": [
    "nextPermutation([])"
   ]
  },
  {
   "cell_type": "code",
   "execution_count": 129,
   "metadata": {},
   "outputs": [
    {
     "name": "stdout",
     "output_type": "stream",
     "text": [
      "[21]\n",
      "[2, 1]\n"
     ]
    }
   ],
   "source": [
    "nextPermutation([1,2])"
   ]
  },
  {
   "cell_type": "code",
   "execution_count": 130,
   "metadata": {},
   "outputs": [
    {
     "name": "stdout",
     "output_type": "stream",
     "text": [
      "[1]\n"
     ]
    }
   ],
   "source": [
    "nextPermutation([1])"
   ]
  },
  {
   "cell_type": "code",
   "execution_count": 131,
   "metadata": {},
   "outputs": [
    {
     "data": {
      "text/plain": [
       "[1, 5]"
      ]
     },
     "execution_count": 131,
     "metadata": {},
     "output_type": "execute_result"
    }
   ],
   "source": [
    "a = [1,1,5]\n",
    "a.remove(1)\n",
    "a"
   ]
  },
  {
   "cell_type": "code",
   "execution_count": 141,
   "metadata": {},
   "outputs": [],
   "source": [
    "#Better Solution\n",
    "def nextpermut(nums):\n",
    "    def swap(a,b):\n",
    "        nums[a],nums[b] = nums[b],nums[a]\n",
    "        return\n",
    "    def reverse(i):\n",
    "        nums[i:] = nums[i:][::-1]\n",
    "            \n",
    "    if len(nums) <= 1:\n",
    "        return nums\n",
    "    j = len(nums)-1\n",
    "    while(j>=0 and nums[j-1] >= nums[j]):\n",
    "        j-=1\n",
    "    j-=1\n",
    "    # Find the end of the non decreasing part of the array\n",
    "    while(j>=0):\n",
    "        i = j+1\n",
    "        while(i<len(nums) and nums[j]<nums[i]):\n",
    "            i+=1\n",
    "        swap(i-1,j)\n",
    "        #Swap with next greatest element on the right side\n",
    "        break\n",
    "    reverse(j+1)\n",
    "    # Reverse the non increasing part\n",
    "    return nums"
   ]
  },
  {
   "cell_type": "code",
   "execution_count": 142,
   "metadata": {},
   "outputs": [
    {
     "data": {
      "text/plain": [
       "[1, 5, 1]"
      ]
     },
     "execution_count": 142,
     "metadata": {},
     "output_type": "execute_result"
    }
   ],
   "source": [
    "nextpermut([1,1,5])"
   ]
  },
  {
   "cell_type": "code",
   "execution_count": null,
   "metadata": {},
   "outputs": [],
   "source": [
    "for idx in range(len(nums)-1,0,-1):\n",
    "    if nums[idx] > nums[idx-1]:\n",
    "        target_idx = idx + nums[idx:].index(min(filter(lambda x : x > nums[idx-1], nums[idx:])))\n",
    "        nums[target_idx], nums[idx-1] = nums[idx-1], nums[target_idx]\n",
    "        nums[idx:] = sorted(nums[idx:])\n",
    "    return\n",
    "nums.reverse()"
   ]
  }
 ],
 "metadata": {
  "kernelspec": {
   "display_name": "Python 3",
   "language": "python",
   "name": "python3"
  },
  "language_info": {
   "codemirror_mode": {
    "name": "ipython",
    "version": 3
   },
   "file_extension": ".py",
   "mimetype": "text/x-python",
   "name": "python",
   "nbconvert_exporter": "python",
   "pygments_lexer": "ipython3",
   "version": "3.7.4"
  }
 },
 "nbformat": 4,
 "nbformat_minor": 2
}
