{
 "cells": [
  {
   "cell_type": "markdown",
   "metadata": {},
   "source": [
    "# Longest Valid Parenthesis"
   ]
  },
  {
   "cell_type": "code",
   "execution_count": 1,
   "metadata": {},
   "outputs": [],
   "source": [
    "#Example 1:\n",
    "\n",
    "#Input: \"(()\"\n",
    "#Output: 2\n",
    "#Explanation: The longest valid parentheses substring is \"()\"\n",
    "\n",
    "#Example 2:\n",
    "\n",
    "#Input: \")()())\"\n",
    "#Output: 4\n",
    "#Explanation: The longest valid parentheses substring is \"()()\""
   ]
  },
  {
   "cell_type": "code",
   "execution_count": 92,
   "metadata": {},
   "outputs": [],
   "source": [
    "import collections\n",
    "def longestValidParenthesis(s):\n",
    "    if not s:\n",
    "        return 0\n",
    "    # l holds the places in the string where parenthesis form a valid sequence.\n",
    "    # 0 means invalid and 1 means valid sequence.\n",
    "    l = ['0'] * len(s)\n",
    "    stack = []\n",
    "    for i, c in enumerate(s):\n",
    "        if c == '(':\n",
    "            # append index of \"(\" into the stack\n",
    "            stack.append(i)\n",
    "        else:\n",
    "            # if latest stack element is positive, it means it was a \"(\" parenthesis\n",
    "            # pop it and substitute values in \"l\" for the given indexes to valid values (\"1\")\n",
    "            if stack and stack[-1] >= 0:\n",
    "                l[stack.pop()] = '1'\n",
    "                l[i] = '1'\n",
    "            else:\n",
    "                # otherwise, append a negative value, meaning it's a \")\" closing parenthesis.\n",
    "                stack.append(-1)\n",
    "    # compute the longes sequence of \"1\" in l.\n",
    "    return len(max(''.join(l).split('0')))"
   ]
  },
  {
   "cell_type": "code",
   "execution_count": 93,
   "metadata": {},
   "outputs": [
    {
     "data": {
      "text/plain": [
       "2"
      ]
     },
     "execution_count": 93,
     "metadata": {},
     "output_type": "execute_result"
    }
   ],
   "source": [
    "longestValidParenthesis('(()((')"
   ]
  },
  {
   "cell_type": "code",
   "execution_count": 10,
   "metadata": {},
   "outputs": [
    {
     "data": {
      "text/plain": [
       "3"
      ]
     },
     "execution_count": 10,
     "metadata": {},
     "output_type": "execute_result"
    }
   ],
   "source": [
    "a = [1,2,3]\n",
    "a[-1]"
   ]
  },
  {
   "cell_type": "code",
   "execution_count": null,
   "metadata": {},
   "outputs": [],
   "source": []
  }
 ],
 "metadata": {
  "kernelspec": {
   "display_name": "Python 3",
   "language": "python",
   "name": "python3"
  },
  "language_info": {
   "codemirror_mode": {
    "name": "ipython",
    "version": 3
   },
   "file_extension": ".py",
   "mimetype": "text/x-python",
   "name": "python",
   "nbconvert_exporter": "python",
   "pygments_lexer": "ipython3",
   "version": "3.7.4"
  }
 },
 "nbformat": 4,
 "nbformat_minor": 2
}
