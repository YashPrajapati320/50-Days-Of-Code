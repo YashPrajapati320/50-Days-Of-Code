{
 "cells": [
  {
   "cell_type": "markdown",
   "metadata": {},
   "source": [
    "# Valid Phone Numbers"
   ]
  },
  {
   "cell_type": "code",
   "execution_count": null,
   "metadata": {},
   "outputs": [],
   "source": [
    "#Example:\n",
    "\n",
    "#Assume that file.txt has the following content:\n",
    "\n",
    "#987-123-4567\n",
    "#123 456 7890\n",
    "#(123) 456-7890\n",
    "\n",
    "#Your script should output the following valid phone numbers:\n",
    "\n",
    "#987-123-4567\n",
    "#(123) 456-7890"
   ]
  },
  {
   "cell_type": "code",
   "execution_count": 15,
   "metadata": {},
   "outputs": [
    {
     "name": "stdout",
     "output_type": "stream",
     "text": [
      "987-123-4567\n",
      "(123) 456-7890\n",
      "['']\n"
     ]
    }
   ],
   "source": [
    "import re\n",
    "file1 = open(\"MyFile.txt\",\"r+\")\n",
    "rex = re.compile(\"^(\\d{3}-|\\(\\d{3}\\) )\\d{3}-\\d{4}$\")\n",
    "for i in file1.read().split('\\n'):\n",
    "    if rex.match(i):\n",
    "        print(i)"
   ]
  },
  {
   "cell_type": "code",
   "execution_count": 11,
   "metadata": {},
   "outputs": [
    {
     "ename": "SyntaxError",
     "evalue": "invalid syntax (<ipython-input-11-9bc09c6fb9d6>, line 1)",
     "output_type": "error",
     "traceback": [
      "\u001b[1;36m  File \u001b[1;32m\"<ipython-input-11-9bc09c6fb9d6>\"\u001b[1;36m, line \u001b[1;32m1\u001b[0m\n\u001b[1;33m    cat MyFile.txt | grep -P \"^(\\d{3}-|\\(\\d{3}\\) )\\d{3}-\\d{4}$\"\u001b[0m\n\u001b[1;37m             ^\u001b[0m\n\u001b[1;31mSyntaxError\u001b[0m\u001b[1;31m:\u001b[0m invalid syntax\n"
     ]
    }
   ],
   "source": [
    "cat MyFile.txt | grep -P \"^(\\d{3}-|\\(\\d{3}\\) )\\d{3}-\\d{4}$\""
   ]
  },
  {
   "cell_type": "code",
   "execution_count": null,
   "metadata": {},
   "outputs": [],
   "source": []
  }
 ],
 "metadata": {
  "kernelspec": {
   "display_name": "Python 3",
   "language": "python",
   "name": "python3"
  },
  "language_info": {
   "codemirror_mode": {
    "name": "ipython",
    "version": 3
   },
   "file_extension": ".py",
   "mimetype": "text/x-python",
   "name": "python",
   "nbconvert_exporter": "python",
   "pygments_lexer": "ipython3",
   "version": "3.7.4"
  }
 },
 "nbformat": 4,
 "nbformat_minor": 2
}
