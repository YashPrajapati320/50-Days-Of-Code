{
 "cells": [
  {
   "cell_type": "markdown",
   "metadata": {},
   "source": [
    "# Set .union() Operation"
   ]
  },
  {
   "cell_type": "code",
   "execution_count": null,
   "metadata": {},
   "outputs": [],
   "source": [
    "#Example\n",
    "\n",
    "#>>> s = set(\"Hacker\")\n",
    "#>>> print s.union(\"Rank\")\n",
    "#set(['a', 'R', 'c', 'r', 'e', 'H', 'k', 'n'])\n",
    "\n",
    "#>>> print s.union(set(['R', 'a', 'n', 'k']))\n",
    "#set(['a', 'R', 'c', 'r', 'e', 'H', 'k', 'n'])\n",
    "\n",
    "#>>> print s.union(['R', 'a', 'n', 'k'])\n",
    "#set(['a', 'R', 'c', 'r', 'e', 'H', 'k', 'n'])\n",
    "\n",
    "#>>> print s.union(enumerate(['R', 'a', 'n', 'k']))\n",
    "#set(['a', 'c', 'r', 'e', (1, 'a'), (2, 'n'), 'H', 'k', (3, 'k'), (0, 'R')])\n",
    "\n",
    "#>>> print s.union({\"Rank\":1})\n",
    "#set(['a', 'c', 'r', 'e', 'H', 'k', 'Rank'])\n",
    "\n",
    "#>>> s | set(\"Rank\")\n",
    "#set(['a', 'R', 'c', 'r', 'e', 'H', 'k', 'n'])"
   ]
  },
  {
   "cell_type": "code",
   "execution_count": 1,
   "metadata": {},
   "outputs": [],
   "source": [
    "#Input\n",
    "\n",
    "#9\n",
    "#1 2 3 4 5 6 7 8 9\n",
    "#9\n",
    "#10 1 2 3 11 21 55 6 8\n",
    "\n",
    "#Output\n",
    "\n",
    "#13"
   ]
  },
  {
   "cell_type": "code",
   "execution_count": 13,
   "metadata": {},
   "outputs": [],
   "source": [
    "def setUnion(array1,array2):\n",
    "    print(array1)\n",
    "    print(array2)\n",
    "    print(len(array1.union(array2)))"
   ]
  },
  {
   "cell_type": "code",
   "execution_count": 11,
   "metadata": {},
   "outputs": [
    {
     "name": "stdout",
     "output_type": "stream",
     "text": [
      "\n",
      "\n",
      "\n",
      "\n",
      "set()\n",
      "set()\n",
      "set()\n"
     ]
    }
   ],
   "source": [
    "_, a = input(), set(input().split())\n",
    "_, b = input(), set(input().split())\n",
    "setUnion(a,b)"
   ]
  },
  {
   "cell_type": "code",
   "execution_count": 14,
   "metadata": {},
   "outputs": [
    {
     "name": "stdout",
     "output_type": "stream",
     "text": [
      "{1, 2, 3, 4, 5, 6, 7, 8, 9}\n",
      "{1, 2, 3, 6, 8, 10, 11, 21, 55}\n",
      "13\n"
     ]
    }
   ],
   "source": [
    "num1 = [1,2,3,4,5,6,7,8,9]\n",
    "num2 = [10,1,2,3,11,21,55,6,8]\n",
    "setUnion(set(num1),set(num2))"
   ]
  },
  {
   "cell_type": "code",
   "execution_count": null,
   "metadata": {},
   "outputs": [],
   "source": []
  }
 ],
 "metadata": {
  "kernelspec": {
   "display_name": "Python 3",
   "language": "python",
   "name": "python3"
  }
 },
 "nbformat": 4,
 "nbformat_minor": 2
}
