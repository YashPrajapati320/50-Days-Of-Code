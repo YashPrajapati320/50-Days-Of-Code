{
 "cells": [
  {
   "cell_type": "markdown",
   "metadata": {},
   "source": [
    "# Rotate Array"
   ]
  },
  {
   "cell_type": "code",
   "execution_count": 1,
   "metadata": {},
   "outputs": [],
   "source": [
    "#Example 1:\n",
    "\n",
    "#Input: nums = [1,2,3,4,5,6,7], k = 3\n",
    "#Output: [5,6,7,1,2,3,4]\n",
    "#Explanation:\n",
    "#rotate 1 steps to the right: [7,1,2,3,4,5,6]\n",
    "#rotate 2 steps to the right: [6,7,1,2,3,4,5]\n",
    "#rotate 3 steps to the right: [5,6,7,1,2,3,4]\n",
    "\n",
    "#Example 2:\n",
    "\n",
    "#Input: nums = [-1,-100,3,99], k = 2\n",
    "#Output: [3,99,-1,-100]\n",
    "#Explanation: \n",
    "#rotate 1 steps to the right: [99,-1,-100,3]\n",
    "#rotate 2 steps to the right: [3,99,-1,-100] "
   ]
  },
  {
   "cell_type": "code",
   "execution_count": 76,
   "metadata": {},
   "outputs": [],
   "source": [
    "def rotate(nums,k):\n",
    "    for i in range(k):\n",
    "        nums.insert(0, nums.pop())\n",
    "    print(nums)"
   ]
  },
  {
   "cell_type": "code",
   "execution_count": 78,
   "metadata": {},
   "outputs": [
    {
     "name": "stdout",
     "output_type": "stream",
     "text": [
      "[5, 6, 7, 1, 2, 3, 4]\n"
     ]
    }
   ],
   "source": [
    "rotate([1,2,3,4,5,6,7],3)"
   ]
  },
  {
   "cell_type": "code",
   "execution_count": 79,
   "metadata": {},
   "outputs": [
    {
     "name": "stdout",
     "output_type": "stream",
     "text": [
      "[3, 99, -1, -100]\n"
     ]
    }
   ],
   "source": [
    "rotate([-1,-100,3,99],2)"
   ]
  },
  {
   "cell_type": "code",
   "execution_count": 80,
   "metadata": {},
   "outputs": [
    {
     "name": "stdout",
     "output_type": "stream",
     "text": [
      "[2, 1]\n"
     ]
    }
   ],
   "source": [
    "rotate([1,2],3)"
   ]
  },
  {
   "cell_type": "code",
   "execution_count": null,
   "metadata": {},
   "outputs": [],
   "source": []
  }
 ],
 "metadata": {
  "kernelspec": {
   "display_name": "Python 3",
   "language": "python",
   "name": "python3"
  },
  "language_info": {
   "codemirror_mode": {
    "name": "ipython",
    "version": 3
   },
   "file_extension": ".py",
   "mimetype": "text/x-python",
   "name": "python",
   "nbconvert_exporter": "python",
   "pygments_lexer": "ipython3",
   "version": "3.7.4"
  }
 },
 "nbformat": 4,
 "nbformat_minor": 2
}
