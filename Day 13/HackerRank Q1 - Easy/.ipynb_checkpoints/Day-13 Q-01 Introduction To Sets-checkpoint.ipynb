{
 "cells": [
  {
   "cell_type": "markdown",
   "metadata": {},
   "source": [
    "# Introduction To Sets"
   ]
  },
  {
   "cell_type": "code",
   "execution_count": 17,
   "metadata": {},
   "outputs": [],
   "source": [
    "#Example\n",
    "\n",
    "#>>> print set()\n",
    "#set([])\n",
    "\n",
    "#>>> print set('HackerRank')\n",
    "#set(['a', 'c', 'e', 'H', 'k', 'n', 'r', 'R'])\n",
    "\n",
    "#>>> print set([1,2,1,2,3,4,5,6,0,9,12,22,3])\n",
    "#set([0, 1, 2, 3, 4, 5, 6, 9, 12, 22])\n",
    "\n",
    "#>>> print set((1,2,3,4,5,5))\n",
    "#set([1, 2, 3, 4, 5])\n",
    "\n",
    "#>>> print set(set(['H','a','c','k','e','r','r','a','n','k']))\n",
    "#set(['a', 'c', 'r', 'e', 'H', 'k', 'n'])\n",
    "\n",
    "#>>> print set({'Hacker' : 'DOSHI', 'Rank' : 616 })\n",
    "#set(['Hacker', 'Rank'])\n",
    "\n",
    "#>>> print set(enumerate(['H','a','c','k','e','r','r','a','n','k']))\n",
    "#set([(6, 'r'), (7, 'a'), (3, 'k'), (4, 'e'), (5, 'r'), (9, 'k'), (2, 'c'), (0, 'H'), (1, 'a'), (8, 'n')])"
   ]
  },
  {
   "cell_type": "code",
   "execution_count": 18,
   "metadata": {},
   "outputs": [],
   "source": [
    "#Input\n",
    "\n",
    "#10\n",
    "#161 182 161 154 176 170 167 171 170 174\n",
    "\n",
    "#Output\n",
    "\n",
    "#169.375"
   ]
  },
  {
   "cell_type": "code",
   "execution_count": 19,
   "metadata": {},
   "outputs": [],
   "source": [
    "def average(array):\n",
    "    print('%.3f'%(sum(set(array))/len(set(array))))"
   ]
  },
  {
   "cell_type": "code",
   "execution_count": 20,
   "metadata": {},
   "outputs": [
    {
     "name": "stdout",
     "output_type": "stream",
     "text": [
      "169.375\n"
     ]
    }
   ],
   "source": [
    "average([161,182,161,154,176,170,167,171,170,174])"
   ]
  },
  {
   "cell_type": "code",
   "execution_count": null,
   "metadata": {},
   "outputs": [],
   "source": []
  }
 ],
 "metadata": {
  "kernelspec": {
   "display_name": "Python 3",
   "language": "python",
   "name": "python3"
  },
  "language_info": {
   "codemirror_mode": {
    "name": "ipython",
    "version": 3
   },
   "file_extension": ".py",
   "mimetype": "text/x-python",
   "name": "python",
   "nbconvert_exporter": "python",
   "pygments_lexer": "ipython3",
   "version": "3.7.4"
  }
 },
 "nbformat": 4,
 "nbformat_minor": 2
}
