{
 "cells": [
  {
   "cell_type": "markdown",
   "metadata": {},
   "source": [
    "# Day-12 Q-03 Number Of 1 Bits"
   ]
  },
  {
   "cell_type": "code",
   "execution_count": 1,
   "metadata": {},
   "outputs": [],
   "source": [
    "#Example 1:\n",
    "\n",
    "#Input: 00000000000000000000000000001011\n",
    "#Output: 3\n",
    "#Explanation: The input binary string 00000000000000000000000000001011 has a total of three '1' bits.\n",
    "\n",
    "#Example 2:\n",
    "\n",
    "#Input: 00000000000000000000000010000000\n",
    "#Output: 1\n",
    "#Explanation: The input binary string 00000000000000000000000010000000 has a total of one '1' bit.\n",
    "\n",
    "#Example 3:\n",
    "\n",
    "#Input: 11111111111111111111111111111101\n",
    "#Output: 31\n",
    "#Explanation: The input binary string 11111111111111111111111111111101 has a total of thirty one '1' bits."
   ]
  },
  {
   "cell_type": "code",
   "execution_count": 36,
   "metadata": {},
   "outputs": [],
   "source": [
    "from collections import Counter\n",
    "def hammingWeight(number):\n",
    "    return bin(number).count('1')"
   ]
  },
  {
   "cell_type": "code",
   "execution_count": 38,
   "metadata": {},
   "outputs": [
    {
     "data": {
      "text/plain": [
       "2"
      ]
     },
     "execution_count": 38,
     "metadata": {},
     "output_type": "execute_result"
    }
   ],
   "source": [
    "hammingWeight(24)"
   ]
  },
  {
   "cell_type": "code",
   "execution_count": null,
   "metadata": {},
   "outputs": [],
   "source": []
  }
 ],
 "metadata": {
  "kernelspec": {
   "display_name": "Python 3",
   "language": "python",
   "name": "python3"
  },
  "language_info": {
   "codemirror_mode": {
    "name": "ipython",
    "version": 3
   },
   "file_extension": ".py",
   "mimetype": "text/x-python",
   "name": "python",
   "nbconvert_exporter": "python",
   "pygments_lexer": "ipython3",
   "version": "3.7.4"
  }
 },
 "nbformat": 4,
 "nbformat_minor": 2
}
