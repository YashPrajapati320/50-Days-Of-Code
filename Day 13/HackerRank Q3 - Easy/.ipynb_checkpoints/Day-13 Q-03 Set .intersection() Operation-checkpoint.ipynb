{
 "cells": [
  {
   "cell_type": "markdown",
   "metadata": {},
   "source": [
    "# Set .intersection() Operation"
   ]
  },
  {
   "cell_type": "code",
   "execution_count": 1,
   "metadata": {},
   "outputs": [],
   "source": [
    "#.intersection()\n",
    "#The .intersection() operator returns the intersection of a set and the set of elements in an iterable.\n",
    "#Sometimes, the & operator is used in place of the .intersection() operator, but it only operates on the set of elements in set.\n",
    "#The set is immutable to the .intersection() operation (or & operation).\n",
    "\n",
    "#>>> s = set(\"Hacker\")\n",
    "#>>> print s.intersection(\"Rank\")\n",
    "#set(['a', 'k'])\n",
    "\n",
    "#>>> print s.intersection(set(['R', 'a', 'n', 'k']))\n",
    "#set(['a', 'k'])\n",
    "\n",
    "#>>> print s.intersection(['R', 'a', 'n', 'k'])\n",
    "#set(['a', 'k'])\n",
    "\n",
    "#>>> print s.intersection(enumerate(['R', 'a', 'n', 'k']))\n",
    "#set([])\n",
    "\n",
    "#>>> print s.intersection({\"Rank\":1})\n",
    "#set([])\n",
    "\n",
    "#>>> s & set(\"Rank\")\n",
    "#set(['a', 'k'])"
   ]
  },
  {
   "cell_type": "code",
   "execution_count": 2,
   "metadata": {},
   "outputs": [],
   "source": [
    "#Input\n",
    "\n",
    "#9\n",
    "#1 2 3 4 5 6 7 8 9\n",
    "#9\n",
    "#10 1 2 3 11 21 55 6 8\n",
    "\n",
    "#Output\n",
    "\n",
    "#5"
   ]
  },
  {
   "cell_type": "code",
   "execution_count": 4,
   "metadata": {},
   "outputs": [],
   "source": [
    "def setIntersection(array1,array2):\n",
    "    print(len(array1.intersection(array2)))"
   ]
  },
  {
   "cell_type": "code",
   "execution_count": 5,
   "metadata": {},
   "outputs": [
    {
     "name": "stdout",
     "output_type": "stream",
     "text": [
      "9\n",
      "1 2 3 4 5 6 7 8 9\n",
      "9\n",
      "10 1 2 3 11 21 55 6 8\n",
      "5\n"
     ]
    }
   ],
   "source": [
    "_, a = input(), set(input().split())\n",
    "_, b = input(), set(input().split()) \n",
    "setIntersection(a,b)"
   ]
  },
  {
   "cell_type": "code",
   "execution_count": null,
   "metadata": {},
   "outputs": [],
   "source": []
  }
 ],
 "metadata": {
  "kernelspec": {
   "display_name": "Python 3",
   "language": "python",
   "name": "python3"
  },
  "language_info": {
   "codemirror_mode": {
    "name": "ipython",
    "version": 3
   },
   "file_extension": ".py",
   "mimetype": "text/x-python",
   "name": "python",
   "nbconvert_exporter": "python",
   "pygments_lexer": "ipython3",
   "version": "3.7.4"
  }
 },
 "nbformat": 4,
 "nbformat_minor": 2
}
