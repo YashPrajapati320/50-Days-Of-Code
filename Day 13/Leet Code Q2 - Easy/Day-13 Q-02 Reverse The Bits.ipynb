{
 "cells": [
  {
   "cell_type": "markdown",
   "metadata": {},
   "source": [
    "# Reverse The Bits"
   ]
  },
  {
   "cell_type": "code",
   "execution_count": 1,
   "metadata": {},
   "outputs": [],
   "source": [
    "#Example 1:\n",
    "\n",
    "#Input: 00000010100101000001111010011100\n",
    "#Output: 00111001011110000010100101000000\n",
    "#Explanation: The input binary string 00000010100101000001111010011100 represents the unsigned integer 43261596,\n",
    "#so return 964176192 which its binary representation is 00111001011110000010100101000000.\n",
    "\n",
    "#Example 2:\n",
    "\n",
    "#Input: 11111111111111111111111111111101\n",
    "#Output: 10111111111111111111111111111111\n",
    "#Explanation: The input binary string 11111111111111111111111111111101 represents the unsigned integer 4294967293,\n",
    "#so return 3221225471 which its binary representation is 10111111111111111111111111111111."
   ]
  },
  {
   "cell_type": "code",
   "execution_count": 37,
   "metadata": {},
   "outputs": [],
   "source": [
    "def reverseBits(binaryNumber):\n",
    "    print(binaryNumber)\n",
    "    bitSize = 32\n",
    "    # skip first two characters of binary \n",
    "    # representation string and reverse \n",
    "    # remaining string and then append zeros \n",
    "    # after it. binary[-1:1:-1]  --> start \n",
    "    # from last character and reverse it until \n",
    "    # second last character from left \n",
    "    reverse = binaryNumber[-1:1:-1] \n",
    "    reverse = reverse + (bitSize - len(reverse))*'0'\n",
    "  \n",
    "    # converts reversed binary string into integer \n",
    "    print(reverse)\n",
    "    print(int(reverse,2))\n",
    "    \n",
    "    #OR\n",
    "    \n",
    "    #return int(((format(n, '032b'))[::-1]),2)"
   ]
  },
  {
   "cell_type": "code",
   "execution_count": 38,
   "metadata": {},
   "outputs": [
    {
     "name": "stdout",
     "output_type": "stream",
     "text": [
      "0b10100101000001111010011100\n",
      "00111001011110000010100101000000\n",
      "964176192\n"
     ]
    }
   ],
   "source": [
    "reverseBits(bin(43261596))"
   ]
  },
  {
   "cell_type": "code",
   "execution_count": 24,
   "metadata": {},
   "outputs": [
    {
     "data": {
      "text/plain": [
       "'0b10100101000001111010011100'"
      ]
     },
     "execution_count": 24,
     "metadata": {},
     "output_type": "execute_result"
    }
   ],
   "source": [
    "bin(43261596)"
   ]
  },
  {
   "cell_type": "code",
   "execution_count": null,
   "metadata": {},
   "outputs": [],
   "source": []
  }
 ],
 "metadata": {
  "kernelspec": {
   "display_name": "Python 3",
   "language": "python",
   "name": "python3"
  },
  "language_info": {
   "codemirror_mode": {
    "name": "ipython",
    "version": 3
   },
   "file_extension": ".py",
   "mimetype": "text/x-python",
   "name": "python",
   "nbconvert_exporter": "python",
   "pygments_lexer": "ipython3",
   "version": "3.7.4"
  }
 },
 "nbformat": 4,
 "nbformat_minor": 2
}
