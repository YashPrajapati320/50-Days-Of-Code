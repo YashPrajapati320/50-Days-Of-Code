{
 "cells": [
  {
   "cell_type": "markdown",
   "metadata": {},
   "source": [
    "# Set Mutations"
   ]
  },
  {
   "cell_type": "code",
   "execution_count": 1,
   "metadata": {},
   "outputs": [],
   "source": [
    "#.update() or |=\n",
    "#Update the set by adding elements from an iterable/another set.\n",
    "\n",
    "#>>> H = set(\"Hacker\")\n",
    "#>>> R = set(\"Rank\")\n",
    "#>>> H.update(R)\n",
    "#>>> print H\n",
    "#set(['a', 'c', 'e', 'H', 'k', 'n', 'r', 'R'])\n",
    "\n",
    "#.intersection_update() or &=\n",
    "#Update the set by keeping only the elements found in it and an iterable/another set.\n",
    "\n",
    "#>>> H = set(\"Hacker\")\n",
    "#>>> R = set(\"Rank\")\n",
    "#>>> H.intersection_update(R)\n",
    "#>>> print H\n",
    "#set(['a', 'k'])\n",
    "\n",
    "#.difference_update() or -=\n",
    "#Update the set by removing elements found in an iterable/another set.\n",
    "\n",
    "#>>> H = set(\"Hacker\")\n",
    "#>>> R = set(\"Rank\")\n",
    "#>>> H.difference_update(R)\n",
    "#>>> print H\n",
    "#set(['c', 'e', 'H', 'r'])\n",
    "\n",
    "#.symmetric_difference_update() or ^=\n",
    "#Update the set by only keeping the elements found in either set, but not in both.\n",
    "\n",
    "#>>> H = set(\"Hacker\")\n",
    "#>>> R = set(\"Rank\")\n",
    "#>>> H.symmetric_difference_update(R)\n",
    "#>>> print H\n",
    "#set(['c', 'e', 'H', 'n', 'r', 'R'])"
   ]
  },
  {
   "cell_type": "code",
   "execution_count": 2,
   "metadata": {},
   "outputs": [],
   "source": [
    "#Input\n",
    "\n",
    "#16\n",
    "#1 2 3 4 5 6 7 8 9 10 11 12 13 14 24 52\n",
    "#4\n",
    " \n",
    "#intersection_update 10\n",
    "#2 3 5 6 8 9 1 4 7 11\n",
    "\n",
    "#update 2\n",
    "#55 66\n",
    " \n",
    "#symmetric_difference_update 5\n",
    "#22 7 35 62 58\n",
    " \n",
    "#difference_update 7\n",
    "#11 22 35 55 58 62 66\n",
    "\n",
    "#Output\n",
    "\n",
    "#38"
   ]
  },
  {
   "cell_type": "code",
   "execution_count": 3,
   "metadata": {},
   "outputs": [
    {
     "name": "stdout",
     "output_type": "stream",
     "text": [
      "16\n",
      "1 2 3 4 5 6 7 8 9 10 11 12 13 14 24 52\n",
      "4\n",
      "intersection_update 10\n",
      "2 3 5 6 8 9 1 4 7 11\n",
      "update 2\n",
      "55 66\n",
      "symmetric_difference_update 5\n",
      "22 7 35 62 58\n",
      "difference_update 7\n",
      "11 22 35 55 58 62 66\n",
      "38\n"
     ]
    }
   ],
   "source": [
    "_ = int(input())\n",
    "s1 = set(map(int, input().split()))\n",
    "N = int(input())\n",
    "\n",
    "for _ in range(N):\n",
    "    cmd, _ = input().split()\n",
    "    s2 = set(map(int, input().split()))\n",
    "    if(cmd == \"intersection_update\"):\n",
    "        s1.intersection_update(s2)\n",
    "    elif(cmd == \"update\"):\n",
    "        s1.update(s2)\n",
    "    elif(cmd == \"symmetric_difference_update\"):\n",
    "        s1.symmetric_difference_update(s2)\n",
    "    elif(cmd == \"difference_update\"):\n",
    "        s1.difference_update(s2)\n",
    "\n",
    "print(sum(s1))"
   ]
  },
  {
   "cell_type": "code",
   "execution_count": null,
   "metadata": {},
   "outputs": [],
   "source": []
  }
 ],
 "metadata": {
  "kernelspec": {
   "display_name": "Python 3",
   "language": "python",
   "name": "python3"
  },
  "language_info": {
   "codemirror_mode": {
    "name": "ipython",
    "version": 3
   },
   "file_extension": ".py",
   "mimetype": "text/x-python",
   "name": "python",
   "nbconvert_exporter": "python",
   "pygments_lexer": "ipython3",
   "version": "3.7.4"
  }
 },
 "nbformat": 4,
 "nbformat_minor": 2
}
