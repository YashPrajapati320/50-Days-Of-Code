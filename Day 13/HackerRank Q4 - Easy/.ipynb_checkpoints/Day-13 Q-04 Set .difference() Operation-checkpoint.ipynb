{
 "cells": [
  {
   "cell_type": "markdown",
   "metadata": {},
   "source": [
    "# Set .difference() Operation"
   ]
  },
  {
   "cell_type": "code",
   "execution_count": 1,
   "metadata": {},
   "outputs": [],
   "source": [
    "#.difference()\n",
    "#The tool .difference() returns a set with all the elements from the set that are not in an iterable.\n",
    "#Sometimes the - operator is used in place of the .difference() tool, but it only operates on the set of elements in set.\n",
    "#Set is immutable to the .difference() operation (or the - operation).\n",
    "\n",
    "#>>> s = set(\"Hacker\")\n",
    "#>>> print s.difference(\"Rank\")\n",
    "#set(['c', 'r', 'e', 'H'])\n",
    "\n",
    "#>>> print s.difference(set(['R', 'a', 'n', 'k']))\n",
    "#set(['c', 'r', 'e', 'H'])\n",
    "\n",
    "#>>> print s.difference(['R', 'a', 'n', 'k'])\n",
    "#set(['c', 'r', 'e', 'H'])\n",
    "\n",
    "#>>> print s.difference(enumerate(['R', 'a', 'n', 'k']))\n",
    "#set(['a', 'c', 'r', 'e', 'H', 'k'])\n",
    "\n",
    "#>>> print s.difference({\"Rank\":1})\n",
    "#set(['a', 'c', 'e', 'H', 'k', 'r'])\n",
    "\n",
    "#>>> s - set(\"Rank\")\n",
    "#set(['H', 'c', 'r', 'e'])"
   ]
  },
  {
   "cell_type": "code",
   "execution_count": 2,
   "metadata": {},
   "outputs": [],
   "source": [
    "#Input\n",
    "\n",
    "#9\n",
    "#1 2 3 4 5 6 7 8 9\n",
    "#9\n",
    "#10 1 2 3 11 21 55 6 8\n",
    "\n",
    "#Output\n",
    "\n",
    "#4"
   ]
  },
  {
   "cell_type": "code",
   "execution_count": 3,
   "metadata": {},
   "outputs": [],
   "source": [
    "def setDifference(array1,array2):\n",
    "    print(len(array1.difference(array2)))"
   ]
  },
  {
   "cell_type": "code",
   "execution_count": 5,
   "metadata": {},
   "outputs": [
    {
     "name": "stdout",
     "output_type": "stream",
     "text": [
      "9\n",
      "1 2 3 4 5 6 7 8 9\n",
      "9\n",
      "10 1 2 3 11 21 55 6 8\n",
      "4\n"
     ]
    }
   ],
   "source": [
    "_, a = input(), set(input().split())\n",
    "_, b = input(), set(input().split()) \n",
    "setDifference(a,b)"
   ]
  },
  {
   "cell_type": "code",
   "execution_count": null,
   "metadata": {},
   "outputs": [],
   "source": []
  }
 ],
 "metadata": {
  "kernelspec": {
   "display_name": "Python 3",
   "language": "python",
   "name": "python3"
  },
  "language_info": {
   "codemirror_mode": {
    "name": "ipython",
    "version": 3
   },
   "file_extension": ".py",
   "mimetype": "text/x-python",
   "name": "python",
   "nbconvert_exporter": "python",
   "pygments_lexer": "ipython3",
   "version": "3.7.4"
  }
 },
 "nbformat": 4,
 "nbformat_minor": 2
}
