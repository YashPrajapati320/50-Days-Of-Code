{
 "cells": [
  {
   "cell_type": "markdown",
   "metadata": {},
   "source": [
    "# Set .symmetric_difference() Operation"
   ]
  },
  {
   "cell_type": "code",
   "execution_count": 1,
   "metadata": {},
   "outputs": [],
   "source": [
    "#.symmetric_difference()\n",
    "#The .symmetric_difference() operator returns a set with all the elements that are in the set and the iterable but not both.\n",
    "#Sometimes, a ^ operator is used in place of the .symmetric_difference() tool, but it only operates on the set of elements in set.\n",
    "#The set is immutable to the .symmetric_difference() operation (or ^ operation).\n",
    "\n",
    "#>>> s = set(\"Hacker\")\n",
    "#>>> print s.symmetric_difference(\"Rank\")\n",
    "#set(['c', 'e', 'H', 'n', 'R', 'r'])\n",
    "\n",
    "#>>> print s.symmetric_difference(set(['R', 'a', 'n', 'k']))\n",
    "#set(['c', 'e', 'H', 'n', 'R', 'r'])\n",
    "\n",
    "#>>> print s.symmetric_difference(['R', 'a', 'n', 'k'])\n",
    "#set(['c', 'e', 'H', 'n', 'R', 'r'])\n",
    "\n",
    "#>>> print s.symmetric_difference(enumerate(['R', 'a', 'n', 'k']))\n",
    "#set(['a', 'c', 'e', 'H', (0, 'R'), 'r', (2, 'n'), 'k', (1, 'a'), (3, 'k')])\n",
    "\n",
    "#>>> print s.symmetric_difference({\"Rank\":1})\n",
    "#set(['a', 'c', 'e', 'H', 'k', 'Rank', 'r'])\n",
    "\n",
    "#>>> s ^ set(\"Rank\")\n",
    "#set(['c', 'e', 'H', 'n', 'R', 'r'])"
   ]
  },
  {
   "cell_type": "code",
   "execution_count": 2,
   "metadata": {},
   "outputs": [],
   "source": [
    "#Input\n",
    "\n",
    "#9\n",
    "#1 2 3 4 5 6 7 8 9\n",
    "#9\n",
    "#10 1 2 3 11 21 55 6 8\n",
    "\n",
    "#Output\n",
    "\n",
    "#8"
   ]
  },
  {
   "cell_type": "code",
   "execution_count": 3,
   "metadata": {},
   "outputs": [],
   "source": [
    "def setSymmetricDifference(array1,array2):\n",
    "    print(len(array1.symmetric_difference(array2)))"
   ]
  },
  {
   "cell_type": "code",
   "execution_count": 6,
   "metadata": {},
   "outputs": [
    {
     "name": "stdout",
     "output_type": "stream",
     "text": [
      "9\n",
      "1 2 3 4 5 6 7 8 9\n",
      "9\n",
      "10 1 2 3 11 21 55 6 8\n",
      "8\n"
     ]
    }
   ],
   "source": [
    "_,a = input(),set(input().split())\n",
    "_,b = input(),set(input().split())\n",
    "setSymmetricDifference(a,b)"
   ]
  },
  {
   "cell_type": "code",
   "execution_count": null,
   "metadata": {},
   "outputs": [],
   "source": []
  }
 ],
 "metadata": {
  "kernelspec": {
   "display_name": "Python 3",
   "language": "python",
   "name": "python3"
  },
  "language_info": {
   "codemirror_mode": {
    "name": "ipython",
    "version": 3
   },
   "file_extension": ".py",
   "mimetype": "text/x-python",
   "name": "python",
   "nbconvert_exporter": "python",
   "pygments_lexer": "ipython3",
   "version": "3.7.4"
  }
 },
 "nbformat": 4,
 "nbformat_minor": 2
}
