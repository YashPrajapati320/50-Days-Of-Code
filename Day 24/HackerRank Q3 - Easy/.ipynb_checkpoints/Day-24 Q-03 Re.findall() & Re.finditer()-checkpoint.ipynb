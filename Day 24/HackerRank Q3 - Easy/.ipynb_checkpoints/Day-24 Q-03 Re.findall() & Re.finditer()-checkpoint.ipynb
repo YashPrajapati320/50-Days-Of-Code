{
 "cells": [
  {
   "cell_type": "markdown",
   "metadata": {},
   "source": [
    "# Re.findall() & Re.finditer()"
   ]
  },
  {
   "cell_type": "code",
   "execution_count": 1,
   "metadata": {},
   "outputs": [],
   "source": [
    "#Sample Input\n",
    "\n",
    "#rabcdeefgyYhFjkIoomnpOeorteeeeet\n",
    "\n",
    "#Sample Output\n",
    "\n",
    "#ee\n",
    "#Ioo\n",
    "#Oeo\n",
    "#eeeee\n",
    "\n",
    "#You are given a string S. It consists of alphanumeric characters, spaces and symbols(+,-).\n",
    "#Your task is to find all the substrings of S that contains 2 or more vowels.\n",
    "#Also, these substrings must lie in between 2 consonants and should contain vowels only."
   ]
  },
  {
   "cell_type": "code",
   "execution_count": 2,
   "metadata": {},
   "outputs": [
    {
     "name": "stdout",
     "output_type": "stream",
     "text": [
      "rabcdeefgyYhFjkIoomnpOeorteeeeet\n",
      "ee\n",
      "Ioo\n",
      "Oeo\n",
      "eeeee\n"
     ]
    }
   ],
   "source": [
    "import re\n",
    "s = '[qwrtypsdfghjklzxcvbnm]'\n",
    "a = re.findall('(?<=' + s +')([aeiou]{2,})' + s, input(), re.I)\n",
    "print('\\n'.join(a or ['-1']))"
   ]
  },
  {
   "cell_type": "code",
   "execution_count": null,
   "metadata": {},
   "outputs": [],
   "source": []
  }
 ],
 "metadata": {
  "kernelspec": {
   "display_name": "Python 3",
   "language": "python",
   "name": "python3"
  },
  "language_info": {
   "codemirror_mode": {
    "name": "ipython",
    "version": 3
   },
   "file_extension": ".py",
   "mimetype": "text/x-python",
   "name": "python",
   "nbconvert_exporter": "python",
   "pygments_lexer": "ipython3",
   "version": "3.7.4"
  }
 },
 "nbformat": 4,
 "nbformat_minor": 2
}
