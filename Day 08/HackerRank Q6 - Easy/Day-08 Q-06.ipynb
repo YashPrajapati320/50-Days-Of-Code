{
 "cells": [
  {
   "cell_type": "markdown",
   "metadata": {},
   "source": [
    "# Set .discard(), .remove(), .pop() "
   ]
  },
  {
   "cell_type": "raw",
   "metadata": {},
   "source": [
    "Sample Input\n",
    "\n",
    "9\n",
    "1 2 3 4 5 6 7 8 9\n",
    "10\n",
    "pop\n",
    "remove 9\n",
    "discard 9\n",
    "discard 8\n",
    "remove 7\n",
    "pop \n",
    "discard 6\n",
    "remove 5\n",
    "pop \n",
    "discard 5\n",
    "\n",
    "Sample Output\n",
    "\n",
    "4"
   ]
  },
  {
   "cell_type": "raw",
   "metadata": {},
   "source": [
    "Using eval():\n",
    "\n",
    "The eval() method parses the expression passed to it and runs python expression(code) within the program.\n",
    "\n",
    "The syntax of eval is:\n",
    "\n",
    "eval(expression, globals=None, locals=None)\n",
    "expression: this string is parsed and evaluated as a Python expression\n",
    "globals (optional): a dictionary to specify the available global methods and variables.\n",
    "locals (optional): another dictionary to specify the available local methods and variables."
   ]
  },
  {
   "cell_type": "code",
   "execution_count": 4,
   "metadata": {},
   "outputs": [
    {
     "name": "stdout",
     "output_type": "stream",
     "text": [
      "9\n",
      "1 2 3 4 5 6 7 8 9\n",
      "10\n",
      "pop\n",
      "remove 9\n",
      "discard 9\n",
      "discard 8\n",
      "remove 7\n",
      "pop\n",
      "discard 6\n",
      "remove 5\n",
      "pop\n",
      "discard 5\n",
      "4\n"
     ]
    }
   ],
   "source": [
    "n = int(input())\n",
    "s = set(map(int, input().split())) \n",
    "for i in range(int(input())):\n",
    "    eval('s.{0}({1})'.format(*input().split()+['']))\n",
    "\n",
    "print(sum(s))"
   ]
  },
  {
   "cell_type": "raw",
   "metadata": {},
   "source": [
    ".remove(x)\n",
    "This operation removes element  from the set.\n",
    "If element  does not exist, it raises a KeyError.\n",
    "The .remove(x) operation returns None.\n",
    "\n",
    "Example\n",
    "\n",
    ">>> s = set([1, 2, 3, 4, 5, 6, 7, 8, 9])\n",
    ">>> s.remove(5)\n",
    ">>> print s\n",
    "set([1, 2, 3, 4, 6, 7, 8, 9])\n",
    ">>> print s.remove(4)\n",
    "None\n",
    ">>> print s\n",
    "set([1, 2, 3, 6, 7, 8, 9])\n",
    ">>> s.remove(0)\n",
    "KeyError: 0\n",
    ".discard(x)\n",
    "This operation also removes element  from the set.\n",
    "If element  does not exist, it does not raise a KeyError.\n",
    "The .discard(x) operation returns None.\n",
    "\n",
    "Example\n",
    "\n",
    ">>> s = set([1, 2, 3, 4, 5, 6, 7, 8, 9])\n",
    ">>> s.discard(5)\n",
    ">>> print s\n",
    "set([1, 2, 3, 4, 6, 7, 8, 9])\n",
    ">>> print s.discard(4)\n",
    "None\n",
    ">>> print s\n",
    "set([1, 2, 3, 6, 7, 8, 9])\n",
    ">>> s.discard(0)\n",
    ">>> print s\n",
    "set([1, 2, 3, 6, 7, 8, 9])\n",
    ".pop()\n",
    "This operation removes and return an arbitrary element from the set.\n",
    "If there are no elements to remove, it raises a KeyError.\n",
    "\n",
    "Example\n",
    "\n",
    ">>> s = set([1])\n",
    ">>> print s.pop()\n",
    "1\n",
    ">>> print s\n",
    "set([])\n",
    ">>> print s.pop()\n",
    "KeyError: pop from an empty set"
   ]
  }
 ],
 "metadata": {
  "kernelspec": {
   "display_name": "Python 3",
   "language": "python",
   "name": "python3"
  }
 },
 "nbformat": 4,
 "nbformat_minor": 2
}
