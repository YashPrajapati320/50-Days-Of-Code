{
 "cells": [
  {
   "cell_type": "markdown",
   "metadata": {},
   "source": [
    "# Symmetric Tree"
   ]
  },
  {
   "cell_type": "raw",
   "metadata": {},
   "source": [
    "For example, this binary tree [1,2,2,3,4,4,3] is symmetric:\n",
    "\n",
    "    1\n",
    "   / \\\n",
    "  2   2\n",
    " / \\ / \\\n",
    "3  4 4  3\n",
    " \n",
    "\n",
    "But the following [1,2,2,null,3,null,3] is not:\n",
    "\n",
    "    1\n",
    "   / \\\n",
    "  2   2\n",
    "   \\   \\\n",
    "   3    3"
   ]
  },
  {
   "cell_type": "code",
   "execution_count": 12,
   "metadata": {},
   "outputs": [
    {
     "name": "stdout",
     "output_type": "stream",
     "text": [
      "Binary tree : \n",
      "  3\n",
      " / \\\n",
      "4   8\n",
      "\n"
     ]
    }
   ],
   "source": [
    "from binarytree import Node \n",
    "root = Node(3) \n",
    "root.left = Node(4) \n",
    "root.right = Node(8) \n",
    "  \n",
    "# Getting binary tree \n",
    "print('Binary tree :', root) "
   ]
  },
  {
   "cell_type": "code",
   "execution_count": 11,
   "metadata": {},
   "outputs": [
    {
     "name": "stdout",
     "output_type": "stream",
     "text": [
      "[Node(3)]\n"
     ]
    }
   ],
   "source": [
    "node = list(root)\n",
    "print(node)"
   ]
  },
  {
   "cell_type": "code",
   "execution_count": 15,
   "metadata": {},
   "outputs": [],
   "source": [
    "class TreeNode:\n",
    "    def __init__(self, val=0, left=None, right=None):\n",
    "        self.val = val\n",
    "        self.left = left\n",
    "        self.right = right\n",
    "class Solution:\n",
    "    def isSymmetric(self, root: TreeNode) -> bool:\n",
    "        \n",
    "        if not root:\n",
    "            return True\n",
    "        \n",
    "        left=root.left\n",
    "        right=root.right\n",
    "        \n",
    "        if not left and not right:\n",
    "            return True\n",
    "        \n",
    "        def check(t1, t2):\n",
    "            if not t1 and not t2:\n",
    "                return True\n",
    "            if t1 and not t2:\n",
    "                return False\n",
    "            if not t1 and t2:\n",
    "                return False\n",
    "            if t1.val!=t2.val:\n",
    "                return False\n",
    "            return check(t1.left, t2.right) and check(t1.right, t2.left)\n",
    "        \n",
    "        return check(left, right)"
   ]
  },
  {
   "cell_type": "code",
   "execution_count": null,
   "metadata": {},
   "outputs": [],
   "source": []
  }
 ],
 "metadata": {
  "kernelspec": {
   "display_name": "Python 3",
   "language": "python",
   "name": "python3"
  },
  "language_info": {
   "codemirror_mode": {
    "name": "ipython",
    "version": 3
   },
   "file_extension": ".py",
   "mimetype": "text/x-python",
   "name": "python",
   "nbconvert_exporter": "python",
   "pygments_lexer": "ipython3",
   "version": "3.7.4"
  }
 },
 "nbformat": 4,
 "nbformat_minor": 2
}
