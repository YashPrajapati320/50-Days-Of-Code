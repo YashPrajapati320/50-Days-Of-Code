{
 "cells": [
  {
   "cell_type": "markdown",
   "metadata": {},
   "source": [
    "# Symmetric Difference"
   ]
  },
  {
   "cell_type": "raw",
   "metadata": {},
   "source": [
    "Sample Input\n",
    "\n",
    "4\n",
    "2 4 5 9\n",
    "4\n",
    "2 4 11 12\n",
    "\n",
    "Sample Output\n",
    "\n",
    "5\n",
    "9\n",
    "11\n",
    "12"
   ]
  },
  {
   "cell_type": "code",
   "execution_count": 22,
   "metadata": {},
   "outputs": [],
   "source": [
    "def symmDiff(num1,num2):\n",
    "    number = (num1.difference(num2)).union(num2.difference(num1))\n",
    "    return sorted(number)"
   ]
  },
  {
   "cell_type": "code",
   "execution_count": 23,
   "metadata": {},
   "outputs": [
    {
     "data": {
      "text/plain": [
       "[5, 9, 11, 12]"
      ]
     },
     "execution_count": 23,
     "metadata": {},
     "output_type": "execute_result"
    }
   ],
   "source": [
    "symmDiff({2,4,5,9},{2,4,11,12})"
   ]
  },
  {
   "cell_type": "raw",
   "metadata": {},
   "source": [
    "New data type: Sets.\n",
    "\n",
    "Concept\n",
    "\n",
    "If the inputs are given on one line separated by a space character, use split() to get the separate values in the form of a list:\n",
    "\n",
    ">> a = raw_input()\n",
    "5 4 3 2\n",
    ">> lis = a.split()\n",
    ">> print (lis)\n",
    "['5', '4', '3', '2']\n",
    "If the list values are all integer types, use the map() method to convert all the strings to integers.\n",
    "\n",
    ">> newlis = list(map(int, lis))\n",
    ">> print (newlis)\n",
    "[5, 4, 3, 2]\n",
    "Sets are an unordered bag of unique values. A single set contains values of any immutable data type.\n",
    "\n",
    "CREATING SETS\n",
    "\n",
    ">> myset = {1, 2} # Directly assigning values to a set\n",
    ">> myset = set()  # Initializing a set\n",
    ">> myset = set(['a', 'b']) # Creating a set from a list\n",
    ">> myset\n",
    "{'a', 'b'}\n",
    "\n",
    "\n",
    "MODIFYING SETS\n",
    "\n",
    "Using the add() function:\n",
    "\n",
    ">> myset.add('c')\n",
    ">> myset\n",
    "{'a', 'c', 'b'}\n",
    ">> myset.add('a') # As 'a' already exists in the set, nothing happens\n",
    ">> myset.add((5, 4))\n",
    ">> myset\n",
    "{'a', 'c', 'b', (5, 4)}\n",
    "\n",
    "Using the update() function:\n",
    "\n",
    ">> myset.update([1, 2, 3, 4]) # update() only works for iterable objects\n",
    ">> myset\n",
    "{'a', 1, 'c', 'b', 4, 2, (5, 4), 3}\n",
    ">> myset.update({1, 7, 8})\n",
    ">> myset\n",
    "{'a', 1, 'c', 'b', 4, 7, 8, 2, (5, 4), 3}\n",
    ">> myset.update({1, 6}, [5, 13])\n",
    ">> myset\n",
    "{'a', 1, 'c', 'b', 4, 5, 6, 7, 8, 2, (5, 4), 13, 3}\n",
    "\n",
    "REMOVING ITEMS\n",
    "\n",
    "Both the discard() and remove() functions take a single value as an argument and removes that value from the set. If that value is not present, discard() does nothing, but remove() will raise a KeyError exception.\n",
    "\n",
    ">> myset.discard(10)\n",
    ">> myset\n",
    "{'a', 1, 'c', 'b', 4, 5, 7, 8, 2, 12, (5, 4), 13, 11, 3}\n",
    ">> myset.remove(13)\n",
    ">> myset\n",
    "{'a', 1, 'c', 'b', 4, 5, 7, 8, 2, 12, (5, 4), 11, 3}\n",
    "\n",
    "\n",
    "COMMON SET OPERATIONS Using union(), intersection() and difference() functions.\n",
    "\n",
    ">> a = {2, 4, 5, 9}\n",
    ">> b = {2, 4, 11, 12}\n",
    ">> a.union(b) # Values which exist in a or b\n",
    "{2, 4, 5, 9, 11, 12}\n",
    ">> a.intersection(b) # Values which exist in a and b\n",
    "{2, 4}\n",
    ">> a.difference(b) # Values which exist in a but not in b\n",
    "{9, 5}\n",
    "\n",
    "The union() and intersection() functions are symmetric methods:\n",
    "\n",
    ">> a.union(b) == b.union(a)\n",
    "True\n",
    ">> a.intersection(b) == b.intersection(a)\n",
    "True\n",
    ">> a.difference(b) == b.difference(a)\n",
    "False"
   ]
  },
  {
   "cell_type": "code",
   "execution_count": 15,
   "metadata": {},
   "outputs": [
    {
     "name": "stdout",
     "output_type": "stream",
     "text": [
      "2 4 5 9\n",
      "2 4 11 12\n",
      "7\n",
      "{' ', '2', '9', '4', '5'} {'2', ' ', '1', '4'}\n",
      "1\n",
      "5\n",
      "9\n"
     ]
    }
   ],
   "source": [
    "n1 = str(input())\n",
    "n2 = str(input())\n",
    "array1,array2=[],[]\n",
    "print(len(n1))\n",
    "for i in n1:\n",
    "    array1.append(i)\n",
    "for i in n2:\n",
    "    array2.append(i)\n",
    "print(set(array1),set(array2))\n",
    "number = (set(array1).difference(set(array2)).union(set(array2).difference(set(array1))))\n",
    "for i in sorted(number):\n",
    "    print(i)"
   ]
  },
  {
   "cell_type": "code",
   "execution_count": 37,
   "metadata": {},
   "outputs": [
    {
     "name": "stdout",
     "output_type": "stream",
     "text": [
      "{'9', '5'}\n",
      "{'11', '12'}\n",
      "{'9', '5', '11', '12'}\n",
      "['11', '12', '5', '9']\n"
     ]
    }
   ],
   "source": [
    "a = sorted(set(n1.split(' ')).difference(set(n2.split(' '))))\n",
    "b = set(n2.split(' ')).difference(set(n1.split(' ')))\n",
    "print(set(a))\n",
    "print(b)\n",
    "result = set(sorted(a)).union(set(sorted(b)))\n",
    "print(result)\n",
    "print(sorted(result))"
   ]
  },
  {
   "cell_type": "code",
   "execution_count": 1,
   "metadata": {},
   "outputs": [
    {
     "name": "stdout",
     "output_type": "stream",
     "text": [
      "4\n",
      "2 4 5 9\n",
      "4\n",
      "2 4 11 12\n",
      "5\n",
      "9\n",
      "11\n",
      "12\n"
     ]
    }
   ],
   "source": [
    "a,b=(int(input()),input().split())\n",
    "c,d=(int(input()),input().split())\n",
    "x=set(b)\n",
    "y=set(d)\n",
    "p=y.difference(x)\n",
    "q=x.difference(y)\n",
    "r=p.union(q)\n",
    "print ('\\n'.join(sorted(r, key=int)))"
   ]
  },
  {
   "cell_type": "code",
   "execution_count": null,
   "metadata": {},
   "outputs": [],
   "source": []
  }
 ],
 "metadata": {
  "kernelspec": {
   "display_name": "Python 3",
   "language": "python",
   "name": "python3"
  },
  "language_info": {
   "codemirror_mode": {
    "name": "ipython",
    "version": 3
   },
   "file_extension": ".py",
   "mimetype": "text/x-python",
   "name": "python",
   "nbconvert_exporter": "python",
   "pygments_lexer": "ipython3",
   "version": "3.7.4"
  }
 },
 "nbformat": 4,
 "nbformat_minor": 2
}
