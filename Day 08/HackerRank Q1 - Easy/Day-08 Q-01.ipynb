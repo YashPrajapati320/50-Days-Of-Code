{
 "cells": [
  {
   "cell_type": "markdown",
   "metadata": {},
   "source": [
    "# Lists Operation"
   ]
  },
  {
   "cell_type": "raw",
   "metadata": {},
   "source": [
    "Sample Input 0\n",
    "\n",
    "12\n",
    "insert 0 5\n",
    "insert 1 10\n",
    "insert 0 6\n",
    "print\n",
    "remove 6\n",
    "append 9\n",
    "append 1\n",
    "sort\n",
    "print\n",
    "pop\n",
    "reverse\n",
    "print\n",
    "\n",
    "Sample Output 0\n",
    "\n",
    "[6, 5, 10]\n",
    "[1, 5, 9, 10]\n",
    "[9, 5, 1]"
   ]
  },
  {
   "cell_type": "code",
   "execution_count": null,
   "metadata": {},
   "outputs": [],
   "source": [
    "if __name__ == '__main__':    \n",
    "    T = int(input().strip())\n",
    "\n",
    "    L = []\n",
    "    for t in range(T):\n",
    "        args = input().strip().split(\" \")\n",
    "        if args[0] == \"append\":\n",
    "            L.append(int(args[1]))\n",
    "        elif args[0] == \"insert\":\n",
    "            L.insert(int(args[1]), int(args[2]))\n",
    "        elif args[0] == \"remove\":\n",
    "            L.remove(int(args[1]))\n",
    "        elif args[0] == \"pop\":\n",
    "            L.pop()\n",
    "        elif args[0] == \"sort\":\n",
    "            L.sort()\n",
    "        elif args[0] == \"reverse\":\n",
    "            L.reverse()\n",
    "        elif args[0] == \"print\":\n",
    "            print(L)"
   ]
  },
  {
   "cell_type": "code",
   "execution_count": null,
   "metadata": {},
   "outputs": [],
   "source": []
  }
 ],
 "metadata": {
  "kernelspec": {
   "display_name": "Python 3",
   "language": "python",
   "name": "python3"
  },
  "language_info": {
   "codemirror_mode": {
    "name": "ipython",
    "version": 3
   },
   "file_extension": ".py",
   "mimetype": "text/x-python",
   "name": "python",
   "nbconvert_exporter": "python",
   "pygments_lexer": "ipython3",
   "version": "3.7.4"
  }
 },
 "nbformat": 4,
 "nbformat_minor": 2
}
