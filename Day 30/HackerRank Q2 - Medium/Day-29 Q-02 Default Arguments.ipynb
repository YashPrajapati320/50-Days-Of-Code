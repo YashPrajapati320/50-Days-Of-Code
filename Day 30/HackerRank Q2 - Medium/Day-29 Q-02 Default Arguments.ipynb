{
 "cells": [
  {
   "cell_type": "markdown",
   "metadata": {},
   "source": [
    "# Default Arguments"
   ]
  },
  {
   "cell_type": "code",
   "execution_count": 1,
   "metadata": {},
   "outputs": [],
   "source": [
    "#Sample Input 0\n",
    "\n",
    "#3\n",
    "#odd 2\n",
    "#even 3\n",
    "#odd 5\n",
    "\n",
    "#Sample Output 0\n",
    "\n",
    "#1\n",
    "#3\n",
    "#0\n",
    "#2\n",
    "#4\n",
    "#1\n",
    "#3\n",
    "#5\n",
    "#7\n",
    "#9"
   ]
  },
  {
   "cell_type": "code",
   "execution_count": 2,
   "metadata": {},
   "outputs": [
    {
     "name": "stdout",
     "output_type": "stream",
     "text": [
      "3\n",
      "odd 2\n",
      "1\n",
      "3\n",
      "even 3\n",
      "0\n",
      "2\n",
      "4\n",
      "odd 5\n",
      "1\n",
      "3\n",
      "5\n",
      "7\n",
      "9\n"
     ]
    }
   ],
   "source": [
    "class EvenStream(object):\n",
    "    def __init__(self):\n",
    "        self.current = 0\n",
    "\n",
    "    def get_next(self):\n",
    "        to_return = self.current\n",
    "        self.current += 2\n",
    "        return to_return\n",
    "\n",
    "class OddStream(object):\n",
    "    def __init__(self):\n",
    "        self.current = 1\n",
    "\n",
    "    def get_next(self):\n",
    "        to_return = self.current\n",
    "        self.current += 2\n",
    "        return to_return\n",
    "\n",
    "def print_from_stream(n, stream=EvenStream()):\n",
    "    stream.__init__()\n",
    "    for _ in range(n):\n",
    "        print(stream.get_next())\n",
    "\n",
    "queries = int(input())\n",
    "for _ in range(queries):\n",
    "    stream_name, n = input().split()\n",
    "    n = int(n)\n",
    "    if stream_name == \"even\":\n",
    "        print_from_stream(n)\n",
    "    else:\n",
    "        print_from_stream(n, OddStream())\n"
   ]
  },
  {
   "cell_type": "code",
   "execution_count": null,
   "metadata": {},
   "outputs": [],
   "source": []
  }
 ],
 "metadata": {
  "kernelspec": {
   "display_name": "Python 3",
   "language": "python",
   "name": "python3"
  },
  "language_info": {
   "codemirror_mode": {
    "name": "ipython",
    "version": 3
   },
   "file_extension": ".py",
   "mimetype": "text/x-python",
   "name": "python",
   "nbconvert_exporter": "python",
   "pygments_lexer": "ipython3",
   "version": "3.7.4"
  }
 },
 "nbformat": 4,
 "nbformat_minor": 2
}
