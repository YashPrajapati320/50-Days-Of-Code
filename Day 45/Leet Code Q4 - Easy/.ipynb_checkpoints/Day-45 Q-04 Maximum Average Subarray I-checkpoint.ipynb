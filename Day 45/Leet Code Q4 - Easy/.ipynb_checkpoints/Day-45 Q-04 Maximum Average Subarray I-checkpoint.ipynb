{
 "cells": [
  {
   "cell_type": "markdown",
   "metadata": {},
   "source": [
    "# Maximum Average Subarray I"
   ]
  },
  {
   "cell_type": "code",
   "execution_count": 1,
   "metadata": {},
   "outputs": [],
   "source": [
    "#Example 1:\n",
    "\n",
    "#Input: [1,12,-5,-6,50,3], k = 4\n",
    "#Output: 12.75\n",
    "#Explanation: Maximum average is (12-5-6+50)/4 = 51/4 = 12.75"
   ]
  },
  {
   "cell_type": "code",
   "execution_count": 16,
   "metadata": {},
   "outputs": [],
   "source": [
    "class Solution:\n",
    "    def findMaxAverage(nums, k):\n",
    "        result = []\n",
    "        for w in range(1, len(nums)+1):\n",
    "            for i in range(len(nums)-w+1):\n",
    "                if len(nums[i:i+w]) == 4:\n",
    "                    result.append(nums[i:i+w])\n",
    "        for i in range(0,len(result)):\n",
    "            result[i] = sum(result[i])/len(result[i])\n",
    "        return max(result)"
   ]
  },
  {
   "cell_type": "code",
   "execution_count": 17,
   "metadata": {},
   "outputs": [
    {
     "data": {
      "text/plain": [
       "12.75"
      ]
     },
     "execution_count": 17,
     "metadata": {},
     "output_type": "execute_result"
    }
   ],
   "source": [
    "Solution.findMaxAverage([1,12,-5,-6,50,3],4)"
   ]
  },
  {
   "cell_type": "code",
   "execution_count": 18,
   "metadata": {},
   "outputs": [],
   "source": [
    "import numpy as np"
   ]
  },
  {
   "cell_type": "code",
   "execution_count": 19,
   "metadata": {},
   "outputs": [],
   "source": [
    "def maxAverage(nums,k):    \n",
    "    sums = np.cumsum([0] + nums)\n",
    "    return int(max(sums[k:] - sums[:-k])) / k"
   ]
  },
  {
   "cell_type": "code",
   "execution_count": 21,
   "metadata": {},
   "outputs": [
    {
     "data": {
      "text/plain": [
       "12.75"
      ]
     },
     "execution_count": 21,
     "metadata": {},
     "output_type": "execute_result"
    }
   ],
   "source": [
    "maxAverage([1,12,-5,-6,50,3],4)"
   ]
  },
  {
   "cell_type": "code",
   "execution_count": null,
   "metadata": {},
   "outputs": [],
   "source": []
  }
 ],
 "metadata": {
  "kernelspec": {
   "display_name": "Python 3",
   "language": "python",
   "name": "python3"
  },
  "language_info": {
   "codemirror_mode": {
    "name": "ipython",
    "version": 3
   },
   "file_extension": ".py",
   "mimetype": "text/x-python",
   "name": "python",
   "nbconvert_exporter": "python",
   "pygments_lexer": "ipython3",
   "version": "3.7.4"
  }
 },
 "nbformat": 4,
 "nbformat_minor": 2
}
