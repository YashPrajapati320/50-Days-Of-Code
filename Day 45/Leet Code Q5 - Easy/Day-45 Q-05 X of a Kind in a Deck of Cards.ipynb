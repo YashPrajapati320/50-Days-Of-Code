{
 "cells": [
  {
   "cell_type": "markdown",
   "metadata": {},
   "source": [
    "# X of a Kind in a Deck of Cards"
   ]
  },
  {
   "cell_type": "code",
   "execution_count": 1,
   "metadata": {},
   "outputs": [],
   "source": [
    "#Example 1:\n",
    "\n",
    "#Input: deck = [1,2,3,4,4,3,2,1]\n",
    "#Output: true\n",
    "#Explanation: Possible partition [1,1],[2,2],[3,3],[4,4].\n",
    "\n",
    "#Example 2:\n",
    "\n",
    "#Input: deck = [1,1,1,2,2,2,3,3]\n",
    "#Output: false´\n",
    "#Explanation: No possible partition.\n",
    "\n",
    "#Example 3:\n",
    "\n",
    "#Input: deck = [1]\n",
    "#Output: false\n",
    "#Explanation: No possible partition.\n",
    "\n",
    "#Example 4:\n",
    "\n",
    "#Input: deck = [1,1]\n",
    "#Output: true\n",
    "#Explanation: Possible partition [1,1].\n",
    "\n",
    "#Example 5:\n",
    "\n",
    "#Input: deck = [1,1,2,2,2,2]\n",
    "#Output: true\n",
    "#Explanation: Possible partition [1,1],[2,2],[2,2]."
   ]
  },
  {
   "cell_type": "code",
   "execution_count": 5,
   "metadata": {},
   "outputs": [],
   "source": [
    "from functools import reduce\n",
    "from math import gcd\n",
    "from collections import Counter\n",
    "class Solution:\n",
    "    def hasGroupsSizeX(deck):\n",
    "        return reduce(gcd,Counter(deck).values()) != 1"
   ]
  },
  {
   "cell_type": "code",
   "execution_count": 6,
   "metadata": {},
   "outputs": [
    {
     "data": {
      "text/plain": [
       "True"
      ]
     },
     "execution_count": 6,
     "metadata": {},
     "output_type": "execute_result"
    }
   ],
   "source": [
    "Solution.hasGroupsSizeX([1,1,2,2,2,2])"
   ]
  },
  {
   "cell_type": "code",
   "execution_count": null,
   "metadata": {},
   "outputs": [],
   "source": []
  }
 ],
 "metadata": {
  "kernelspec": {
   "display_name": "Python 3",
   "language": "python",
   "name": "python3"
  },
  "language_info": {
   "codemirror_mode": {
    "name": "ipython",
    "version": 3
   },
   "file_extension": ".py",
   "mimetype": "text/x-python",
   "name": "python",
   "nbconvert_exporter": "python",
   "pygments_lexer": "ipython3",
   "version": "3.7.4"
  }
 },
 "nbformat": 4,
 "nbformat_minor": 2
}
