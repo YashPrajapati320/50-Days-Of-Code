{
 "cells": [
  {
   "cell_type": "markdown",
   "metadata": {},
   "source": [
    "# Valid Triangle Number"
   ]
  },
  {
   "cell_type": "code",
   "execution_count": 1,
   "metadata": {},
   "outputs": [],
   "source": [
    "#Example 1:\n",
    "#Input: [2,2,3,4]\n",
    "#Output: 3\n",
    "#Explanation:\n",
    "#Valid combinations are: \n",
    "#2,3,4 (using the first 2)\n",
    "#2,3,4 (using the second 2)\n",
    "#2,2,3"
   ]
  },
  {
   "cell_type": "code",
   "execution_count": 9,
   "metadata": {},
   "outputs": [],
   "source": [
    "from itertools import combinations\n",
    "class Solution:\n",
    "    def triangleNumber(nums):\n",
    "        result = []\n",
    "        array = []\n",
    "        for i in combinations(nums,3):\n",
    "            result.append(list(i))\n",
    "        for i in result:\n",
    "            if i[0] + i[1] > i[2]:\n",
    "                array.append(i)\n",
    "        print(array)\n",
    "        return len(array)"
   ]
  },
  {
   "cell_type": "code",
   "execution_count": 10,
   "metadata": {},
   "outputs": [
    {
     "name": "stdout",
     "output_type": "stream",
     "text": [
      "[[2, 2, 3], [2, 3, 4], [2, 3, 4]]\n"
     ]
    },
    {
     "data": {
      "text/plain": [
       "3"
      ]
     },
     "execution_count": 10,
     "metadata": {},
     "output_type": "execute_result"
    }
   ],
   "source": [
    "Solution.triangleNumber([2,2,3,4])"
   ]
  },
  {
   "cell_type": "code",
   "execution_count": null,
   "metadata": {},
   "outputs": [],
   "source": [
    "# Better Solution\n",
    "class Solution:\n",
    "    def triangle(nums):\n",
    "        nums.sort()\n",
    "        count=0\n",
    "        for i in range(len(nums)-2):\n",
    "            k=i+2\n",
    "            for j in range(i+1,len(nums)-1):\n",
    "                if nums[i]==0: continue\n",
    "                while k<len(nums) and nums[i] + nums[j] > nums[k]:\n",
    "                    k+=1\n",
    "                count+=k-j-1\n",
    "        return count"
   ]
  }
 ],
 "metadata": {
  "kernelspec": {
   "display_name": "Python 3",
   "language": "python",
   "name": "python3"
  },
  "language_info": {
   "codemirror_mode": {
    "name": "ipython",
    "version": 3
   },
   "file_extension": ".py",
   "mimetype": "text/x-python",
   "name": "python",
   "nbconvert_exporter": "python",
   "pygments_lexer": "ipython3",
   "version": "3.7.4"
  }
 },
 "nbformat": 4,
 "nbformat_minor": 2
}
