{
 "cells": [
  {
   "cell_type": "markdown",
   "metadata": {},
   "source": [
    "# Word Search"
   ]
  },
  {
   "cell_type": "code",
   "execution_count": 1,
   "metadata": {},
   "outputs": [],
   "source": [
    "#Example:\n",
    "\n",
    "#board =\n",
    "#[\n",
    "#  ['A','B','C','E'],\n",
    "#  ['S','F','C','S'],\n",
    "#  ['A','D','E','E']\n",
    "#]\n",
    "\n",
    "#Given word = \"ABCCED\", return true.\n",
    "#Given word = \"SEE\", return true.\n",
    "#Given word = \"ABCB\", return false."
   ]
  },
  {
   "cell_type": "code",
   "execution_count": 17,
   "metadata": {},
   "outputs": [],
   "source": [
    "class Solution:\n",
    "    def exist(board, word):\n",
    "        def search(board, i, j, word):\n",
    "            \n",
    "            if(len(word) == 0):\n",
    "                return True\n",
    "            \n",
    "            if(i < 0  or i >= len(board) or j < 0 or j >= len(board[0]) or board[i][j] != word[0]):\n",
    "                return False\n",
    "            \n",
    "            temp = board[i][j]\n",
    "            board[i][j] = '$'\n",
    "            \n",
    "            result = search(board, i+1, j, word[1:]) or search(board, i-1, j, word[1:]) or search(board, i, j+1, word[1:]) or search(board, i, j-1, word[1:])\n",
    "            \n",
    "            board[i][j] = temp\n",
    "            print(temp)\n",
    "            return result\n",
    "                \n",
    "        for i in range(len(board)):\n",
    "            for j in range(len(board[0])):\n",
    "                if search(board, i, j, word):           \n",
    "                    return True\n",
    "        return False"
   ]
  },
  {
   "cell_type": "code",
   "execution_count": 18,
   "metadata": {},
   "outputs": [
    {
     "name": "stdout",
     "output_type": "stream",
     "text": [
      "D\n",
      "E\n",
      "C\n",
      "C\n",
      "B\n",
      "A\n"
     ]
    },
    {
     "data": {
      "text/plain": [
       "True"
      ]
     },
     "execution_count": 18,
     "metadata": {},
     "output_type": "execute_result"
    }
   ],
   "source": [
    "Solution.exist([['A','B','C','E'],['S','F','C','S'],['A','D','E','E']], 'ABCCED')"
   ]
  },
  {
   "cell_type": "code",
   "execution_count": null,
   "metadata": {},
   "outputs": [],
   "source": []
  },
  {
   "cell_type": "code",
   "execution_count": null,
   "metadata": {},
   "outputs": [],
   "source": []
  }
 ],
 "metadata": {
  "kernelspec": {
   "display_name": "Python 3",
   "language": "python",
   "name": "python3"
  }
 },
 "nbformat": 4,
 "nbformat_minor": 2
}
