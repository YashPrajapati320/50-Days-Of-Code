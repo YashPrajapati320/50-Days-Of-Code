{
 "cells": [
  {
   "cell_type": "markdown",
   "metadata": {},
   "source": [
    "# Combination Sum"
   ]
  },
  {
   "cell_type": "code",
   "execution_count": 1,
   "metadata": {},
   "outputs": [],
   "source": [
    "#Example 1:\n",
    "\n",
    "#Input: candidates = [2,3,6,7], target = 7,\n",
    "#A solution set is:\n",
    "#[\n",
    "#  [7],\n",
    "#  [2,2,3]\n",
    "#]\n",
    "\n",
    "#Example 2:\n",
    "\n",
    "#Input: candidates = [2,3,5], target = 8,\n",
    "#A solution set is:\n",
    "#[\n",
    "#  [2,2,2,2],\n",
    "#  [2,3,3],\n",
    "#  [3,5]\n",
    "#]"
   ]
  },
  {
   "cell_type": "code",
   "execution_count": 2,
   "metadata": {},
   "outputs": [],
   "source": [
    "def combinationSum(candidates, target):\n",
    "    result = []\n",
    "    candidates = sorted(candidates)\n",
    "    def dfs(remain, stack):\n",
    "        if remain == 0:\n",
    "            result.append(stack)\n",
    "            return \n",
    "\n",
    "        for item in candidates:\n",
    "            if item > remain: break\n",
    "            if stack and item < stack[-1]: continue\n",
    "            else:\n",
    "                dfs(remain - item, stack + [item])\n",
    "\n",
    "    dfs(target, [])\n",
    "    return result"
   ]
  },
  {
   "cell_type": "code",
   "execution_count": 3,
   "metadata": {},
   "outputs": [
    {
     "data": {
      "text/plain": [
       "[[2, 2, 2, 2], [2, 3, 3], [3, 5]]"
      ]
     },
     "execution_count": 3,
     "metadata": {},
     "output_type": "execute_result"
    }
   ],
   "source": [
    "combinationSum([2,3,5],8)"
   ]
  },
  {
   "cell_type": "code",
   "execution_count": null,
   "metadata": {},
   "outputs": [],
   "source": []
  }
 ],
 "metadata": {
  "kernelspec": {
   "display_name": "Python 3",
   "language": "python",
   "name": "python3"
  },
  "language_info": {
   "codemirror_mode": {
    "name": "ipython",
    "version": 3
   },
   "file_extension": ".py",
   "mimetype": "text/x-python",
   "name": "python",
   "nbconvert_exporter": "python",
   "pygments_lexer": "ipython3",
   "version": "3.7.4"
  }
 },
 "nbformat": 4,
 "nbformat_minor": 2
}
