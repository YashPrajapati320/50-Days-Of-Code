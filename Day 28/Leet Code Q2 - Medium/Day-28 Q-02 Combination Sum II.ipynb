{
 "cells": [
  {
   "cell_type": "markdown",
   "metadata": {},
   "source": [
    "# Combination Sum II"
   ]
  },
  {
   "cell_type": "code",
   "execution_count": 1,
   "metadata": {},
   "outputs": [],
   "source": [
    "#Example 1:\n",
    "\n",
    "#Input: candidates = [10,1,2,7,6,1,5], target = 8,\n",
    "#A solution set is:\n",
    "#[\n",
    "#  [1, 7],\n",
    "#  [1, 2, 5],\n",
    "#  [2, 6],\n",
    "#  [1, 1, 6]\n",
    "#]\n",
    "\n",
    "#Example 2:\n",
    "\n",
    "#Input: candidates = [2,5,2,1,2], target = 5,\n",
    "#A solution set is:\n",
    "#[\n",
    "#  [1,2,2],\n",
    "#  [5]\n",
    "#]"
   ]
  },
  {
   "cell_type": "code",
   "execution_count": 2,
   "metadata": {},
   "outputs": [],
   "source": [
    "def combinationSum2(candidates, target):\n",
    "    dp = [set([()])] + [set([]) for i in range(target)]\n",
    "    for c in sorted(candidates):\n",
    "        for n in range(target, c - 1, -1):\n",
    "            dp[n] |= {t + (c,) for t in dp[n - c]}\n",
    "    return [list(t) for t in dp[target]]"
   ]
  },
  {
   "cell_type": "code",
   "execution_count": 3,
   "metadata": {},
   "outputs": [
    {
     "data": {
      "text/plain": [
       "[[1, 2, 2], [5]]"
      ]
     },
     "execution_count": 3,
     "metadata": {},
     "output_type": "execute_result"
    }
   ],
   "source": [
    "combinationSum2([2,5,2,1,2],5)"
   ]
  },
  {
   "cell_type": "code",
   "execution_count": null,
   "metadata": {},
   "outputs": [],
   "source": []
  }
 ],
 "metadata": {
  "kernelspec": {
   "display_name": "Python 3",
   "language": "python",
   "name": "python3"
  },
  "language_info": {
   "codemirror_mode": {
    "name": "ipython",
    "version": 3
   },
   "file_extension": ".py",
   "mimetype": "text/x-python",
   "name": "python",
   "nbconvert_exporter": "python",
   "pygments_lexer": "ipython3",
   "version": "3.7.4"
  }
 },
 "nbformat": 4,
 "nbformat_minor": 2
}
