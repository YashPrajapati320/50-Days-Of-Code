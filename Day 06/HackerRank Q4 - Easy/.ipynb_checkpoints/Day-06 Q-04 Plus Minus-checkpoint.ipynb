{
 "cells": [
  {
   "cell_type": "markdown",
   "metadata": {},
   "source": [
    "# Plus Minus"
   ]
  },
  {
   "cell_type": "raw",
   "metadata": {},
   "source": [
    "Sample Input\n",
    "\n",
    "6\n",
    "-4 3 -9 0 4 1         \n",
    "\n",
    "Sample Output\n",
    "\n",
    "0.500000\n",
    "0.333333\n",
    "0.166667"
   ]
  },
  {
   "cell_type": "code",
   "execution_count": 5,
   "metadata": {},
   "outputs": [],
   "source": [
    "def plusMinus(arr):\n",
    "    positive = 0\n",
    "    negative = 0 \n",
    "    zero = 0\n",
    "    length = len(arr)\n",
    "    for i in arr:\n",
    "        if i > 0:\n",
    "            positive += 1\n",
    "        elif i < 0:\n",
    "            negative += 1\n",
    "        elif i == 0:\n",
    "            zero +=1\n",
    "    print(round((positive/length),5))\n",
    "    print(round((negative/length),5))\n",
    "    print(round((zero/length),5))"
   ]
  },
  {
   "cell_type": "code",
   "execution_count": 6,
   "metadata": {},
   "outputs": [
    {
     "name": "stdout",
     "output_type": "stream",
     "text": [
      "0.5\n",
      "0.33333\n",
      "0.16667\n"
     ]
    }
   ],
   "source": [
    "plusMinus([-4,3,-9,0,4,1])"
   ]
  },
  {
   "cell_type": "code",
   "execution_count": null,
   "metadata": {},
   "outputs": [],
   "source": []
  }
 ],
 "metadata": {
  "kernelspec": {
   "display_name": "Python 3",
   "language": "python",
   "name": "python3"
  },
  "language_info": {
   "codemirror_mode": {
    "name": "ipython",
    "version": 3
   },
   "file_extension": ".py",
   "mimetype": "text/x-python",
   "name": "python",
   "nbconvert_exporter": "python",
   "pygments_lexer": "ipython3",
   "version": "3.7.4"
  }
 },
 "nbformat": 4,
 "nbformat_minor": 2
}
