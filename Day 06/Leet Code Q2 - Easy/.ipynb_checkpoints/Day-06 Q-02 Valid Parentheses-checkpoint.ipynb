{
 "cells": [
  {
   "cell_type": "markdown",
   "metadata": {},
   "source": [
    "# Valid Parentheses"
   ]
  },
  {
   "cell_type": "raw",
   "metadata": {},
   "source": [
    "Input: \"()\"\n",
    "Output: true"
   ]
  },
  {
   "cell_type": "code",
   "execution_count": 61,
   "metadata": {},
   "outputs": [],
   "source": [
    "def isValid(s):\n",
    "    s = list(s)\n",
    "    count = 0\n",
    "    for i in s:\n",
    "        if i == '(' or i == '[' or i == '{':\n",
    "            count +=1\n",
    "            if i == ')' or i == ']' or i == '}':\n",
    "                count -=1\n",
    "        elif i == ')' or i == ']' or i == '}':\n",
    "            count-=1\n",
    "    if count==0:\n",
    "        return True\n",
    "    else:\n",
    "        return False"
   ]
  },
  {
   "cell_type": "code",
   "execution_count": 63,
   "metadata": {},
   "outputs": [
    {
     "data": {
      "text/plain": [
       "True"
      ]
     },
     "execution_count": 63,
     "metadata": {},
     "output_type": "execute_result"
    }
   ],
   "source": [
    "isValid('(]')"
   ]
  },
  {
   "cell_type": "code",
   "execution_count": 71,
   "metadata": {},
   "outputs": [],
   "source": [
    "import collections\n",
    "def valid(s):  \n",
    "    stack=collections.deque()\n",
    "    for value in s:\n",
    "        if not stack:\n",
    "            stack.append(value)\n",
    "        else:\n",
    "            if stack[-1]=='(' and value ==')':\n",
    "                stack.pop()\n",
    "            elif stack[-1]=='[' and value ==']':\n",
    "                stack.pop()\n",
    "            elif stack[-1]=='{' and value =='}':\n",
    "                stack.pop()\n",
    "            else :\n",
    "                stack.append(value)  \n",
    "    if stack:\n",
    "        return False\n",
    "    return True"
   ]
  },
  {
   "cell_type": "code",
   "execution_count": 72,
   "metadata": {},
   "outputs": [
    {
     "data": {
      "text/plain": [
       "False"
      ]
     },
     "execution_count": 72,
     "metadata": {},
     "output_type": "execute_result"
    }
   ],
   "source": [
    "valid('(]')"
   ]
  },
  {
   "cell_type": "code",
   "execution_count": null,
   "metadata": {},
   "outputs": [],
   "source": []
  }
 ],
 "metadata": {
  "kernelspec": {
   "display_name": "Python 3",
   "language": "python",
   "name": "python3"
  },
  "language_info": {
   "codemirror_mode": {
    "name": "ipython",
    "version": 3
   },
   "file_extension": ".py",
   "mimetype": "text/x-python",
   "name": "python",
   "nbconvert_exporter": "python",
   "pygments_lexer": "ipython3",
   "version": "3.7.4"
  }
 },
 "nbformat": 4,
 "nbformat_minor": 2
}
