{
 "cells": [
  {
   "cell_type": "markdown",
   "metadata": {},
   "source": [
    "# Insert Interval"
   ]
  },
  {
   "cell_type": "code",
   "execution_count": 1,
   "metadata": {},
   "outputs": [],
   "source": [
    "#Example 1:\n",
    "\n",
    "#Input: intervals = [[1,3],[6,9]], newInterval = [2,5]\n",
    "#Output: [[1,5],[6,9]]\n",
    "\n",
    "#Example 2:\n",
    "\n",
    "#Input: intervals = [[1,2],[3,5],[6,7],[8,10],[12,16]], newInterval = [4,8]\n",
    "#Output: [[1,2],[3,10],[12,16]]\n",
    "#Explanation: Because the new interval [4,8] overlaps with [3,5],[6,7],[8,10]."
   ]
  },
  {
   "cell_type": "code",
   "execution_count": 7,
   "metadata": {},
   "outputs": [],
   "source": [
    "from itertools import chain\n",
    "def insert(intervals,newIntervals):\n",
    "    merged,t,l = [], 0, len(intervals)       \n",
    "    for curr in intervals:\n",
    "            \n",
    "    # If interval[i] completely smaller than new one\n",
    "        if newIntervals[0]>curr[1]:\n",
    "            merged.append(curr)\n",
    "             \n",
    "        # If interval[i] completely greater than new\n",
    "        elif curr[0]>newIntervals[1]:\n",
    "            break\n",
    "             \n",
    "        # If interval[i] is overlapping with new\n",
    "        else:              \n",
    "            # choose minm and maxm boundaries from both\n",
    "            newIntervals[0] = min(newIntervals[0], curr[0])\n",
    "            newIntervals[1] = max(newIntervals[1], curr[1])\n",
    "            \n",
    "        t+=1\n",
    "            \n",
    "    # Apeending last new interval\n",
    "    merged.append(newIntervals)\n",
    "        \n",
    "    # Now understand this part\n",
    "    # i) If new part extend till end than simply return merged ones\n",
    "    # ii) If not till end than return merged + remainling intervals\n",
    "    return merged+intervals[t:] if t<l else merged"
   ]
  },
  {
   "cell_type": "code",
   "execution_count": 8,
   "metadata": {},
   "outputs": [
    {
     "data": {
      "text/plain": [
       "[[1, 2], [3, 10], [12, 16]]"
      ]
     },
     "execution_count": 8,
     "metadata": {},
     "output_type": "execute_result"
    }
   ],
   "source": [
    "insert([[1,2],[3,5],[6,7],[8,10],[12,16]],[4,8])"
   ]
  },
  {
   "cell_type": "code",
   "execution_count": 92,
   "metadata": {},
   "outputs": [
    {
     "name": "stdout",
     "output_type": "stream",
     "text": [
      "[1, 3]\n",
      "[[1, 5], [6, 9]]\n"
     ]
    }
   ],
   "source": [
    "insert([[1,3],[6,9]],[2,5])"
   ]
  },
  {
   "cell_type": "code",
   "execution_count": 93,
   "metadata": {},
   "outputs": [
    {
     "name": "stdout",
     "output_type": "stream",
     "text": [
      "[1, 5]\n"
     ]
    },
    {
     "name": "stderr",
     "output_type": "stream",
     "text": [
      "\n",
      "KeyboardInterrupt\n",
      "\n"
     ]
    }
   ],
   "source": [
    "insert([[1,5],[10,11],[15,2147483647]],[5,7])"
   ]
  },
  {
   "cell_type": "code",
   "execution_count": null,
   "metadata": {},
   "outputs": [],
   "source": []
  }
 ],
 "metadata": {
  "kernelspec": {
   "display_name": "Python 3",
   "language": "python",
   "name": "python3"
  },
  "language_info": {
   "codemirror_mode": {
    "name": "ipython",
    "version": 3
   },
   "file_extension": ".py",
   "mimetype": "text/x-python",
   "name": "python",
   "nbconvert_exporter": "python",
   "pygments_lexer": "ipython3",
   "version": "3.7.4"
  }
 },
 "nbformat": 4,
 "nbformat_minor": 2
}
