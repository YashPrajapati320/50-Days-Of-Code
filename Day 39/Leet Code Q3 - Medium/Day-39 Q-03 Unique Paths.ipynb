{
 "cells": [
  {
   "cell_type": "markdown",
   "metadata": {},
   "source": [
    "# Unique Paths"
   ]
  },
  {
   "cell_type": "code",
   "execution_count": 1,
   "metadata": {},
   "outputs": [],
   "source": [
    "#Example 1:\n",
    "\n",
    "#Input: m = 3, n = 2\n",
    "#Output: 3\n",
    "#Explanation:\n",
    "#From the top-left corner, there are a total of 3 ways to reach the bottom-right corner:\n",
    "#1. Right -> Right -> Down\n",
    "#2. Right -> Down -> Right\n",
    "#3. Down -> Right -> Right\n",
    "\n",
    "#Example 2:\n",
    "\n",
    "#Input: m = 7, n = 3\n",
    "#Output: 28"
   ]
  },
  {
   "cell_type": "code",
   "execution_count": 2,
   "metadata": {},
   "outputs": [],
   "source": [
    "class Solution:\n",
    "    def uniquePaths(m, n):\n",
    "        table = [[0 for x in range(n)] for x in range(m)]\n",
    "        for i in range(m):\n",
    "            table[i][0] = 1\n",
    "        for i in range(n):\n",
    "            table[0][i] = 1\n",
    "        for i in range(1,m):\n",
    "            for j in range(1,n):\n",
    "                table[i][j] = table[i-1][j] + table[i][j-1]\n",
    "        return table[m-1][n-1]"
   ]
  },
  {
   "cell_type": "code",
   "execution_count": 3,
   "metadata": {},
   "outputs": [
    {
     "data": {
      "text/plain": [
       "28"
      ]
     },
     "execution_count": 3,
     "metadata": {},
     "output_type": "execute_result"
    }
   ],
   "source": [
    "Solution.uniquePaths(7,3)"
   ]
  },
  {
   "cell_type": "code",
   "execution_count": null,
   "metadata": {},
   "outputs": [],
   "source": []
  }
 ],
 "metadata": {
  "kernelspec": {
   "display_name": "Python 3",
   "language": "python",
   "name": "python3"
  },
  "language_info": {
   "codemirror_mode": {
    "name": "ipython",
    "version": 3
   },
   "file_extension": ".py",
   "mimetype": "text/x-python",
   "name": "python",
   "nbconvert_exporter": "python",
   "pygments_lexer": "ipython3",
   "version": "3.7.4"
  }
 },
 "nbformat": 4,
 "nbformat_minor": 2
}
