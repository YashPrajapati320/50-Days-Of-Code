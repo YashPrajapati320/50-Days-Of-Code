{
 "cells": [
  {
   "cell_type": "markdown",
   "metadata": {},
   "source": [
    "# Replace All ?'s to Avoid Consecutive Repeating Characters"
   ]
  },
  {
   "cell_type": "code",
   "execution_count": 1,
   "metadata": {},
   "outputs": [],
   "source": [
    "#Example 1:\n",
    "\n",
    "#Input: s = \"?zs\"\n",
    "#Output: \"azs\"\n",
    "#Explanation: There are 25 solutions for this problem. From \"azs\" to \"yzs\", all are valid. Only \"z\" is an invalid modification as the string will consist of consecutive repeating characters in \"zzs\".\n",
    "\n",
    "#Example 2:\n",
    "\n",
    "#Input: s = \"ubv?w\"\n",
    "#Output: \"ubvaw\"\n",
    "#Explanation: There are 24 solutions for this problem. Only \"v\" and \"w\" are invalid modifications as the strings will consist of consecutive repeating characters in \"ubvvw\" and \"ubvww\".\n",
    "\n",
    "#Example 3:\n",
    "\n",
    "#Input: s = \"j?qg??b\"\n",
    "#Output: \"jaqgacb\"\n",
    "\n",
    "#Example 4:\n",
    "\n",
    "#Input: s = \"??yw?ipkj?\"\n",
    "#Output: \"acywaipkja\""
   ]
  },
  {
   "cell_type": "code",
   "execution_count": 72,
   "metadata": {},
   "outputs": [],
   "source": [
    "import random\n",
    "import string\n",
    "def modifyString(s):\n",
    "    ans = list(s)\n",
    "    for i in range(len(ans)):\n",
    "        if ans[i] == '?':\n",
    "            neighbors = []\n",
    "            if i > 0 and ans[i-1] != '?':\n",
    "                neighbors.append(ord(ans[i-1]) - ord('a'))\n",
    "            if i < len(ans)-1 and ans[i+1] != '?':\n",
    "                neighbors.append(ord(ans[i+1]) - ord('a'))\n",
    "            ans[i] = chr(ord('a') + (max(neighbors + [0]) + 1) % 26)\n",
    "    return ''.join(ans)\n",
    "            "
   ]
  },
  {
   "cell_type": "code",
   "execution_count": 73,
   "metadata": {},
   "outputs": [
    {
     "data": {
      "text/plain": [
       "'bzywxipkjk'"
      ]
     },
     "execution_count": 73,
     "metadata": {},
     "output_type": "execute_result"
    }
   ],
   "source": [
    "modifyString('??yw?ipkj?')"
   ]
  },
  {
   "cell_type": "code",
   "execution_count": 53,
   "metadata": {},
   "outputs": [
    {
     "name": "stdout",
     "output_type": "stream",
     "text": [
      "122\n"
     ]
    }
   ],
   "source": [
    "print(ord('z'))"
   ]
  },
  {
   "cell_type": "code",
   "execution_count": 59,
   "metadata": {},
   "outputs": [
    {
     "data": {
      "text/plain": [
       "109"
      ]
     },
     "execution_count": 59,
     "metadata": {},
     "output_type": "execute_result"
    }
   ],
   "source": [
    "random.randint(97,122)"
   ]
  },
  {
   "cell_type": "code",
   "execution_count": null,
   "metadata": {},
   "outputs": [],
   "source": []
  }
 ],
 "metadata": {
  "kernelspec": {
   "display_name": "Python 3",
   "language": "python",
   "name": "python3"
  },
  "language_info": {
   "codemirror_mode": {
    "name": "ipython",
    "version": 3
   },
   "file_extension": ".py",
   "mimetype": "text/x-python",
   "name": "python",
   "nbconvert_exporter": "python",
   "pygments_lexer": "ipython3",
   "version": "3.7.4"
  }
 },
 "nbformat": 4,
 "nbformat_minor": 2
}
