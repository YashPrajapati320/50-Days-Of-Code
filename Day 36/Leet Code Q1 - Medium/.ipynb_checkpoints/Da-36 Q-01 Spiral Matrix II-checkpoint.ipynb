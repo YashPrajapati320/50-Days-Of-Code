{
 "cells": [
  {
   "cell_type": "markdown",
   "metadata": {},
   "source": [
    "# Spiral Matrix II"
   ]
  },
  {
   "cell_type": "code",
   "execution_count": 1,
   "metadata": {},
   "outputs": [],
   "source": [
    "#Example:\n",
    "\n",
    "#Input: 3\n",
    "#Output:\n",
    "#[\n",
    "# [ 1, 2, 3 ],\n",
    "# [ 8, 9, 4 ],\n",
    "# [ 7, 6, 5 ]\n",
    "#]"
   ]
  },
  {
   "cell_type": "code",
   "execution_count": 68,
   "metadata": {},
   "outputs": [],
   "source": [
    "import numpy as np\n",
    "def generateMatrix(n):\n",
    "    result = [[0 for i in range(n)] for j in range(n)]\n",
    "    coord = [[(i,j) for j in range(n)] for i in range(n)]\n",
    "    #print(result)\n",
    "    #print(coord)\n",
    "    count = 1\n",
    "\n",
    "    while coord:\n",
    "        print(coord)\n",
    "        for x, y in coord.pop(0):\n",
    "            result[x][y] = count\n",
    "            count += 1\n",
    "        coord = list(zip(*coord))[::-1]\n",
    "        print(coord)\n",
    "\n",
    "    return result"
   ]
  },
  {
   "cell_type": "code",
   "execution_count": 69,
   "metadata": {},
   "outputs": [
    {
     "name": "stdout",
     "output_type": "stream",
     "text": [
      "[[(0, 0), (0, 1), (0, 2)], [(1, 0), (1, 1), (1, 2)], [(2, 0), (2, 1), (2, 2)]]\n",
      "[((1, 2), (2, 2)), ((1, 1), (2, 1)), ((1, 0), (2, 0))]\n",
      "[((1, 2), (2, 2)), ((1, 1), (2, 1)), ((1, 0), (2, 0))]\n",
      "[((2, 1), (2, 0)), ((1, 1), (1, 0))]\n",
      "[((2, 1), (2, 0)), ((1, 1), (1, 0))]\n",
      "[((1, 0),), ((1, 1),)]\n",
      "[((1, 0),), ((1, 1),)]\n",
      "[((1, 1),)]\n",
      "[((1, 1),)]\n",
      "[]\n"
     ]
    },
    {
     "data": {
      "text/plain": [
       "[[1, 2, 3], [8, 9, 4], [7, 6, 5]]"
      ]
     },
     "execution_count": 69,
     "metadata": {},
     "output_type": "execute_result"
    }
   ],
   "source": [
    "generateMatrix(3)"
   ]
  },
  {
   "cell_type": "code",
   "execution_count": null,
   "metadata": {},
   "outputs": [],
   "source": []
  }
 ],
 "metadata": {
  "kernelspec": {
   "display_name": "Python 3",
   "language": "python",
   "name": "python3"
  },
  "language_info": {
   "codemirror_mode": {
    "name": "ipython",
    "version": 3
   },
   "file_extension": ".py",
   "mimetype": "text/x-python",
   "name": "python",
   "nbconvert_exporter": "python",
   "pygments_lexer": "ipython3",
   "version": "3.7.4"
  }
 },
 "nbformat": 4,
 "nbformat_minor": 2
}
